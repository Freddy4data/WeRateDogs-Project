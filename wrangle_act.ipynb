{
 "cells": [
  {
   "cell_type": "markdown",
   "id": "261f9d78",
   "metadata": {},
   "source": [
    "# Data Wrangling Project\n",
    "#### On WeRateDogs"
   ]
  },
  {
   "cell_type": "markdown",
   "id": "366edaf4",
   "metadata": {},
   "source": [
    "## Table of Contents\n",
    "- [Introduction](#intro)\n",
    "- [Gathering data](#gather)\n",
    "- [Assessing data](#assess)\n",
    "   - [Quality](#quality)\n",
    "   - [Tidiness](#tidiness)\n",
    "- [Cleaning data](#clean)\n",
    "- [Storing, Analyzing, and Visualizing](#storing)\n",
    "   - [Insights & visualization](#one)\n",
    "   "
   ]
  },
  {
   "cell_type": "markdown",
   "id": "848550e9",
   "metadata": {},
   "source": [
    "# Introduction\n",
    "\n",
    "\n",
    "Real-world data rarely comes clean. Using Python and its libraries, you will gather data from a variety of sources and in a variety of formats, assess its quality and tidiness, then clean it. This is called data wrangling. You will document your wrangling efforts in a Jupyter Notebook, plus showcase them through analyses and visualizations using Python (and its libraries) and/or SQL.\n",
    "\n",
    "The dataset that you will be wrangling (and analyzing and visualizing) is the tweet archive of Twitter user @dog_rates, also known as WeRateDogs. WeRateDogs is a Twitter account that rates people's dogs with a humorous comment about the dog. These ratings almost always have a denominator of 10. The numerators, though? Almost always greater than 10. 11/10, 12/10, 13/10, etc. Why? Because \"they're good dogs Brent.\" WeRateDogs has over 4 million followers and has received international media coverage.\n",
    "\n",
    "WeRateDogs downloaded their Twitter archive and sent it to Udacity via email exclusively for you to use in this project. This archive contains basic tweet data (tweet ID, timestamp, text, etc.) for all 5000+ of their tweets as they stood on August 1, 2017. More on this soon.\n",
    "\n",
    "*The goal of this project is to wrangle data from [WeRateDogs](https://en.wikipedia.org/wiki/WeRateDogs) Twitter's account using Python and document the whole process in a Jupyter Notebook  named wrangle_act.ipynb i.e. this notebook. My main aim is to wrangle this data for interesting, insightful and reliable analyses using visualizations.*"
   ]
  },
  {
   "cell_type": "markdown",
   "id": "910ea220",
   "metadata": {},
   "source": [
    "<a id='gather'></a>\n",
    "## Gathering data"
   ]
  },
  {
   "cell_type": "markdown",
   "id": "557bd1e9",
   "metadata": {},
   "source": [
    "- **Twitter archive file:** download this file manually by clicking the following link: twitter_archive_enhanced.csv\n",
    "\n",
    "- **The tweet image predictions**, i.e., what breed of dog (or other object, animal, etc.) is present in each tweet according to a neural network. This file (image_predictions.tsv) is hosted on Udacity's servers and should be downloaded programmatically using the Requests library and the following URL: https://d17h27t6h515a5.cloudfront.net/topher/2017/August/599fd2ad_image-predictions/image-predictions.tsv\n",
    "\n",
    "- **Twitter API & JSON:** Each tweet's retweet count and favorite (\"like\") count at minimum, and any additional data you find interesting. Using the tweet IDs in the WeRateDogs Twitter archive, query the Twitter API for each tweet's JSON data using Python's Tweepy library and store each tweet's entire set of JSON data in a file called tweet_json.txt file. \n",
    "    Each tweet's JSON data should be written to its own line. Then read this .txt file line by line into a pandas DataFrame with (at minimum) tweet ID, retweet count, and favorite count. "
   ]
  },
  {
   "cell_type": "code",
   "execution_count": 1,
   "id": "95b5421c",
   "metadata": {},
   "outputs": [],
   "source": [
    "# Importing all the required packages\n",
    "import pandas as pd\n",
    "import numpy as np\n",
    "import os\n",
    "import re\n",
    "import tweepy\n",
    "import time\n",
    "from timeit import default_timer as timer\n",
    "from tweepy import OAuthHandler\n",
    "import requests\n",
    "import json\n",
    "import matplotlib.pyplot as plt\n",
    "%matplotlib inline\n",
    "import seaborn as sns\n",
    "sns.set()"
   ]
  },
  {
   "cell_type": "markdown",
   "id": "b286c348",
   "metadata": {},
   "source": [
    "## Gathering Data"
   ]
  },
  {
   "cell_type": "markdown",
   "id": "10affbc6",
   "metadata": {},
   "source": [
    "#### 1. Twitter archive file"
   ]
  },
  {
   "cell_type": "code",
   "execution_count": 2,
   "id": "6a1d2a99",
   "metadata": {},
   "outputs": [
    {
     "data": {
      "text/html": [
       "<div>\n",
       "<style scoped>\n",
       "    .dataframe tbody tr th:only-of-type {\n",
       "        vertical-align: middle;\n",
       "    }\n",
       "\n",
       "    .dataframe tbody tr th {\n",
       "        vertical-align: top;\n",
       "    }\n",
       "\n",
       "    .dataframe thead th {\n",
       "        text-align: right;\n",
       "    }\n",
       "</style>\n",
       "<table border=\"1\" class=\"dataframe\">\n",
       "  <thead>\n",
       "    <tr style=\"text-align: right;\">\n",
       "      <th></th>\n",
       "      <th>tweet_id</th>\n",
       "      <th>in_reply_to_status_id</th>\n",
       "      <th>in_reply_to_user_id</th>\n",
       "      <th>timestamp</th>\n",
       "      <th>source</th>\n",
       "      <th>text</th>\n",
       "      <th>retweeted_status_id</th>\n",
       "      <th>retweeted_status_user_id</th>\n",
       "      <th>retweeted_status_timestamp</th>\n",
       "      <th>expanded_urls</th>\n",
       "      <th>rating_numerator</th>\n",
       "      <th>rating_denominator</th>\n",
       "      <th>name</th>\n",
       "      <th>doggo</th>\n",
       "      <th>floofer</th>\n",
       "      <th>pupper</th>\n",
       "      <th>puppo</th>\n",
       "    </tr>\n",
       "  </thead>\n",
       "  <tbody>\n",
       "    <tr>\n",
       "      <th>0</th>\n",
       "      <td>892420643555336193</td>\n",
       "      <td>NaN</td>\n",
       "      <td>NaN</td>\n",
       "      <td>2017-08-01 16:23:56 +0000</td>\n",
       "      <td>&lt;a href=\"http://twitter.com/download/iphone\" r...</td>\n",
       "      <td>This is Phineas. He's a mystical boy. Only eve...</td>\n",
       "      <td>NaN</td>\n",
       "      <td>NaN</td>\n",
       "      <td>NaN</td>\n",
       "      <td>https://twitter.com/dog_rates/status/892420643...</td>\n",
       "      <td>13</td>\n",
       "      <td>10</td>\n",
       "      <td>Phineas</td>\n",
       "      <td>None</td>\n",
       "      <td>None</td>\n",
       "      <td>None</td>\n",
       "      <td>None</td>\n",
       "    </tr>\n",
       "    <tr>\n",
       "      <th>1</th>\n",
       "      <td>892177421306343426</td>\n",
       "      <td>NaN</td>\n",
       "      <td>NaN</td>\n",
       "      <td>2017-08-01 00:17:27 +0000</td>\n",
       "      <td>&lt;a href=\"http://twitter.com/download/iphone\" r...</td>\n",
       "      <td>This is Tilly. She's just checking pup on you....</td>\n",
       "      <td>NaN</td>\n",
       "      <td>NaN</td>\n",
       "      <td>NaN</td>\n",
       "      <td>https://twitter.com/dog_rates/status/892177421...</td>\n",
       "      <td>13</td>\n",
       "      <td>10</td>\n",
       "      <td>Tilly</td>\n",
       "      <td>None</td>\n",
       "      <td>None</td>\n",
       "      <td>None</td>\n",
       "      <td>None</td>\n",
       "    </tr>\n",
       "    <tr>\n",
       "      <th>2</th>\n",
       "      <td>891815181378084864</td>\n",
       "      <td>NaN</td>\n",
       "      <td>NaN</td>\n",
       "      <td>2017-07-31 00:18:03 +0000</td>\n",
       "      <td>&lt;a href=\"http://twitter.com/download/iphone\" r...</td>\n",
       "      <td>This is Archie. He is a rare Norwegian Pouncin...</td>\n",
       "      <td>NaN</td>\n",
       "      <td>NaN</td>\n",
       "      <td>NaN</td>\n",
       "      <td>https://twitter.com/dog_rates/status/891815181...</td>\n",
       "      <td>12</td>\n",
       "      <td>10</td>\n",
       "      <td>Archie</td>\n",
       "      <td>None</td>\n",
       "      <td>None</td>\n",
       "      <td>None</td>\n",
       "      <td>None</td>\n",
       "    </tr>\n",
       "    <tr>\n",
       "      <th>3</th>\n",
       "      <td>891689557279858688</td>\n",
       "      <td>NaN</td>\n",
       "      <td>NaN</td>\n",
       "      <td>2017-07-30 15:58:51 +0000</td>\n",
       "      <td>&lt;a href=\"http://twitter.com/download/iphone\" r...</td>\n",
       "      <td>This is Darla. She commenced a snooze mid meal...</td>\n",
       "      <td>NaN</td>\n",
       "      <td>NaN</td>\n",
       "      <td>NaN</td>\n",
       "      <td>https://twitter.com/dog_rates/status/891689557...</td>\n",
       "      <td>13</td>\n",
       "      <td>10</td>\n",
       "      <td>Darla</td>\n",
       "      <td>None</td>\n",
       "      <td>None</td>\n",
       "      <td>None</td>\n",
       "      <td>None</td>\n",
       "    </tr>\n",
       "    <tr>\n",
       "      <th>4</th>\n",
       "      <td>891327558926688256</td>\n",
       "      <td>NaN</td>\n",
       "      <td>NaN</td>\n",
       "      <td>2017-07-29 16:00:24 +0000</td>\n",
       "      <td>&lt;a href=\"http://twitter.com/download/iphone\" r...</td>\n",
       "      <td>This is Franklin. He would like you to stop ca...</td>\n",
       "      <td>NaN</td>\n",
       "      <td>NaN</td>\n",
       "      <td>NaN</td>\n",
       "      <td>https://twitter.com/dog_rates/status/891327558...</td>\n",
       "      <td>12</td>\n",
       "      <td>10</td>\n",
       "      <td>Franklin</td>\n",
       "      <td>None</td>\n",
       "      <td>None</td>\n",
       "      <td>None</td>\n",
       "      <td>None</td>\n",
       "    </tr>\n",
       "  </tbody>\n",
       "</table>\n",
       "</div>"
      ],
      "text/plain": [
       "             tweet_id  in_reply_to_status_id  in_reply_to_user_id  \\\n",
       "0  892420643555336193                    NaN                  NaN   \n",
       "1  892177421306343426                    NaN                  NaN   \n",
       "2  891815181378084864                    NaN                  NaN   \n",
       "3  891689557279858688                    NaN                  NaN   \n",
       "4  891327558926688256                    NaN                  NaN   \n",
       "\n",
       "                   timestamp  \\\n",
       "0  2017-08-01 16:23:56 +0000   \n",
       "1  2017-08-01 00:17:27 +0000   \n",
       "2  2017-07-31 00:18:03 +0000   \n",
       "3  2017-07-30 15:58:51 +0000   \n",
       "4  2017-07-29 16:00:24 +0000   \n",
       "\n",
       "                                              source  \\\n",
       "0  <a href=\"http://twitter.com/download/iphone\" r...   \n",
       "1  <a href=\"http://twitter.com/download/iphone\" r...   \n",
       "2  <a href=\"http://twitter.com/download/iphone\" r...   \n",
       "3  <a href=\"http://twitter.com/download/iphone\" r...   \n",
       "4  <a href=\"http://twitter.com/download/iphone\" r...   \n",
       "\n",
       "                                                text  retweeted_status_id  \\\n",
       "0  This is Phineas. He's a mystical boy. Only eve...                  NaN   \n",
       "1  This is Tilly. She's just checking pup on you....                  NaN   \n",
       "2  This is Archie. He is a rare Norwegian Pouncin...                  NaN   \n",
       "3  This is Darla. She commenced a snooze mid meal...                  NaN   \n",
       "4  This is Franklin. He would like you to stop ca...                  NaN   \n",
       "\n",
       "   retweeted_status_user_id retweeted_status_timestamp  \\\n",
       "0                       NaN                        NaN   \n",
       "1                       NaN                        NaN   \n",
       "2                       NaN                        NaN   \n",
       "3                       NaN                        NaN   \n",
       "4                       NaN                        NaN   \n",
       "\n",
       "                                       expanded_urls  rating_numerator  \\\n",
       "0  https://twitter.com/dog_rates/status/892420643...                13   \n",
       "1  https://twitter.com/dog_rates/status/892177421...                13   \n",
       "2  https://twitter.com/dog_rates/status/891815181...                12   \n",
       "3  https://twitter.com/dog_rates/status/891689557...                13   \n",
       "4  https://twitter.com/dog_rates/status/891327558...                12   \n",
       "\n",
       "   rating_denominator      name doggo floofer pupper puppo  \n",
       "0                  10   Phineas  None    None   None  None  \n",
       "1                  10     Tilly  None    None   None  None  \n",
       "2                  10    Archie  None    None   None  None  \n",
       "3                  10     Darla  None    None   None  None  \n",
       "4                  10  Franklin  None    None   None  None  "
      ]
     },
     "execution_count": 2,
     "metadata": {},
     "output_type": "execute_result"
    }
   ],
   "source": [
    "twitter_archive_df = pd.read_csv('twitter-archive-enhanced.csv')\n",
    "twitter_archive_df.head()"
   ]
  },
  {
   "cell_type": "markdown",
   "id": "c5ba0347",
   "metadata": {},
   "source": [
    "#### 2. Tweet image prediction\n",
    "\n",
    "- This file contains the tweet image predictions, i.e., what breed of dog (or other object, animal, etc.) is present in each tweet according to a neural network. This file is also hosted on Udacity's servers and is downloaded programmatically using the Requests library and the following URL: https://d17h27t6h515a5.cloudfront.net/topher/2017/August/599fd2ad_image-predictions/image-predictions.tsv"
   ]
  },
  {
   "cell_type": "code",
   "execution_count": 3,
   "id": "1be12576",
   "metadata": {},
   "outputs": [],
   "source": [
    "# downloading programmatically\n",
    "url = 'https://d17h27t6h515a5.cloudfront.net/topher/2017/August/599fd2ad_image-predictions/image-predictions.tsv'\n",
    "response = requests.get(url)\n",
    "\n",
    "with open('image-prediction.tsv', mode='wb') as file:\n",
    "    file.write(response.content)"
   ]
  },
  {
   "cell_type": "code",
   "execution_count": 4,
   "id": "44af45f1",
   "metadata": {},
   "outputs": [
    {
     "data": {
      "text/html": [
       "<div>\n",
       "<style scoped>\n",
       "    .dataframe tbody tr th:only-of-type {\n",
       "        vertical-align: middle;\n",
       "    }\n",
       "\n",
       "    .dataframe tbody tr th {\n",
       "        vertical-align: top;\n",
       "    }\n",
       "\n",
       "    .dataframe thead th {\n",
       "        text-align: right;\n",
       "    }\n",
       "</style>\n",
       "<table border=\"1\" class=\"dataframe\">\n",
       "  <thead>\n",
       "    <tr style=\"text-align: right;\">\n",
       "      <th></th>\n",
       "      <th>tweet_id</th>\n",
       "      <th>jpg_url</th>\n",
       "      <th>img_num</th>\n",
       "      <th>p1</th>\n",
       "      <th>p1_conf</th>\n",
       "      <th>p1_dog</th>\n",
       "      <th>p2</th>\n",
       "      <th>p2_conf</th>\n",
       "      <th>p2_dog</th>\n",
       "      <th>p3</th>\n",
       "      <th>p3_conf</th>\n",
       "      <th>p3_dog</th>\n",
       "    </tr>\n",
       "  </thead>\n",
       "  <tbody>\n",
       "    <tr>\n",
       "      <th>0</th>\n",
       "      <td>666020888022790149</td>\n",
       "      <td>https://pbs.twimg.com/media/CT4udn0WwAA0aMy.jpg</td>\n",
       "      <td>1</td>\n",
       "      <td>Welsh_springer_spaniel</td>\n",
       "      <td>0.465074</td>\n",
       "      <td>True</td>\n",
       "      <td>collie</td>\n",
       "      <td>0.156665</td>\n",
       "      <td>True</td>\n",
       "      <td>Shetland_sheepdog</td>\n",
       "      <td>0.061428</td>\n",
       "      <td>True</td>\n",
       "    </tr>\n",
       "    <tr>\n",
       "      <th>1</th>\n",
       "      <td>666029285002620928</td>\n",
       "      <td>https://pbs.twimg.com/media/CT42GRgUYAA5iDo.jpg</td>\n",
       "      <td>1</td>\n",
       "      <td>redbone</td>\n",
       "      <td>0.506826</td>\n",
       "      <td>True</td>\n",
       "      <td>miniature_pinscher</td>\n",
       "      <td>0.074192</td>\n",
       "      <td>True</td>\n",
       "      <td>Rhodesian_ridgeback</td>\n",
       "      <td>0.072010</td>\n",
       "      <td>True</td>\n",
       "    </tr>\n",
       "    <tr>\n",
       "      <th>2</th>\n",
       "      <td>666033412701032449</td>\n",
       "      <td>https://pbs.twimg.com/media/CT4521TWwAEvMyu.jpg</td>\n",
       "      <td>1</td>\n",
       "      <td>German_shepherd</td>\n",
       "      <td>0.596461</td>\n",
       "      <td>True</td>\n",
       "      <td>malinois</td>\n",
       "      <td>0.138584</td>\n",
       "      <td>True</td>\n",
       "      <td>bloodhound</td>\n",
       "      <td>0.116197</td>\n",
       "      <td>True</td>\n",
       "    </tr>\n",
       "    <tr>\n",
       "      <th>3</th>\n",
       "      <td>666044226329800704</td>\n",
       "      <td>https://pbs.twimg.com/media/CT5Dr8HUEAA-lEu.jpg</td>\n",
       "      <td>1</td>\n",
       "      <td>Rhodesian_ridgeback</td>\n",
       "      <td>0.408143</td>\n",
       "      <td>True</td>\n",
       "      <td>redbone</td>\n",
       "      <td>0.360687</td>\n",
       "      <td>True</td>\n",
       "      <td>miniature_pinscher</td>\n",
       "      <td>0.222752</td>\n",
       "      <td>True</td>\n",
       "    </tr>\n",
       "    <tr>\n",
       "      <th>4</th>\n",
       "      <td>666049248165822465</td>\n",
       "      <td>https://pbs.twimg.com/media/CT5IQmsXIAAKY4A.jpg</td>\n",
       "      <td>1</td>\n",
       "      <td>miniature_pinscher</td>\n",
       "      <td>0.560311</td>\n",
       "      <td>True</td>\n",
       "      <td>Rottweiler</td>\n",
       "      <td>0.243682</td>\n",
       "      <td>True</td>\n",
       "      <td>Doberman</td>\n",
       "      <td>0.154629</td>\n",
       "      <td>True</td>\n",
       "    </tr>\n",
       "  </tbody>\n",
       "</table>\n",
       "</div>"
      ],
      "text/plain": [
       "             tweet_id                                          jpg_url  \\\n",
       "0  666020888022790149  https://pbs.twimg.com/media/CT4udn0WwAA0aMy.jpg   \n",
       "1  666029285002620928  https://pbs.twimg.com/media/CT42GRgUYAA5iDo.jpg   \n",
       "2  666033412701032449  https://pbs.twimg.com/media/CT4521TWwAEvMyu.jpg   \n",
       "3  666044226329800704  https://pbs.twimg.com/media/CT5Dr8HUEAA-lEu.jpg   \n",
       "4  666049248165822465  https://pbs.twimg.com/media/CT5IQmsXIAAKY4A.jpg   \n",
       "\n",
       "   img_num                      p1   p1_conf  p1_dog                  p2  \\\n",
       "0        1  Welsh_springer_spaniel  0.465074    True              collie   \n",
       "1        1                 redbone  0.506826    True  miniature_pinscher   \n",
       "2        1         German_shepherd  0.596461    True            malinois   \n",
       "3        1     Rhodesian_ridgeback  0.408143    True             redbone   \n",
       "4        1      miniature_pinscher  0.560311    True          Rottweiler   \n",
       "\n",
       "    p2_conf  p2_dog                   p3   p3_conf  p3_dog  \n",
       "0  0.156665    True    Shetland_sheepdog  0.061428    True  \n",
       "1  0.074192    True  Rhodesian_ridgeback  0.072010    True  \n",
       "2  0.138584    True           bloodhound  0.116197    True  \n",
       "3  0.360687    True   miniature_pinscher  0.222752    True  \n",
       "4  0.243682    True             Doberman  0.154629    True  "
      ]
     },
     "execution_count": 4,
     "metadata": {},
     "output_type": "execute_result"
    }
   ],
   "source": [
    "# Reading the .tsv file\n",
    "image_pred_df = pd.read_csv('image-prediction.tsv', sep='\\t')\n",
    "image_pred_df.head()"
   ]
  },
  {
   "cell_type": "markdown",
   "id": "67f99b24",
   "metadata": {},
   "source": [
    "#### 3. Twitter API and JSON\n",
    "\n",
    "- Query the Twitter API using Python's Tweepy library to get the entire JSON data set for each of the tweets in the WeRateDogs Twitter archive. Each tweet in the JSON data is written to its own line in a file called tweet_json.txt."
   ]
  },
  {
   "cell_type": "code",
   "execution_count": 5,
   "id": "5e62c37c",
   "metadata": {},
   "outputs": [],
   "source": [
    "consumer_key = 'HIDDEN'\n",
    "consumer_secret = 'HIDDEN'\n",
    "access_token = 'HIDDEN'\n",
    "access_secret = 'HIDDEN'"
   ]
  },
  {
   "cell_type": "code",
   "execution_count": 6,
   "id": "cf86bbe8",
   "metadata": {},
   "outputs": [],
   "source": [
    "auth = OAuthHandler(consumer_key, consumer_secret)\n",
    "auth.set_access_token(access_token, access_secret)\n",
    "\n",
    "api = tweepy.API(auth,\n",
    "                 wait_on_rate_limit = True)\n"
   ]
  },
  {
   "cell_type": "code",
   "execution_count": 7,
   "id": "dce1f54a",
   "metadata": {
    "scrolled": true
   },
   "outputs": [
    {
     "data": {
      "text/plain": [
       "2356"
      ]
     },
     "execution_count": 7,
     "metadata": {},
     "output_type": "execute_result"
    }
   ],
   "source": [
    "tweet_ids = twitter_archive_df.tweet_id.values\n",
    "len(tweet_ids)"
   ]
  },
  {
   "cell_type": "raw",
   "id": "e1d72c74",
   "metadata": {},
   "source": [
    "#Third Dataset - Favvorite & Retweet Counts\n",
    "#Twitter API\n",
    "\n",
    "# Query Twitter API for each tweet in the Twitter archive and save JSON in a text file\n",
    "# These are hidden to comply with Twitter's API terms and conditions\n",
    "consumer_key = 'HIDDEN'\n",
    "consumer_secret = 'HIDDEN'\n",
    "access_token = 'HIDDEN'\n",
    "access_secret = 'HIDDEN'\n",
    "\n",
    "auth = OAuthHandler(consumer_key, consumer_secret)\n",
    "auth.set_access_token(access_token, access_secret)\n",
    "\n",
    "api = tweepy.API(auth, wait_on_rate_limit=True)\n",
    "\n",
    "# NOTE TO STUDENT WITH MOBILE VERIFICATION ISSUES:\n",
    "# df_1 is a DataFrame with the twitter_archive_enhanced.csv file. You may have to\n",
    "# change line 17 to match the name of your DataFrame with twitter_archive_enhanced.csv\n",
    "# NOTE TO REVIEWER: this student had mobile verification issues so the following\n",
    "# Twitter API code was sent to this student from a Udacity instructor\n",
    "# Tweet IDs for which to gather additional data via Twitter's API\n",
    "tweet_ids = archive_df.tweet_id.values\n",
    "len(tweet_ids)\n",
    "\n",
    "# Query Twitter's API for JSON data for each tweet ID in the Twitter archive\n",
    "count = 0\n",
    "fails_dict = {}\n",
    "start = timer()\n",
    "# Save each tweet's returned JSON as a new line in a .txt file\n",
    "with open('tweet_json.txt', 'w') as outfile:\n",
    "    # This loop will likely take 20-30 minutes to run because of Twitter's rate limit\n",
    "    for tweet_id in tweet_ids:\n",
    "        count += 1\n",
    "        print(str(count) + \": \" + str(tweet_id))\n",
    "        try:\n",
    "            tweet = api.get_status(tweet_id, tweet_mode='extended')\n",
    "            print(\"Success\")\n",
    "            json.dump(tweet._json, outfile)\n",
    "            outfile.write('\\n')\n",
    "        except tweepy.TweepError as e:\n",
    "            print(\"Fail\")\n",
    "            fails_dict[tweet_id] = e\n",
    "            pass\n",
    "end = timer()\n",
    "print(end - start)\n",
    "print(fails_dict)"
   ]
  },
  {
   "cell_type": "code",
   "execution_count": 8,
   "id": "107f352f",
   "metadata": {
    "scrolled": true
   },
   "outputs": [],
   "source": [
    "# Ctreatin g a array for the json file an also making sure it is stored line by line\n",
    "with open('tweet-json.txt', encoding='utf-8') as file:\n",
    "    lines = file.readlines()\n",
    "    \n",
    "data = []\n",
    "for line in lines:\n",
    "    data.append(json.loads(line))\n",
    "        \n",
    "# reading the json file into pandas datadrame\n",
    "tweet_json_df = pd.DataFrame(data)\n"
   ]
  },
  {
   "cell_type": "code",
   "execution_count": 9,
   "id": "bcea1270",
   "metadata": {},
   "outputs": [
    {
     "data": {
      "text/html": [
       "<div>\n",
       "<style scoped>\n",
       "    .dataframe tbody tr th:only-of-type {\n",
       "        vertical-align: middle;\n",
       "    }\n",
       "\n",
       "    .dataframe tbody tr th {\n",
       "        vertical-align: top;\n",
       "    }\n",
       "\n",
       "    .dataframe thead th {\n",
       "        text-align: right;\n",
       "    }\n",
       "</style>\n",
       "<table border=\"1\" class=\"dataframe\">\n",
       "  <thead>\n",
       "    <tr style=\"text-align: right;\">\n",
       "      <th></th>\n",
       "      <th>id</th>\n",
       "      <th>retweet_count</th>\n",
       "      <th>favorite_count</th>\n",
       "    </tr>\n",
       "  </thead>\n",
       "  <tbody>\n",
       "    <tr>\n",
       "      <th>0</th>\n",
       "      <td>892420643555336193</td>\n",
       "      <td>8853</td>\n",
       "      <td>39467</td>\n",
       "    </tr>\n",
       "    <tr>\n",
       "      <th>1</th>\n",
       "      <td>892177421306343426</td>\n",
       "      <td>6514</td>\n",
       "      <td>33819</td>\n",
       "    </tr>\n",
       "    <tr>\n",
       "      <th>2</th>\n",
       "      <td>891815181378084864</td>\n",
       "      <td>4328</td>\n",
       "      <td>25461</td>\n",
       "    </tr>\n",
       "    <tr>\n",
       "      <th>3</th>\n",
       "      <td>891689557279858688</td>\n",
       "      <td>8964</td>\n",
       "      <td>42908</td>\n",
       "    </tr>\n",
       "    <tr>\n",
       "      <th>4</th>\n",
       "      <td>891327558926688256</td>\n",
       "      <td>9774</td>\n",
       "      <td>41048</td>\n",
       "    </tr>\n",
       "  </tbody>\n",
       "</table>\n",
       "</div>"
      ],
      "text/plain": [
       "                   id  retweet_count  favorite_count\n",
       "0  892420643555336193           8853           39467\n",
       "1  892177421306343426           6514           33819\n",
       "2  891815181378084864           4328           25461\n",
       "3  891689557279858688           8964           42908\n",
       "4  891327558926688256           9774           41048"
      ]
     },
     "execution_count": 9,
     "metadata": {},
     "output_type": "execute_result"
    }
   ],
   "source": [
    "tweet_json_df = tweet_json_df[['id','retweet_count','favorite_count']]\n",
    "tweet_json_df.head()"
   ]
  },
  {
   "cell_type": "markdown",
   "id": "07eec4fd",
   "metadata": {},
   "source": [
    "#### ALL OUR DATA HAS BEEN GATHERED SUCCESSFULLY!!"
   ]
  },
  {
   "cell_type": "markdown",
   "id": "5a8708fe",
   "metadata": {},
   "source": [
    "## Assessing Data"
   ]
  },
  {
   "cell_type": "markdown",
   "id": "d601ee0a",
   "metadata": {},
   "source": [
    "#### Visual Assessment"
   ]
  },
  {
   "cell_type": "code",
   "execution_count": 10,
   "id": "55fb7220",
   "metadata": {},
   "outputs": [
    {
     "data": {
      "text/html": [
       "<div>\n",
       "<style scoped>\n",
       "    .dataframe tbody tr th:only-of-type {\n",
       "        vertical-align: middle;\n",
       "    }\n",
       "\n",
       "    .dataframe tbody tr th {\n",
       "        vertical-align: top;\n",
       "    }\n",
       "\n",
       "    .dataframe thead th {\n",
       "        text-align: right;\n",
       "    }\n",
       "</style>\n",
       "<table border=\"1\" class=\"dataframe\">\n",
       "  <thead>\n",
       "    <tr style=\"text-align: right;\">\n",
       "      <th></th>\n",
       "      <th>tweet_id</th>\n",
       "      <th>in_reply_to_status_id</th>\n",
       "      <th>in_reply_to_user_id</th>\n",
       "      <th>timestamp</th>\n",
       "      <th>source</th>\n",
       "      <th>text</th>\n",
       "      <th>retweeted_status_id</th>\n",
       "      <th>retweeted_status_user_id</th>\n",
       "      <th>retweeted_status_timestamp</th>\n",
       "      <th>expanded_urls</th>\n",
       "      <th>rating_numerator</th>\n",
       "      <th>rating_denominator</th>\n",
       "      <th>name</th>\n",
       "      <th>doggo</th>\n",
       "      <th>floofer</th>\n",
       "      <th>pupper</th>\n",
       "      <th>puppo</th>\n",
       "    </tr>\n",
       "  </thead>\n",
       "  <tbody>\n",
       "    <tr>\n",
       "      <th>0</th>\n",
       "      <td>892420643555336193</td>\n",
       "      <td>NaN</td>\n",
       "      <td>NaN</td>\n",
       "      <td>2017-08-01 16:23:56 +0000</td>\n",
       "      <td>&lt;a href=\"http://twitter.com/download/iphone\" r...</td>\n",
       "      <td>This is Phineas. He's a mystical boy. Only eve...</td>\n",
       "      <td>NaN</td>\n",
       "      <td>NaN</td>\n",
       "      <td>NaN</td>\n",
       "      <td>https://twitter.com/dog_rates/status/892420643...</td>\n",
       "      <td>13</td>\n",
       "      <td>10</td>\n",
       "      <td>Phineas</td>\n",
       "      <td>None</td>\n",
       "      <td>None</td>\n",
       "      <td>None</td>\n",
       "      <td>None</td>\n",
       "    </tr>\n",
       "    <tr>\n",
       "      <th>1</th>\n",
       "      <td>892177421306343426</td>\n",
       "      <td>NaN</td>\n",
       "      <td>NaN</td>\n",
       "      <td>2017-08-01 00:17:27 +0000</td>\n",
       "      <td>&lt;a href=\"http://twitter.com/download/iphone\" r...</td>\n",
       "      <td>This is Tilly. She's just checking pup on you....</td>\n",
       "      <td>NaN</td>\n",
       "      <td>NaN</td>\n",
       "      <td>NaN</td>\n",
       "      <td>https://twitter.com/dog_rates/status/892177421...</td>\n",
       "      <td>13</td>\n",
       "      <td>10</td>\n",
       "      <td>Tilly</td>\n",
       "      <td>None</td>\n",
       "      <td>None</td>\n",
       "      <td>None</td>\n",
       "      <td>None</td>\n",
       "    </tr>\n",
       "    <tr>\n",
       "      <th>2</th>\n",
       "      <td>891815181378084864</td>\n",
       "      <td>NaN</td>\n",
       "      <td>NaN</td>\n",
       "      <td>2017-07-31 00:18:03 +0000</td>\n",
       "      <td>&lt;a href=\"http://twitter.com/download/iphone\" r...</td>\n",
       "      <td>This is Archie. He is a rare Norwegian Pouncin...</td>\n",
       "      <td>NaN</td>\n",
       "      <td>NaN</td>\n",
       "      <td>NaN</td>\n",
       "      <td>https://twitter.com/dog_rates/status/891815181...</td>\n",
       "      <td>12</td>\n",
       "      <td>10</td>\n",
       "      <td>Archie</td>\n",
       "      <td>None</td>\n",
       "      <td>None</td>\n",
       "      <td>None</td>\n",
       "      <td>None</td>\n",
       "    </tr>\n",
       "    <tr>\n",
       "      <th>3</th>\n",
       "      <td>891689557279858688</td>\n",
       "      <td>NaN</td>\n",
       "      <td>NaN</td>\n",
       "      <td>2017-07-30 15:58:51 +0000</td>\n",
       "      <td>&lt;a href=\"http://twitter.com/download/iphone\" r...</td>\n",
       "      <td>This is Darla. She commenced a snooze mid meal...</td>\n",
       "      <td>NaN</td>\n",
       "      <td>NaN</td>\n",
       "      <td>NaN</td>\n",
       "      <td>https://twitter.com/dog_rates/status/891689557...</td>\n",
       "      <td>13</td>\n",
       "      <td>10</td>\n",
       "      <td>Darla</td>\n",
       "      <td>None</td>\n",
       "      <td>None</td>\n",
       "      <td>None</td>\n",
       "      <td>None</td>\n",
       "    </tr>\n",
       "    <tr>\n",
       "      <th>4</th>\n",
       "      <td>891327558926688256</td>\n",
       "      <td>NaN</td>\n",
       "      <td>NaN</td>\n",
       "      <td>2017-07-29 16:00:24 +0000</td>\n",
       "      <td>&lt;a href=\"http://twitter.com/download/iphone\" r...</td>\n",
       "      <td>This is Franklin. He would like you to stop ca...</td>\n",
       "      <td>NaN</td>\n",
       "      <td>NaN</td>\n",
       "      <td>NaN</td>\n",
       "      <td>https://twitter.com/dog_rates/status/891327558...</td>\n",
       "      <td>12</td>\n",
       "      <td>10</td>\n",
       "      <td>Franklin</td>\n",
       "      <td>None</td>\n",
       "      <td>None</td>\n",
       "      <td>None</td>\n",
       "      <td>None</td>\n",
       "    </tr>\n",
       "  </tbody>\n",
       "</table>\n",
       "</div>"
      ],
      "text/plain": [
       "             tweet_id  in_reply_to_status_id  in_reply_to_user_id  \\\n",
       "0  892420643555336193                    NaN                  NaN   \n",
       "1  892177421306343426                    NaN                  NaN   \n",
       "2  891815181378084864                    NaN                  NaN   \n",
       "3  891689557279858688                    NaN                  NaN   \n",
       "4  891327558926688256                    NaN                  NaN   \n",
       "\n",
       "                   timestamp  \\\n",
       "0  2017-08-01 16:23:56 +0000   \n",
       "1  2017-08-01 00:17:27 +0000   \n",
       "2  2017-07-31 00:18:03 +0000   \n",
       "3  2017-07-30 15:58:51 +0000   \n",
       "4  2017-07-29 16:00:24 +0000   \n",
       "\n",
       "                                              source  \\\n",
       "0  <a href=\"http://twitter.com/download/iphone\" r...   \n",
       "1  <a href=\"http://twitter.com/download/iphone\" r...   \n",
       "2  <a href=\"http://twitter.com/download/iphone\" r...   \n",
       "3  <a href=\"http://twitter.com/download/iphone\" r...   \n",
       "4  <a href=\"http://twitter.com/download/iphone\" r...   \n",
       "\n",
       "                                                text  retweeted_status_id  \\\n",
       "0  This is Phineas. He's a mystical boy. Only eve...                  NaN   \n",
       "1  This is Tilly. She's just checking pup on you....                  NaN   \n",
       "2  This is Archie. He is a rare Norwegian Pouncin...                  NaN   \n",
       "3  This is Darla. She commenced a snooze mid meal...                  NaN   \n",
       "4  This is Franklin. He would like you to stop ca...                  NaN   \n",
       "\n",
       "   retweeted_status_user_id retweeted_status_timestamp  \\\n",
       "0                       NaN                        NaN   \n",
       "1                       NaN                        NaN   \n",
       "2                       NaN                        NaN   \n",
       "3                       NaN                        NaN   \n",
       "4                       NaN                        NaN   \n",
       "\n",
       "                                       expanded_urls  rating_numerator  \\\n",
       "0  https://twitter.com/dog_rates/status/892420643...                13   \n",
       "1  https://twitter.com/dog_rates/status/892177421...                13   \n",
       "2  https://twitter.com/dog_rates/status/891815181...                12   \n",
       "3  https://twitter.com/dog_rates/status/891689557...                13   \n",
       "4  https://twitter.com/dog_rates/status/891327558...                12   \n",
       "\n",
       "   rating_denominator      name doggo floofer pupper puppo  \n",
       "0                  10   Phineas  None    None   None  None  \n",
       "1                  10     Tilly  None    None   None  None  \n",
       "2                  10    Archie  None    None   None  None  \n",
       "3                  10     Darla  None    None   None  None  \n",
       "4                  10  Franklin  None    None   None  None  "
      ]
     },
     "execution_count": 10,
     "metadata": {},
     "output_type": "execute_result"
    }
   ],
   "source": [
    "twitter_archive_df.head()"
   ]
  },
  {
   "cell_type": "code",
   "execution_count": 11,
   "id": "743daef0",
   "metadata": {},
   "outputs": [
    {
     "data": {
      "text/html": [
       "<div>\n",
       "<style scoped>\n",
       "    .dataframe tbody tr th:only-of-type {\n",
       "        vertical-align: middle;\n",
       "    }\n",
       "\n",
       "    .dataframe tbody tr th {\n",
       "        vertical-align: top;\n",
       "    }\n",
       "\n",
       "    .dataframe thead th {\n",
       "        text-align: right;\n",
       "    }\n",
       "</style>\n",
       "<table border=\"1\" class=\"dataframe\">\n",
       "  <thead>\n",
       "    <tr style=\"text-align: right;\">\n",
       "      <th></th>\n",
       "      <th>tweet_id</th>\n",
       "      <th>jpg_url</th>\n",
       "      <th>img_num</th>\n",
       "      <th>p1</th>\n",
       "      <th>p1_conf</th>\n",
       "      <th>p1_dog</th>\n",
       "      <th>p2</th>\n",
       "      <th>p2_conf</th>\n",
       "      <th>p2_dog</th>\n",
       "      <th>p3</th>\n",
       "      <th>p3_conf</th>\n",
       "      <th>p3_dog</th>\n",
       "    </tr>\n",
       "  </thead>\n",
       "  <tbody>\n",
       "    <tr>\n",
       "      <th>0</th>\n",
       "      <td>666020888022790149</td>\n",
       "      <td>https://pbs.twimg.com/media/CT4udn0WwAA0aMy.jpg</td>\n",
       "      <td>1</td>\n",
       "      <td>Welsh_springer_spaniel</td>\n",
       "      <td>0.465074</td>\n",
       "      <td>True</td>\n",
       "      <td>collie</td>\n",
       "      <td>0.156665</td>\n",
       "      <td>True</td>\n",
       "      <td>Shetland_sheepdog</td>\n",
       "      <td>0.061428</td>\n",
       "      <td>True</td>\n",
       "    </tr>\n",
       "    <tr>\n",
       "      <th>1</th>\n",
       "      <td>666029285002620928</td>\n",
       "      <td>https://pbs.twimg.com/media/CT42GRgUYAA5iDo.jpg</td>\n",
       "      <td>1</td>\n",
       "      <td>redbone</td>\n",
       "      <td>0.506826</td>\n",
       "      <td>True</td>\n",
       "      <td>miniature_pinscher</td>\n",
       "      <td>0.074192</td>\n",
       "      <td>True</td>\n",
       "      <td>Rhodesian_ridgeback</td>\n",
       "      <td>0.072010</td>\n",
       "      <td>True</td>\n",
       "    </tr>\n",
       "    <tr>\n",
       "      <th>2</th>\n",
       "      <td>666033412701032449</td>\n",
       "      <td>https://pbs.twimg.com/media/CT4521TWwAEvMyu.jpg</td>\n",
       "      <td>1</td>\n",
       "      <td>German_shepherd</td>\n",
       "      <td>0.596461</td>\n",
       "      <td>True</td>\n",
       "      <td>malinois</td>\n",
       "      <td>0.138584</td>\n",
       "      <td>True</td>\n",
       "      <td>bloodhound</td>\n",
       "      <td>0.116197</td>\n",
       "      <td>True</td>\n",
       "    </tr>\n",
       "    <tr>\n",
       "      <th>3</th>\n",
       "      <td>666044226329800704</td>\n",
       "      <td>https://pbs.twimg.com/media/CT5Dr8HUEAA-lEu.jpg</td>\n",
       "      <td>1</td>\n",
       "      <td>Rhodesian_ridgeback</td>\n",
       "      <td>0.408143</td>\n",
       "      <td>True</td>\n",
       "      <td>redbone</td>\n",
       "      <td>0.360687</td>\n",
       "      <td>True</td>\n",
       "      <td>miniature_pinscher</td>\n",
       "      <td>0.222752</td>\n",
       "      <td>True</td>\n",
       "    </tr>\n",
       "    <tr>\n",
       "      <th>4</th>\n",
       "      <td>666049248165822465</td>\n",
       "      <td>https://pbs.twimg.com/media/CT5IQmsXIAAKY4A.jpg</td>\n",
       "      <td>1</td>\n",
       "      <td>miniature_pinscher</td>\n",
       "      <td>0.560311</td>\n",
       "      <td>True</td>\n",
       "      <td>Rottweiler</td>\n",
       "      <td>0.243682</td>\n",
       "      <td>True</td>\n",
       "      <td>Doberman</td>\n",
       "      <td>0.154629</td>\n",
       "      <td>True</td>\n",
       "    </tr>\n",
       "  </tbody>\n",
       "</table>\n",
       "</div>"
      ],
      "text/plain": [
       "             tweet_id                                          jpg_url  \\\n",
       "0  666020888022790149  https://pbs.twimg.com/media/CT4udn0WwAA0aMy.jpg   \n",
       "1  666029285002620928  https://pbs.twimg.com/media/CT42GRgUYAA5iDo.jpg   \n",
       "2  666033412701032449  https://pbs.twimg.com/media/CT4521TWwAEvMyu.jpg   \n",
       "3  666044226329800704  https://pbs.twimg.com/media/CT5Dr8HUEAA-lEu.jpg   \n",
       "4  666049248165822465  https://pbs.twimg.com/media/CT5IQmsXIAAKY4A.jpg   \n",
       "\n",
       "   img_num                      p1   p1_conf  p1_dog                  p2  \\\n",
       "0        1  Welsh_springer_spaniel  0.465074    True              collie   \n",
       "1        1                 redbone  0.506826    True  miniature_pinscher   \n",
       "2        1         German_shepherd  0.596461    True            malinois   \n",
       "3        1     Rhodesian_ridgeback  0.408143    True             redbone   \n",
       "4        1      miniature_pinscher  0.560311    True          Rottweiler   \n",
       "\n",
       "    p2_conf  p2_dog                   p3   p3_conf  p3_dog  \n",
       "0  0.156665    True    Shetland_sheepdog  0.061428    True  \n",
       "1  0.074192    True  Rhodesian_ridgeback  0.072010    True  \n",
       "2  0.138584    True           bloodhound  0.116197    True  \n",
       "3  0.360687    True   miniature_pinscher  0.222752    True  \n",
       "4  0.243682    True             Doberman  0.154629    True  "
      ]
     },
     "execution_count": 11,
     "metadata": {},
     "output_type": "execute_result"
    }
   ],
   "source": [
    "image_pred_df.head()"
   ]
  },
  {
   "cell_type": "code",
   "execution_count": 12,
   "id": "cdd40135",
   "metadata": {},
   "outputs": [
    {
     "data": {
      "text/html": [
       "<div>\n",
       "<style scoped>\n",
       "    .dataframe tbody tr th:only-of-type {\n",
       "        vertical-align: middle;\n",
       "    }\n",
       "\n",
       "    .dataframe tbody tr th {\n",
       "        vertical-align: top;\n",
       "    }\n",
       "\n",
       "    .dataframe thead th {\n",
       "        text-align: right;\n",
       "    }\n",
       "</style>\n",
       "<table border=\"1\" class=\"dataframe\">\n",
       "  <thead>\n",
       "    <tr style=\"text-align: right;\">\n",
       "      <th></th>\n",
       "      <th>id</th>\n",
       "      <th>retweet_count</th>\n",
       "      <th>favorite_count</th>\n",
       "    </tr>\n",
       "  </thead>\n",
       "  <tbody>\n",
       "    <tr>\n",
       "      <th>0</th>\n",
       "      <td>892420643555336193</td>\n",
       "      <td>8853</td>\n",
       "      <td>39467</td>\n",
       "    </tr>\n",
       "    <tr>\n",
       "      <th>1</th>\n",
       "      <td>892177421306343426</td>\n",
       "      <td>6514</td>\n",
       "      <td>33819</td>\n",
       "    </tr>\n",
       "    <tr>\n",
       "      <th>2</th>\n",
       "      <td>891815181378084864</td>\n",
       "      <td>4328</td>\n",
       "      <td>25461</td>\n",
       "    </tr>\n",
       "    <tr>\n",
       "      <th>3</th>\n",
       "      <td>891689557279858688</td>\n",
       "      <td>8964</td>\n",
       "      <td>42908</td>\n",
       "    </tr>\n",
       "    <tr>\n",
       "      <th>4</th>\n",
       "      <td>891327558926688256</td>\n",
       "      <td>9774</td>\n",
       "      <td>41048</td>\n",
       "    </tr>\n",
       "  </tbody>\n",
       "</table>\n",
       "</div>"
      ],
      "text/plain": [
       "                   id  retweet_count  favorite_count\n",
       "0  892420643555336193           8853           39467\n",
       "1  892177421306343426           6514           33819\n",
       "2  891815181378084864           4328           25461\n",
       "3  891689557279858688           8964           42908\n",
       "4  891327558926688256           9774           41048"
      ]
     },
     "execution_count": 12,
     "metadata": {},
     "output_type": "execute_result"
    }
   ],
   "source": [
    "tweet_json_df.head()"
   ]
  },
  {
   "cell_type": "markdown",
   "id": "19d19b6c",
   "metadata": {},
   "source": [
    "#### Programmatic assessment\n",
    "- using pandas functions and methods to access the data"
   ]
  },
  {
   "cell_type": "markdown",
   "id": "282d7f10",
   "metadata": {},
   "source": [
    "### 1. Twitter Archieve Data"
   ]
  },
  {
   "cell_type": "code",
   "execution_count": 13,
   "id": "89d9c9ed",
   "metadata": {},
   "outputs": [
    {
     "name": "stdout",
     "output_type": "stream",
     "text": [
      "<class 'pandas.core.frame.DataFrame'>\n",
      "RangeIndex: 2356 entries, 0 to 2355\n",
      "Data columns (total 17 columns):\n",
      " #   Column                      Non-Null Count  Dtype  \n",
      "---  ------                      --------------  -----  \n",
      " 0   tweet_id                    2356 non-null   int64  \n",
      " 1   in_reply_to_status_id       78 non-null     float64\n",
      " 2   in_reply_to_user_id         78 non-null     float64\n",
      " 3   timestamp                   2356 non-null   object \n",
      " 4   source                      2356 non-null   object \n",
      " 5   text                        2356 non-null   object \n",
      " 6   retweeted_status_id         181 non-null    float64\n",
      " 7   retweeted_status_user_id    181 non-null    float64\n",
      " 8   retweeted_status_timestamp  181 non-null    object \n",
      " 9   expanded_urls               2297 non-null   object \n",
      " 10  rating_numerator            2356 non-null   int64  \n",
      " 11  rating_denominator          2356 non-null   int64  \n",
      " 12  name                        2356 non-null   object \n",
      " 13  doggo                       2356 non-null   object \n",
      " 14  floofer                     2356 non-null   object \n",
      " 15  pupper                      2356 non-null   object \n",
      " 16  puppo                       2356 non-null   object \n",
      "dtypes: float64(4), int64(3), object(10)\n",
      "memory usage: 313.0+ KB\n"
     ]
    }
   ],
   "source": [
    "# assessing some features of the data set like presence of null value and data type\n",
    "twitter_archive_df.info()"
   ]
  },
  {
   "cell_type": "code",
   "execution_count": 14,
   "id": "f2f273de",
   "metadata": {},
   "outputs": [
    {
     "data": {
      "text/html": [
       "<div>\n",
       "<style scoped>\n",
       "    .dataframe tbody tr th:only-of-type {\n",
       "        vertical-align: middle;\n",
       "    }\n",
       "\n",
       "    .dataframe tbody tr th {\n",
       "        vertical-align: top;\n",
       "    }\n",
       "\n",
       "    .dataframe thead th {\n",
       "        text-align: right;\n",
       "    }\n",
       "</style>\n",
       "<table border=\"1\" class=\"dataframe\">\n",
       "  <thead>\n",
       "    <tr style=\"text-align: right;\">\n",
       "      <th></th>\n",
       "      <th>tweet_id</th>\n",
       "      <th>in_reply_to_status_id</th>\n",
       "      <th>in_reply_to_user_id</th>\n",
       "      <th>timestamp</th>\n",
       "      <th>source</th>\n",
       "      <th>text</th>\n",
       "      <th>retweeted_status_id</th>\n",
       "      <th>retweeted_status_user_id</th>\n",
       "      <th>retweeted_status_timestamp</th>\n",
       "      <th>expanded_urls</th>\n",
       "      <th>rating_numerator</th>\n",
       "      <th>rating_denominator</th>\n",
       "      <th>name</th>\n",
       "      <th>doggo</th>\n",
       "      <th>floofer</th>\n",
       "      <th>pupper</th>\n",
       "      <th>puppo</th>\n",
       "    </tr>\n",
       "  </thead>\n",
       "  <tbody>\n",
       "    <tr>\n",
       "      <th>0</th>\n",
       "      <td>892420643555336193</td>\n",
       "      <td>NaN</td>\n",
       "      <td>NaN</td>\n",
       "      <td>2017-08-01 16:23:56 +0000</td>\n",
       "      <td>&lt;a href=\"http://twitter.com/download/iphone\" r...</td>\n",
       "      <td>This is Phineas. He's a mystical boy. Only eve...</td>\n",
       "      <td>NaN</td>\n",
       "      <td>NaN</td>\n",
       "      <td>NaN</td>\n",
       "      <td>https://twitter.com/dog_rates/status/892420643...</td>\n",
       "      <td>13</td>\n",
       "      <td>10</td>\n",
       "      <td>Phineas</td>\n",
       "      <td>None</td>\n",
       "      <td>None</td>\n",
       "      <td>None</td>\n",
       "      <td>None</td>\n",
       "    </tr>\n",
       "    <tr>\n",
       "      <th>1</th>\n",
       "      <td>892177421306343426</td>\n",
       "      <td>NaN</td>\n",
       "      <td>NaN</td>\n",
       "      <td>2017-08-01 00:17:27 +0000</td>\n",
       "      <td>&lt;a href=\"http://twitter.com/download/iphone\" r...</td>\n",
       "      <td>This is Tilly. She's just checking pup on you....</td>\n",
       "      <td>NaN</td>\n",
       "      <td>NaN</td>\n",
       "      <td>NaN</td>\n",
       "      <td>https://twitter.com/dog_rates/status/892177421...</td>\n",
       "      <td>13</td>\n",
       "      <td>10</td>\n",
       "      <td>Tilly</td>\n",
       "      <td>None</td>\n",
       "      <td>None</td>\n",
       "      <td>None</td>\n",
       "      <td>None</td>\n",
       "    </tr>\n",
       "    <tr>\n",
       "      <th>2</th>\n",
       "      <td>891815181378084864</td>\n",
       "      <td>NaN</td>\n",
       "      <td>NaN</td>\n",
       "      <td>2017-07-31 00:18:03 +0000</td>\n",
       "      <td>&lt;a href=\"http://twitter.com/download/iphone\" r...</td>\n",
       "      <td>This is Archie. He is a rare Norwegian Pouncin...</td>\n",
       "      <td>NaN</td>\n",
       "      <td>NaN</td>\n",
       "      <td>NaN</td>\n",
       "      <td>https://twitter.com/dog_rates/status/891815181...</td>\n",
       "      <td>12</td>\n",
       "      <td>10</td>\n",
       "      <td>Archie</td>\n",
       "      <td>None</td>\n",
       "      <td>None</td>\n",
       "      <td>None</td>\n",
       "      <td>None</td>\n",
       "    </tr>\n",
       "    <tr>\n",
       "      <th>3</th>\n",
       "      <td>891689557279858688</td>\n",
       "      <td>NaN</td>\n",
       "      <td>NaN</td>\n",
       "      <td>2017-07-30 15:58:51 +0000</td>\n",
       "      <td>&lt;a href=\"http://twitter.com/download/iphone\" r...</td>\n",
       "      <td>This is Darla. She commenced a snooze mid meal...</td>\n",
       "      <td>NaN</td>\n",
       "      <td>NaN</td>\n",
       "      <td>NaN</td>\n",
       "      <td>https://twitter.com/dog_rates/status/891689557...</td>\n",
       "      <td>13</td>\n",
       "      <td>10</td>\n",
       "      <td>Darla</td>\n",
       "      <td>None</td>\n",
       "      <td>None</td>\n",
       "      <td>None</td>\n",
       "      <td>None</td>\n",
       "    </tr>\n",
       "    <tr>\n",
       "      <th>4</th>\n",
       "      <td>891327558926688256</td>\n",
       "      <td>NaN</td>\n",
       "      <td>NaN</td>\n",
       "      <td>2017-07-29 16:00:24 +0000</td>\n",
       "      <td>&lt;a href=\"http://twitter.com/download/iphone\" r...</td>\n",
       "      <td>This is Franklin. He would like you to stop ca...</td>\n",
       "      <td>NaN</td>\n",
       "      <td>NaN</td>\n",
       "      <td>NaN</td>\n",
       "      <td>https://twitter.com/dog_rates/status/891327558...</td>\n",
       "      <td>12</td>\n",
       "      <td>10</td>\n",
       "      <td>Franklin</td>\n",
       "      <td>None</td>\n",
       "      <td>None</td>\n",
       "      <td>None</td>\n",
       "      <td>None</td>\n",
       "    </tr>\n",
       "  </tbody>\n",
       "</table>\n",
       "</div>"
      ],
      "text/plain": [
       "             tweet_id  in_reply_to_status_id  in_reply_to_user_id  \\\n",
       "0  892420643555336193                    NaN                  NaN   \n",
       "1  892177421306343426                    NaN                  NaN   \n",
       "2  891815181378084864                    NaN                  NaN   \n",
       "3  891689557279858688                    NaN                  NaN   \n",
       "4  891327558926688256                    NaN                  NaN   \n",
       "\n",
       "                   timestamp  \\\n",
       "0  2017-08-01 16:23:56 +0000   \n",
       "1  2017-08-01 00:17:27 +0000   \n",
       "2  2017-07-31 00:18:03 +0000   \n",
       "3  2017-07-30 15:58:51 +0000   \n",
       "4  2017-07-29 16:00:24 +0000   \n",
       "\n",
       "                                              source  \\\n",
       "0  <a href=\"http://twitter.com/download/iphone\" r...   \n",
       "1  <a href=\"http://twitter.com/download/iphone\" r...   \n",
       "2  <a href=\"http://twitter.com/download/iphone\" r...   \n",
       "3  <a href=\"http://twitter.com/download/iphone\" r...   \n",
       "4  <a href=\"http://twitter.com/download/iphone\" r...   \n",
       "\n",
       "                                                text  retweeted_status_id  \\\n",
       "0  This is Phineas. He's a mystical boy. Only eve...                  NaN   \n",
       "1  This is Tilly. She's just checking pup on you....                  NaN   \n",
       "2  This is Archie. He is a rare Norwegian Pouncin...                  NaN   \n",
       "3  This is Darla. She commenced a snooze mid meal...                  NaN   \n",
       "4  This is Franklin. He would like you to stop ca...                  NaN   \n",
       "\n",
       "   retweeted_status_user_id retweeted_status_timestamp  \\\n",
       "0                       NaN                        NaN   \n",
       "1                       NaN                        NaN   \n",
       "2                       NaN                        NaN   \n",
       "3                       NaN                        NaN   \n",
       "4                       NaN                        NaN   \n",
       "\n",
       "                                       expanded_urls  rating_numerator  \\\n",
       "0  https://twitter.com/dog_rates/status/892420643...                13   \n",
       "1  https://twitter.com/dog_rates/status/892177421...                13   \n",
       "2  https://twitter.com/dog_rates/status/891815181...                12   \n",
       "3  https://twitter.com/dog_rates/status/891689557...                13   \n",
       "4  https://twitter.com/dog_rates/status/891327558...                12   \n",
       "\n",
       "   rating_denominator      name doggo floofer pupper puppo  \n",
       "0                  10   Phineas  None    None   None  None  \n",
       "1                  10     Tilly  None    None   None  None  \n",
       "2                  10    Archie  None    None   None  None  \n",
       "3                  10     Darla  None    None   None  None  \n",
       "4                  10  Franklin  None    None   None  None  "
      ]
     },
     "execution_count": 14,
     "metadata": {},
     "output_type": "execute_result"
    }
   ],
   "source": [
    "# assessing the first five records in the data set\n",
    "twitter_archive_df.head()"
   ]
  },
  {
   "cell_type": "code",
   "execution_count": 15,
   "id": "1622e685",
   "metadata": {},
   "outputs": [
    {
     "data": {
      "text/html": [
       "<div>\n",
       "<style scoped>\n",
       "    .dataframe tbody tr th:only-of-type {\n",
       "        vertical-align: middle;\n",
       "    }\n",
       "\n",
       "    .dataframe tbody tr th {\n",
       "        vertical-align: top;\n",
       "    }\n",
       "\n",
       "    .dataframe thead th {\n",
       "        text-align: right;\n",
       "    }\n",
       "</style>\n",
       "<table border=\"1\" class=\"dataframe\">\n",
       "  <thead>\n",
       "    <tr style=\"text-align: right;\">\n",
       "      <th></th>\n",
       "      <th>tweet_id</th>\n",
       "      <th>in_reply_to_status_id</th>\n",
       "      <th>in_reply_to_user_id</th>\n",
       "      <th>timestamp</th>\n",
       "      <th>source</th>\n",
       "      <th>text</th>\n",
       "      <th>retweeted_status_id</th>\n",
       "      <th>retweeted_status_user_id</th>\n",
       "      <th>retweeted_status_timestamp</th>\n",
       "      <th>expanded_urls</th>\n",
       "      <th>rating_numerator</th>\n",
       "      <th>rating_denominator</th>\n",
       "      <th>name</th>\n",
       "      <th>doggo</th>\n",
       "      <th>floofer</th>\n",
       "      <th>pupper</th>\n",
       "      <th>puppo</th>\n",
       "    </tr>\n",
       "  </thead>\n",
       "  <tbody>\n",
       "    <tr>\n",
       "      <th>2351</th>\n",
       "      <td>666049248165822465</td>\n",
       "      <td>NaN</td>\n",
       "      <td>NaN</td>\n",
       "      <td>2015-11-16 00:24:50 +0000</td>\n",
       "      <td>&lt;a href=\"http://twitter.com/download/iphone\" r...</td>\n",
       "      <td>Here we have a 1949 1st generation vulpix. Enj...</td>\n",
       "      <td>NaN</td>\n",
       "      <td>NaN</td>\n",
       "      <td>NaN</td>\n",
       "      <td>https://twitter.com/dog_rates/status/666049248...</td>\n",
       "      <td>5</td>\n",
       "      <td>10</td>\n",
       "      <td>None</td>\n",
       "      <td>None</td>\n",
       "      <td>None</td>\n",
       "      <td>None</td>\n",
       "      <td>None</td>\n",
       "    </tr>\n",
       "    <tr>\n",
       "      <th>2352</th>\n",
       "      <td>666044226329800704</td>\n",
       "      <td>NaN</td>\n",
       "      <td>NaN</td>\n",
       "      <td>2015-11-16 00:04:52 +0000</td>\n",
       "      <td>&lt;a href=\"http://twitter.com/download/iphone\" r...</td>\n",
       "      <td>This is a purebred Piers Morgan. Loves to Netf...</td>\n",
       "      <td>NaN</td>\n",
       "      <td>NaN</td>\n",
       "      <td>NaN</td>\n",
       "      <td>https://twitter.com/dog_rates/status/666044226...</td>\n",
       "      <td>6</td>\n",
       "      <td>10</td>\n",
       "      <td>a</td>\n",
       "      <td>None</td>\n",
       "      <td>None</td>\n",
       "      <td>None</td>\n",
       "      <td>None</td>\n",
       "    </tr>\n",
       "    <tr>\n",
       "      <th>2353</th>\n",
       "      <td>666033412701032449</td>\n",
       "      <td>NaN</td>\n",
       "      <td>NaN</td>\n",
       "      <td>2015-11-15 23:21:54 +0000</td>\n",
       "      <td>&lt;a href=\"http://twitter.com/download/iphone\" r...</td>\n",
       "      <td>Here is a very happy pup. Big fan of well-main...</td>\n",
       "      <td>NaN</td>\n",
       "      <td>NaN</td>\n",
       "      <td>NaN</td>\n",
       "      <td>https://twitter.com/dog_rates/status/666033412...</td>\n",
       "      <td>9</td>\n",
       "      <td>10</td>\n",
       "      <td>a</td>\n",
       "      <td>None</td>\n",
       "      <td>None</td>\n",
       "      <td>None</td>\n",
       "      <td>None</td>\n",
       "    </tr>\n",
       "    <tr>\n",
       "      <th>2354</th>\n",
       "      <td>666029285002620928</td>\n",
       "      <td>NaN</td>\n",
       "      <td>NaN</td>\n",
       "      <td>2015-11-15 23:05:30 +0000</td>\n",
       "      <td>&lt;a href=\"http://twitter.com/download/iphone\" r...</td>\n",
       "      <td>This is a western brown Mitsubishi terrier. Up...</td>\n",
       "      <td>NaN</td>\n",
       "      <td>NaN</td>\n",
       "      <td>NaN</td>\n",
       "      <td>https://twitter.com/dog_rates/status/666029285...</td>\n",
       "      <td>7</td>\n",
       "      <td>10</td>\n",
       "      <td>a</td>\n",
       "      <td>None</td>\n",
       "      <td>None</td>\n",
       "      <td>None</td>\n",
       "      <td>None</td>\n",
       "    </tr>\n",
       "    <tr>\n",
       "      <th>2355</th>\n",
       "      <td>666020888022790149</td>\n",
       "      <td>NaN</td>\n",
       "      <td>NaN</td>\n",
       "      <td>2015-11-15 22:32:08 +0000</td>\n",
       "      <td>&lt;a href=\"http://twitter.com/download/iphone\" r...</td>\n",
       "      <td>Here we have a Japanese Irish Setter. Lost eye...</td>\n",
       "      <td>NaN</td>\n",
       "      <td>NaN</td>\n",
       "      <td>NaN</td>\n",
       "      <td>https://twitter.com/dog_rates/status/666020888...</td>\n",
       "      <td>8</td>\n",
       "      <td>10</td>\n",
       "      <td>None</td>\n",
       "      <td>None</td>\n",
       "      <td>None</td>\n",
       "      <td>None</td>\n",
       "      <td>None</td>\n",
       "    </tr>\n",
       "  </tbody>\n",
       "</table>\n",
       "</div>"
      ],
      "text/plain": [
       "                tweet_id  in_reply_to_status_id  in_reply_to_user_id  \\\n",
       "2351  666049248165822465                    NaN                  NaN   \n",
       "2352  666044226329800704                    NaN                  NaN   \n",
       "2353  666033412701032449                    NaN                  NaN   \n",
       "2354  666029285002620928                    NaN                  NaN   \n",
       "2355  666020888022790149                    NaN                  NaN   \n",
       "\n",
       "                      timestamp  \\\n",
       "2351  2015-11-16 00:24:50 +0000   \n",
       "2352  2015-11-16 00:04:52 +0000   \n",
       "2353  2015-11-15 23:21:54 +0000   \n",
       "2354  2015-11-15 23:05:30 +0000   \n",
       "2355  2015-11-15 22:32:08 +0000   \n",
       "\n",
       "                                                 source  \\\n",
       "2351  <a href=\"http://twitter.com/download/iphone\" r...   \n",
       "2352  <a href=\"http://twitter.com/download/iphone\" r...   \n",
       "2353  <a href=\"http://twitter.com/download/iphone\" r...   \n",
       "2354  <a href=\"http://twitter.com/download/iphone\" r...   \n",
       "2355  <a href=\"http://twitter.com/download/iphone\" r...   \n",
       "\n",
       "                                                   text  retweeted_status_id  \\\n",
       "2351  Here we have a 1949 1st generation vulpix. Enj...                  NaN   \n",
       "2352  This is a purebred Piers Morgan. Loves to Netf...                  NaN   \n",
       "2353  Here is a very happy pup. Big fan of well-main...                  NaN   \n",
       "2354  This is a western brown Mitsubishi terrier. Up...                  NaN   \n",
       "2355  Here we have a Japanese Irish Setter. Lost eye...                  NaN   \n",
       "\n",
       "      retweeted_status_user_id retweeted_status_timestamp  \\\n",
       "2351                       NaN                        NaN   \n",
       "2352                       NaN                        NaN   \n",
       "2353                       NaN                        NaN   \n",
       "2354                       NaN                        NaN   \n",
       "2355                       NaN                        NaN   \n",
       "\n",
       "                                          expanded_urls  rating_numerator  \\\n",
       "2351  https://twitter.com/dog_rates/status/666049248...                 5   \n",
       "2352  https://twitter.com/dog_rates/status/666044226...                 6   \n",
       "2353  https://twitter.com/dog_rates/status/666033412...                 9   \n",
       "2354  https://twitter.com/dog_rates/status/666029285...                 7   \n",
       "2355  https://twitter.com/dog_rates/status/666020888...                 8   \n",
       "\n",
       "      rating_denominator  name doggo floofer pupper puppo  \n",
       "2351                  10  None  None    None   None  None  \n",
       "2352                  10     a  None    None   None  None  \n",
       "2353                  10     a  None    None   None  None  \n",
       "2354                  10     a  None    None   None  None  \n",
       "2355                  10  None  None    None   None  None  "
      ]
     },
     "execution_count": 15,
     "metadata": {},
     "output_type": "execute_result"
    }
   ],
   "source": [
    "# assessing the last five records in the data set\n",
    "twitter_archive_df.tail()"
   ]
  },
  {
   "cell_type": "code",
   "execution_count": 16,
   "id": "927777c6",
   "metadata": {},
   "outputs": [
    {
     "data": {
      "text/html": [
       "<div>\n",
       "<style scoped>\n",
       "    .dataframe tbody tr th:only-of-type {\n",
       "        vertical-align: middle;\n",
       "    }\n",
       "\n",
       "    .dataframe tbody tr th {\n",
       "        vertical-align: top;\n",
       "    }\n",
       "\n",
       "    .dataframe thead th {\n",
       "        text-align: right;\n",
       "    }\n",
       "</style>\n",
       "<table border=\"1\" class=\"dataframe\">\n",
       "  <thead>\n",
       "    <tr style=\"text-align: right;\">\n",
       "      <th></th>\n",
       "      <th>tweet_id</th>\n",
       "      <th>in_reply_to_status_id</th>\n",
       "      <th>in_reply_to_user_id</th>\n",
       "      <th>timestamp</th>\n",
       "      <th>source</th>\n",
       "      <th>text</th>\n",
       "      <th>retweeted_status_id</th>\n",
       "      <th>retweeted_status_user_id</th>\n",
       "      <th>retweeted_status_timestamp</th>\n",
       "      <th>expanded_urls</th>\n",
       "      <th>rating_numerator</th>\n",
       "      <th>rating_denominator</th>\n",
       "      <th>name</th>\n",
       "      <th>doggo</th>\n",
       "      <th>floofer</th>\n",
       "      <th>pupper</th>\n",
       "      <th>puppo</th>\n",
       "    </tr>\n",
       "  </thead>\n",
       "  <tbody>\n",
       "    <tr>\n",
       "      <th>2019</th>\n",
       "      <td>672125275208069120</td>\n",
       "      <td>NaN</td>\n",
       "      <td>NaN</td>\n",
       "      <td>2015-12-02 18:48:47 +0000</td>\n",
       "      <td>&lt;a href=\"http://twitter.com/download/iphone\" r...</td>\n",
       "      <td>This is just impressive I have nothing else to...</td>\n",
       "      <td>NaN</td>\n",
       "      <td>NaN</td>\n",
       "      <td>NaN</td>\n",
       "      <td>https://twitter.com/dog_rates/status/672125275...</td>\n",
       "      <td>11</td>\n",
       "      <td>10</td>\n",
       "      <td>just</td>\n",
       "      <td>None</td>\n",
       "      <td>None</td>\n",
       "      <td>None</td>\n",
       "      <td>None</td>\n",
       "    </tr>\n",
       "    <tr>\n",
       "      <th>2305</th>\n",
       "      <td>666837028449972224</td>\n",
       "      <td>NaN</td>\n",
       "      <td>NaN</td>\n",
       "      <td>2015-11-18 04:35:11 +0000</td>\n",
       "      <td>&lt;a href=\"http://twitter.com/download/iphone\" r...</td>\n",
       "      <td>My goodness. Very rare dog here. Large. Tail d...</td>\n",
       "      <td>NaN</td>\n",
       "      <td>NaN</td>\n",
       "      <td>NaN</td>\n",
       "      <td>https://twitter.com/dog_rates/status/666837028...</td>\n",
       "      <td>3</td>\n",
       "      <td>10</td>\n",
       "      <td>None</td>\n",
       "      <td>None</td>\n",
       "      <td>None</td>\n",
       "      <td>None</td>\n",
       "      <td>None</td>\n",
       "    </tr>\n",
       "    <tr>\n",
       "      <th>1285</th>\n",
       "      <td>708469915515297792</td>\n",
       "      <td>NaN</td>\n",
       "      <td>NaN</td>\n",
       "      <td>2016-03-12 01:49:25 +0000</td>\n",
       "      <td>&lt;a href=\"http://twitter.com/download/iphone\" r...</td>\n",
       "      <td>This is Bobble. He's a Croatian Galifianakis. ...</td>\n",
       "      <td>NaN</td>\n",
       "      <td>NaN</td>\n",
       "      <td>NaN</td>\n",
       "      <td>https://twitter.com/dog_rates/status/708469915...</td>\n",
       "      <td>11</td>\n",
       "      <td>10</td>\n",
       "      <td>Bobble</td>\n",
       "      <td>None</td>\n",
       "      <td>None</td>\n",
       "      <td>None</td>\n",
       "      <td>None</td>\n",
       "    </tr>\n",
       "    <tr>\n",
       "      <th>746</th>\n",
       "      <td>780074436359819264</td>\n",
       "      <td>NaN</td>\n",
       "      <td>NaN</td>\n",
       "      <td>2016-09-25 16:00:13 +0000</td>\n",
       "      <td>&lt;a href=\"http://vine.co\" rel=\"nofollow\"&gt;Vine -...</td>\n",
       "      <td>Here's a doggo questioning his entire existenc...</td>\n",
       "      <td>NaN</td>\n",
       "      <td>NaN</td>\n",
       "      <td>NaN</td>\n",
       "      <td>https://vine.co/v/5nzYBpl0TY2</td>\n",
       "      <td>10</td>\n",
       "      <td>10</td>\n",
       "      <td>None</td>\n",
       "      <td>doggo</td>\n",
       "      <td>None</td>\n",
       "      <td>None</td>\n",
       "      <td>None</td>\n",
       "    </tr>\n",
       "    <tr>\n",
       "      <th>70</th>\n",
       "      <td>879008229531029506</td>\n",
       "      <td>NaN</td>\n",
       "      <td>NaN</td>\n",
       "      <td>2017-06-25 16:07:47 +0000</td>\n",
       "      <td>&lt;a href=\"http://twitter.com/download/iphone\" r...</td>\n",
       "      <td>This is Beau. That is Beau's balloon. He takes...</td>\n",
       "      <td>NaN</td>\n",
       "      <td>NaN</td>\n",
       "      <td>NaN</td>\n",
       "      <td>https://twitter.com/dog_rates/status/879008229...</td>\n",
       "      <td>13</td>\n",
       "      <td>10</td>\n",
       "      <td>Beau</td>\n",
       "      <td>None</td>\n",
       "      <td>None</td>\n",
       "      <td>None</td>\n",
       "      <td>None</td>\n",
       "    </tr>\n",
       "  </tbody>\n",
       "</table>\n",
       "</div>"
      ],
      "text/plain": [
       "                tweet_id  in_reply_to_status_id  in_reply_to_user_id  \\\n",
       "2019  672125275208069120                    NaN                  NaN   \n",
       "2305  666837028449972224                    NaN                  NaN   \n",
       "1285  708469915515297792                    NaN                  NaN   \n",
       "746   780074436359819264                    NaN                  NaN   \n",
       "70    879008229531029506                    NaN                  NaN   \n",
       "\n",
       "                      timestamp  \\\n",
       "2019  2015-12-02 18:48:47 +0000   \n",
       "2305  2015-11-18 04:35:11 +0000   \n",
       "1285  2016-03-12 01:49:25 +0000   \n",
       "746   2016-09-25 16:00:13 +0000   \n",
       "70    2017-06-25 16:07:47 +0000   \n",
       "\n",
       "                                                 source  \\\n",
       "2019  <a href=\"http://twitter.com/download/iphone\" r...   \n",
       "2305  <a href=\"http://twitter.com/download/iphone\" r...   \n",
       "1285  <a href=\"http://twitter.com/download/iphone\" r...   \n",
       "746   <a href=\"http://vine.co\" rel=\"nofollow\">Vine -...   \n",
       "70    <a href=\"http://twitter.com/download/iphone\" r...   \n",
       "\n",
       "                                                   text  retweeted_status_id  \\\n",
       "2019  This is just impressive I have nothing else to...                  NaN   \n",
       "2305  My goodness. Very rare dog here. Large. Tail d...                  NaN   \n",
       "1285  This is Bobble. He's a Croatian Galifianakis. ...                  NaN   \n",
       "746   Here's a doggo questioning his entire existenc...                  NaN   \n",
       "70    This is Beau. That is Beau's balloon. He takes...                  NaN   \n",
       "\n",
       "      retweeted_status_user_id retweeted_status_timestamp  \\\n",
       "2019                       NaN                        NaN   \n",
       "2305                       NaN                        NaN   \n",
       "1285                       NaN                        NaN   \n",
       "746                        NaN                        NaN   \n",
       "70                         NaN                        NaN   \n",
       "\n",
       "                                          expanded_urls  rating_numerator  \\\n",
       "2019  https://twitter.com/dog_rates/status/672125275...                11   \n",
       "2305  https://twitter.com/dog_rates/status/666837028...                 3   \n",
       "1285  https://twitter.com/dog_rates/status/708469915...                11   \n",
       "746                       https://vine.co/v/5nzYBpl0TY2                10   \n",
       "70    https://twitter.com/dog_rates/status/879008229...                13   \n",
       "\n",
       "      rating_denominator    name  doggo floofer pupper puppo  \n",
       "2019                  10    just   None    None   None  None  \n",
       "2305                  10    None   None    None   None  None  \n",
       "1285                  10  Bobble   None    None   None  None  \n",
       "746                   10    None  doggo    None   None  None  \n",
       "70                    10    Beau   None    None   None  None  "
      ]
     },
     "execution_count": 16,
     "metadata": {},
     "output_type": "execute_result"
    }
   ],
   "source": [
    "# assessing the records of random 5 samples in the dataset\n",
    "twitter_archive_df.sample(5)"
   ]
  },
  {
   "cell_type": "code",
   "execution_count": 17,
   "id": "458941a2",
   "metadata": {},
   "outputs": [
    {
     "data": {
      "text/plain": [
       "tweet_id                         0\n",
       "in_reply_to_status_id         2278\n",
       "in_reply_to_user_id           2278\n",
       "timestamp                        0\n",
       "source                           0\n",
       "text                             0\n",
       "retweeted_status_id           2175\n",
       "retweeted_status_user_id      2175\n",
       "retweeted_status_timestamp    2175\n",
       "expanded_urls                   59\n",
       "rating_numerator                 0\n",
       "rating_denominator               0\n",
       "name                             0\n",
       "doggo                            0\n",
       "floofer                          0\n",
       "pupper                           0\n",
       "puppo                            0\n",
       "dtype: int64"
      ]
     },
     "execution_count": 17,
     "metadata": {},
     "output_type": "execute_result"
    }
   ],
   "source": [
    "# assessing the amount of null records in each column of the data set\n",
    "twitter_archive_df.isnull().sum()"
   ]
  },
  {
   "cell_type": "code",
   "execution_count": 18,
   "id": "0adbed76",
   "metadata": {},
   "outputs": [
    {
     "data": {
      "text/plain": [
       "0"
      ]
     },
     "execution_count": 18,
     "metadata": {},
     "output_type": "execute_result"
    }
   ],
   "source": [
    "# assessing the number of duplicate records in the data set\n",
    "twitter_archive_df.duplicated().sum()"
   ]
  },
  {
   "cell_type": "code",
   "execution_count": 19,
   "id": "7c504a8c",
   "metadata": {},
   "outputs": [
    {
     "data": {
      "text/html": [
       "<div>\n",
       "<style scoped>\n",
       "    .dataframe tbody tr th:only-of-type {\n",
       "        vertical-align: middle;\n",
       "    }\n",
       "\n",
       "    .dataframe tbody tr th {\n",
       "        vertical-align: top;\n",
       "    }\n",
       "\n",
       "    .dataframe thead th {\n",
       "        text-align: right;\n",
       "    }\n",
       "</style>\n",
       "<table border=\"1\" class=\"dataframe\">\n",
       "  <thead>\n",
       "    <tr style=\"text-align: right;\">\n",
       "      <th></th>\n",
       "      <th>tweet_id</th>\n",
       "      <th>in_reply_to_status_id</th>\n",
       "      <th>in_reply_to_user_id</th>\n",
       "      <th>retweeted_status_id</th>\n",
       "      <th>retweeted_status_user_id</th>\n",
       "      <th>rating_numerator</th>\n",
       "      <th>rating_denominator</th>\n",
       "    </tr>\n",
       "  </thead>\n",
       "  <tbody>\n",
       "    <tr>\n",
       "      <th>count</th>\n",
       "      <td>2.356000e+03</td>\n",
       "      <td>7.800000e+01</td>\n",
       "      <td>7.800000e+01</td>\n",
       "      <td>1.810000e+02</td>\n",
       "      <td>1.810000e+02</td>\n",
       "      <td>2356.000000</td>\n",
       "      <td>2356.000000</td>\n",
       "    </tr>\n",
       "    <tr>\n",
       "      <th>mean</th>\n",
       "      <td>7.427716e+17</td>\n",
       "      <td>7.455079e+17</td>\n",
       "      <td>2.014171e+16</td>\n",
       "      <td>7.720400e+17</td>\n",
       "      <td>1.241698e+16</td>\n",
       "      <td>13.126486</td>\n",
       "      <td>10.455433</td>\n",
       "    </tr>\n",
       "    <tr>\n",
       "      <th>std</th>\n",
       "      <td>6.856705e+16</td>\n",
       "      <td>7.582492e+16</td>\n",
       "      <td>1.252797e+17</td>\n",
       "      <td>6.236928e+16</td>\n",
       "      <td>9.599254e+16</td>\n",
       "      <td>45.876648</td>\n",
       "      <td>6.745237</td>\n",
       "    </tr>\n",
       "    <tr>\n",
       "      <th>min</th>\n",
       "      <td>6.660209e+17</td>\n",
       "      <td>6.658147e+17</td>\n",
       "      <td>1.185634e+07</td>\n",
       "      <td>6.661041e+17</td>\n",
       "      <td>7.832140e+05</td>\n",
       "      <td>0.000000</td>\n",
       "      <td>0.000000</td>\n",
       "    </tr>\n",
       "    <tr>\n",
       "      <th>25%</th>\n",
       "      <td>6.783989e+17</td>\n",
       "      <td>6.757419e+17</td>\n",
       "      <td>3.086374e+08</td>\n",
       "      <td>7.186315e+17</td>\n",
       "      <td>4.196984e+09</td>\n",
       "      <td>10.000000</td>\n",
       "      <td>10.000000</td>\n",
       "    </tr>\n",
       "    <tr>\n",
       "      <th>50%</th>\n",
       "      <td>7.196279e+17</td>\n",
       "      <td>7.038708e+17</td>\n",
       "      <td>4.196984e+09</td>\n",
       "      <td>7.804657e+17</td>\n",
       "      <td>4.196984e+09</td>\n",
       "      <td>11.000000</td>\n",
       "      <td>10.000000</td>\n",
       "    </tr>\n",
       "    <tr>\n",
       "      <th>75%</th>\n",
       "      <td>7.993373e+17</td>\n",
       "      <td>8.257804e+17</td>\n",
       "      <td>4.196984e+09</td>\n",
       "      <td>8.203146e+17</td>\n",
       "      <td>4.196984e+09</td>\n",
       "      <td>12.000000</td>\n",
       "      <td>10.000000</td>\n",
       "    </tr>\n",
       "    <tr>\n",
       "      <th>max</th>\n",
       "      <td>8.924206e+17</td>\n",
       "      <td>8.862664e+17</td>\n",
       "      <td>8.405479e+17</td>\n",
       "      <td>8.874740e+17</td>\n",
       "      <td>7.874618e+17</td>\n",
       "      <td>1776.000000</td>\n",
       "      <td>170.000000</td>\n",
       "    </tr>\n",
       "  </tbody>\n",
       "</table>\n",
       "</div>"
      ],
      "text/plain": [
       "           tweet_id  in_reply_to_status_id  in_reply_to_user_id  \\\n",
       "count  2.356000e+03           7.800000e+01         7.800000e+01   \n",
       "mean   7.427716e+17           7.455079e+17         2.014171e+16   \n",
       "std    6.856705e+16           7.582492e+16         1.252797e+17   \n",
       "min    6.660209e+17           6.658147e+17         1.185634e+07   \n",
       "25%    6.783989e+17           6.757419e+17         3.086374e+08   \n",
       "50%    7.196279e+17           7.038708e+17         4.196984e+09   \n",
       "75%    7.993373e+17           8.257804e+17         4.196984e+09   \n",
       "max    8.924206e+17           8.862664e+17         8.405479e+17   \n",
       "\n",
       "       retweeted_status_id  retweeted_status_user_id  rating_numerator  \\\n",
       "count         1.810000e+02              1.810000e+02       2356.000000   \n",
       "mean          7.720400e+17              1.241698e+16         13.126486   \n",
       "std           6.236928e+16              9.599254e+16         45.876648   \n",
       "min           6.661041e+17              7.832140e+05          0.000000   \n",
       "25%           7.186315e+17              4.196984e+09         10.000000   \n",
       "50%           7.804657e+17              4.196984e+09         11.000000   \n",
       "75%           8.203146e+17              4.196984e+09         12.000000   \n",
       "max           8.874740e+17              7.874618e+17       1776.000000   \n",
       "\n",
       "       rating_denominator  \n",
       "count         2356.000000  \n",
       "mean            10.455433  \n",
       "std              6.745237  \n",
       "min              0.000000  \n",
       "25%             10.000000  \n",
       "50%             10.000000  \n",
       "75%             10.000000  \n",
       "max            170.000000  "
      ]
     },
     "execution_count": 19,
     "metadata": {},
     "output_type": "execute_result"
    }
   ],
   "source": [
    "# assessing some numerical feaures for the numerical datasets\n",
    "twitter_archive_df.describe()"
   ]
  },
  {
   "cell_type": "code",
   "execution_count": 20,
   "id": "c87f6e41",
   "metadata": {},
   "outputs": [
    {
     "data": {
      "text/plain": [
       "315        0\n",
       "1016       0\n",
       "2335       1\n",
       "2261       1\n",
       "2338       1\n",
       "        ... \n",
       "2074     420\n",
       "188      420\n",
       "189      666\n",
       "313      960\n",
       "979     1776\n",
       "Name: rating_numerator, Length: 2356, dtype: int64"
      ]
     },
     "execution_count": 20,
     "metadata": {},
     "output_type": "execute_result"
    }
   ],
   "source": [
    "twitter_archive_df.rating_numerator.sort_values()"
   ]
  },
  {
   "cell_type": "code",
   "execution_count": 21,
   "id": "92d3fdc2",
   "metadata": {
    "scrolled": true
   },
   "outputs": [
    {
     "data": {
      "text/plain": [
       "313       0\n",
       "2335      2\n",
       "516       7\n",
       "1576     10\n",
       "1575     10\n",
       "       ... \n",
       "1635    110\n",
       "1779    120\n",
       "1634    130\n",
       "902     150\n",
       "1120    170\n",
       "Name: rating_denominator, Length: 2356, dtype: int64"
      ]
     },
     "execution_count": 21,
     "metadata": {},
     "output_type": "execute_result"
    }
   ],
   "source": [
    "twitter_archive_df.rating_denominator.sort_values()"
   ]
  },
  {
   "cell_type": "code",
   "execution_count": 22,
   "id": "226dc0a2",
   "metadata": {
    "scrolled": false
   },
   "outputs": [
    {
     "data": {
      "text/plain": [
       "1016      0.0\n",
       "315       0.0\n",
       "1446      0.1\n",
       "2261      0.1\n",
       "1940      0.1\n",
       "        ...  \n",
       "188      42.0\n",
       "2074     42.0\n",
       "189      66.6\n",
       "979     177.6\n",
       "313       inf\n",
       "Length: 2356, dtype: float64"
      ]
     },
     "execution_count": 22,
     "metadata": {},
     "output_type": "execute_result"
    }
   ],
   "source": [
    "rating_result = twitter_archive_df['rating_numerator']/twitter_archive_df['rating_denominator']\n",
    "rating_result.sort_values()"
   ]
  },
  {
   "cell_type": "markdown",
   "id": "7c70c91f",
   "metadata": {},
   "source": [
    "- It can be seen here that there is a problem with the record in index 313. "
   ]
  },
  {
   "cell_type": "code",
   "execution_count": 23,
   "id": "d1d31d21",
   "metadata": {
    "scrolled": true
   },
   "outputs": [
    {
     "data": {
      "text/plain": [
       "12      558\n",
       "11      464\n",
       "10      461\n",
       "13      351\n",
       "9       158\n",
       "8       102\n",
       "7        55\n",
       "14       54\n",
       "5        37\n",
       "6        32\n",
       "3        19\n",
       "4        17\n",
       "1         9\n",
       "2         9\n",
       "0         2\n",
       "15        2\n",
       "75        2\n",
       "420       2\n",
       "182       1\n",
       "204       1\n",
       "143       1\n",
       "121       1\n",
       "99        1\n",
       "20        1\n",
       "45        1\n",
       "27        1\n",
       "17        1\n",
       "24        1\n",
       "26        1\n",
       "44        1\n",
       "50        1\n",
       "60        1\n",
       "80        1\n",
       "84        1\n",
       "88        1\n",
       "1776      1\n",
       "960       1\n",
       "666       1\n",
       "144       1\n",
       "165       1\n",
       "Name: rating_numerator, dtype: int64"
      ]
     },
     "execution_count": 23,
     "metadata": {},
     "output_type": "execute_result"
    }
   ],
   "source": [
    "twitter_archive_df.rating_numerator.value_counts()"
   ]
  },
  {
   "cell_type": "markdown",
   "id": "798a2982",
   "metadata": {},
   "source": [
    "- looking at the values above it is evident that there must be a reason for the high values for some numerators. After, some visual assessment on a spreadsheet it was evident that most records with high numerators also had high denominators. This is allowed when it comes to rating as certain dogs are allowed to have higher ratings than others and this could be as a result of its price, agility, speed and so on"
   ]
  },
  {
   "cell_type": "code",
   "execution_count": 24,
   "id": "9e563526",
   "metadata": {
    "scrolled": false
   },
   "outputs": [
    {
     "name": "stdout",
     "output_type": "stream",
     "text": [
      "902    Why does this never happen at my front door......\n",
      "Name: text, dtype: object\n",
      "1779    IT'S PUPPERGEDDON. Total of 144/120 ...I think...\n",
      "Name: text, dtype: object\n",
      "189    @s8n You tried very hard to portray this good ...\n",
      "Name: text, dtype: object\n",
      "313    @jonnysun @Lin_Manuel ok jomny I know you're e...\n",
      "Name: text, dtype: object\n",
      "979    This is Atticus. He's quite simply America af....\n",
      "Name: text, dtype: object\n",
      "188     @dhmontgomery We also gave snoop dogg a 420/10...\n",
      "2074    After so many requests... here you go.\\n\\nGood...\n",
      "Name: text, dtype: object\n",
      "290    @markhoppus 182/10\n",
      "Name: text, dtype: object\n",
      "1120    Say hello to this unbelievably well behaved sq...\n",
      "Name: text, dtype: object\n",
      "1634    Two sneaky puppers were not initially seen, mo...\n",
      "Name: text, dtype: object\n",
      "1635    Someone help the girl is being mugged. Several...\n",
      "Name: text, dtype: object\n"
     ]
    }
   ],
   "source": [
    "# displaying the text for records with gigh value for the numerator to check for more reasons\n",
    "print(twitter_archive_df.loc[twitter_archive_df.rating_numerator == 165, 'text' ])\n",
    "print(twitter_archive_df.loc[twitter_archive_df.rating_numerator == 144, 'text' ])\n",
    "print(twitter_archive_df.loc[twitter_archive_df.rating_numerator == 666, 'text' ])\n",
    "print(twitter_archive_df.loc[twitter_archive_df.rating_numerator == 960, 'text' ])\n",
    "print(twitter_archive_df.loc[twitter_archive_df.rating_numerator == 1776, 'text' ])\n",
    "print(twitter_archive_df.loc[twitter_archive_df.rating_numerator == 420, 'text' ])\n",
    "print(twitter_archive_df.loc[twitter_archive_df.rating_numerator == 182, 'text' ])\n",
    "print(twitter_archive_df.loc[twitter_archive_df.rating_numerator == 204, 'text' ])\n",
    "print(twitter_archive_df.loc[twitter_archive_df.rating_numerator == 143, 'text' ])\n",
    "print(twitter_archive_df.loc[twitter_archive_df.rating_numerator == 121, 'text' ])"
   ]
  },
  {
   "cell_type": "code",
   "execution_count": 25,
   "id": "6be234ee",
   "metadata": {},
   "outputs": [
    {
     "name": "stdout",
     "output_type": "stream",
     "text": [
      "Why does this never happen at my front door... 165/150 https://t.co/HmwrdfEfUE\n",
      "IT'S PUPPERGEDDON. Total of 144/120 ...I think https://t.co/ZanVtAtvIq\n",
      "@s8n You tried very hard to portray this good boy as not so good, but you have ultimately failed. His goodness shines through. 666/10\n",
      "@jonnysun @Lin_Manuel ok jomny I know you're excited but 960/00 isn't a valid rating, 13/10 is tho\n",
      "This is Atticus. He's quite simply America af. 1776/10 https://t.co/GRXwMxLBkh\n",
      "@dhmontgomery We also gave snoop dogg a 420/10 but I think that predated your research\n",
      "After so many requests... here you go.\n",
      "\n",
      "Good dogg. 420/10 https://t.co/yfAAo1gdeY\n",
      "@markhoppus 182/10\n",
      "Say hello to this unbelievably well behaved squad of doggos. 204/170 would try to pet all at once https://t.co/yGQI3He3xv\n",
      "Two sneaky puppers were not initially seen, moving the rating to 143/130. Please forgive us. Thank you https://t.co/kRK51Y5ac3\n",
      "Someone help the girl is being mugged. Several are distracting her while two steal her shoes. Clever puppers 121/110 https://t.co/1zfnTJLt55\n"
     ]
    }
   ],
   "source": [
    "# To check for the denominator in each of the above gotten column\n",
    "print(twitter_archive_df['text'][902])     \n",
    "print(twitter_archive_df['text'][1779])    \n",
    "print(twitter_archive_df['text'][189])     \n",
    "print(twitter_archive_df['text'][313])     \n",
    "print(twitter_archive_df['text'][979])     \n",
    "print(twitter_archive_df['text'][188])    \n",
    "print(twitter_archive_df['text'][2074])    \n",
    "print(twitter_archive_df['text'][290])    \n",
    "print(twitter_archive_df['text'][1120])    \n",
    "print(twitter_archive_df['text'][1634])\n",
    "print(twitter_archive_df['text'][1635])"
   ]
  },
  {
   "cell_type": "code",
   "execution_count": 26,
   "id": "f8321930",
   "metadata": {
    "scrolled": true
   },
   "outputs": [
    {
     "data": {
      "text/plain": [
       "10     2333\n",
       "11        3\n",
       "50        3\n",
       "20        2\n",
       "80        2\n",
       "0         1\n",
       "120       1\n",
       "7         1\n",
       "170       1\n",
       "150       1\n",
       "130       1\n",
       "90        1\n",
       "110       1\n",
       "2         1\n",
       "70        1\n",
       "40        1\n",
       "16        1\n",
       "15        1\n",
       "Name: rating_denominator, dtype: int64"
      ]
     },
     "execution_count": 26,
     "metadata": {},
     "output_type": "execute_result"
    }
   ],
   "source": [
    "twitter_archive_df.rating_denominator.value_counts()"
   ]
  },
  {
   "cell_type": "code",
   "execution_count": 27,
   "id": "6de0e949",
   "metadata": {
    "scrolled": true
   },
   "outputs": [
    {
     "data": {
      "text/plain": [
       "Abby     2\n",
       "Ace      1\n",
       "Acro     1\n",
       "Adele    1\n",
       "Aiden    1\n",
       "        ..\n",
       "Ziva     1\n",
       "Zoe      1\n",
       "Zoey     3\n",
       "Zooey    1\n",
       "Zuzu     1\n",
       "Name: name, Length: 932, dtype: int64"
      ]
     },
     "execution_count": 27,
     "metadata": {},
     "output_type": "execute_result"
    }
   ],
   "source": [
    "# checking if the name column contains capitalized words\n",
    "err_capital = twitter_archive_df.name.str.contains(r'[^a-z]')\n",
    "twitter_archive_df[err_capital].name.value_counts().sort_index()"
   ]
  },
  {
   "cell_type": "code",
   "execution_count": 28,
   "id": "9d1aada3",
   "metadata": {
    "scrolled": true
   },
   "outputs": [
    {
     "data": {
      "text/plain": [
       "None       2346\n",
       "floofer      10\n",
       "Name: floofer, dtype: int64"
      ]
     },
     "execution_count": 28,
     "metadata": {},
     "output_type": "execute_result"
    }
   ],
   "source": [
    "twitter_archive_df.floofer.value_counts()"
   ]
  },
  {
   "cell_type": "code",
   "execution_count": 29,
   "id": "6c493961",
   "metadata": {
    "scrolled": true
   },
   "outputs": [
    {
     "data": {
      "text/plain": [
       "None     2259\n",
       "doggo      97\n",
       "Name: doggo, dtype: int64"
      ]
     },
     "execution_count": 29,
     "metadata": {},
     "output_type": "execute_result"
    }
   ],
   "source": [
    "twitter_archive_df.doggo.value_counts()"
   ]
  },
  {
   "cell_type": "code",
   "execution_count": 30,
   "id": "864fe1eb",
   "metadata": {
    "scrolled": true
   },
   "outputs": [
    {
     "data": {
      "text/plain": [
       "None      2099\n",
       "pupper     257\n",
       "Name: pupper, dtype: int64"
      ]
     },
     "execution_count": 30,
     "metadata": {},
     "output_type": "execute_result"
    }
   ],
   "source": [
    "twitter_archive_df.pupper.value_counts()"
   ]
  },
  {
   "cell_type": "code",
   "execution_count": 31,
   "id": "97cf7be6",
   "metadata": {
    "scrolled": true
   },
   "outputs": [
    {
     "data": {
      "text/plain": [
       "None     2326\n",
       "puppo      30\n",
       "Name: puppo, dtype: int64"
      ]
     },
     "execution_count": 31,
     "metadata": {},
     "output_type": "execute_result"
    }
   ],
   "source": [
    "twitter_archive_df.puppo.value_counts()"
   ]
  },
  {
   "cell_type": "markdown",
   "id": "bf980a5f",
   "metadata": {},
   "source": [
    "### 2. Image prediction data"
   ]
  },
  {
   "cell_type": "code",
   "execution_count": 32,
   "id": "22cc8b0f",
   "metadata": {},
   "outputs": [
    {
     "data": {
      "text/html": [
       "<div>\n",
       "<style scoped>\n",
       "    .dataframe tbody tr th:only-of-type {\n",
       "        vertical-align: middle;\n",
       "    }\n",
       "\n",
       "    .dataframe tbody tr th {\n",
       "        vertical-align: top;\n",
       "    }\n",
       "\n",
       "    .dataframe thead th {\n",
       "        text-align: right;\n",
       "    }\n",
       "</style>\n",
       "<table border=\"1\" class=\"dataframe\">\n",
       "  <thead>\n",
       "    <tr style=\"text-align: right;\">\n",
       "      <th></th>\n",
       "      <th>tweet_id</th>\n",
       "      <th>jpg_url</th>\n",
       "      <th>img_num</th>\n",
       "      <th>p1</th>\n",
       "      <th>p1_conf</th>\n",
       "      <th>p1_dog</th>\n",
       "      <th>p2</th>\n",
       "      <th>p2_conf</th>\n",
       "      <th>p2_dog</th>\n",
       "      <th>p3</th>\n",
       "      <th>p3_conf</th>\n",
       "      <th>p3_dog</th>\n",
       "    </tr>\n",
       "  </thead>\n",
       "  <tbody>\n",
       "    <tr>\n",
       "      <th>0</th>\n",
       "      <td>666020888022790149</td>\n",
       "      <td>https://pbs.twimg.com/media/CT4udn0WwAA0aMy.jpg</td>\n",
       "      <td>1</td>\n",
       "      <td>Welsh_springer_spaniel</td>\n",
       "      <td>0.465074</td>\n",
       "      <td>True</td>\n",
       "      <td>collie</td>\n",
       "      <td>0.156665</td>\n",
       "      <td>True</td>\n",
       "      <td>Shetland_sheepdog</td>\n",
       "      <td>0.061428</td>\n",
       "      <td>True</td>\n",
       "    </tr>\n",
       "    <tr>\n",
       "      <th>1</th>\n",
       "      <td>666029285002620928</td>\n",
       "      <td>https://pbs.twimg.com/media/CT42GRgUYAA5iDo.jpg</td>\n",
       "      <td>1</td>\n",
       "      <td>redbone</td>\n",
       "      <td>0.506826</td>\n",
       "      <td>True</td>\n",
       "      <td>miniature_pinscher</td>\n",
       "      <td>0.074192</td>\n",
       "      <td>True</td>\n",
       "      <td>Rhodesian_ridgeback</td>\n",
       "      <td>0.072010</td>\n",
       "      <td>True</td>\n",
       "    </tr>\n",
       "    <tr>\n",
       "      <th>2</th>\n",
       "      <td>666033412701032449</td>\n",
       "      <td>https://pbs.twimg.com/media/CT4521TWwAEvMyu.jpg</td>\n",
       "      <td>1</td>\n",
       "      <td>German_shepherd</td>\n",
       "      <td>0.596461</td>\n",
       "      <td>True</td>\n",
       "      <td>malinois</td>\n",
       "      <td>0.138584</td>\n",
       "      <td>True</td>\n",
       "      <td>bloodhound</td>\n",
       "      <td>0.116197</td>\n",
       "      <td>True</td>\n",
       "    </tr>\n",
       "    <tr>\n",
       "      <th>3</th>\n",
       "      <td>666044226329800704</td>\n",
       "      <td>https://pbs.twimg.com/media/CT5Dr8HUEAA-lEu.jpg</td>\n",
       "      <td>1</td>\n",
       "      <td>Rhodesian_ridgeback</td>\n",
       "      <td>0.408143</td>\n",
       "      <td>True</td>\n",
       "      <td>redbone</td>\n",
       "      <td>0.360687</td>\n",
       "      <td>True</td>\n",
       "      <td>miniature_pinscher</td>\n",
       "      <td>0.222752</td>\n",
       "      <td>True</td>\n",
       "    </tr>\n",
       "    <tr>\n",
       "      <th>4</th>\n",
       "      <td>666049248165822465</td>\n",
       "      <td>https://pbs.twimg.com/media/CT5IQmsXIAAKY4A.jpg</td>\n",
       "      <td>1</td>\n",
       "      <td>miniature_pinscher</td>\n",
       "      <td>0.560311</td>\n",
       "      <td>True</td>\n",
       "      <td>Rottweiler</td>\n",
       "      <td>0.243682</td>\n",
       "      <td>True</td>\n",
       "      <td>Doberman</td>\n",
       "      <td>0.154629</td>\n",
       "      <td>True</td>\n",
       "    </tr>\n",
       "  </tbody>\n",
       "</table>\n",
       "</div>"
      ],
      "text/plain": [
       "             tweet_id                                          jpg_url  \\\n",
       "0  666020888022790149  https://pbs.twimg.com/media/CT4udn0WwAA0aMy.jpg   \n",
       "1  666029285002620928  https://pbs.twimg.com/media/CT42GRgUYAA5iDo.jpg   \n",
       "2  666033412701032449  https://pbs.twimg.com/media/CT4521TWwAEvMyu.jpg   \n",
       "3  666044226329800704  https://pbs.twimg.com/media/CT5Dr8HUEAA-lEu.jpg   \n",
       "4  666049248165822465  https://pbs.twimg.com/media/CT5IQmsXIAAKY4A.jpg   \n",
       "\n",
       "   img_num                      p1   p1_conf  p1_dog                  p2  \\\n",
       "0        1  Welsh_springer_spaniel  0.465074    True              collie   \n",
       "1        1                 redbone  0.506826    True  miniature_pinscher   \n",
       "2        1         German_shepherd  0.596461    True            malinois   \n",
       "3        1     Rhodesian_ridgeback  0.408143    True             redbone   \n",
       "4        1      miniature_pinscher  0.560311    True          Rottweiler   \n",
       "\n",
       "    p2_conf  p2_dog                   p3   p3_conf  p3_dog  \n",
       "0  0.156665    True    Shetland_sheepdog  0.061428    True  \n",
       "1  0.074192    True  Rhodesian_ridgeback  0.072010    True  \n",
       "2  0.138584    True           bloodhound  0.116197    True  \n",
       "3  0.360687    True   miniature_pinscher  0.222752    True  \n",
       "4  0.243682    True             Doberman  0.154629    True  "
      ]
     },
     "execution_count": 32,
     "metadata": {},
     "output_type": "execute_result"
    }
   ],
   "source": [
    "image_pred_df.head()"
   ]
  },
  {
   "cell_type": "code",
   "execution_count": 33,
   "id": "42173d17",
   "metadata": {},
   "outputs": [
    {
     "data": {
      "text/html": [
       "<div>\n",
       "<style scoped>\n",
       "    .dataframe tbody tr th:only-of-type {\n",
       "        vertical-align: middle;\n",
       "    }\n",
       "\n",
       "    .dataframe tbody tr th {\n",
       "        vertical-align: top;\n",
       "    }\n",
       "\n",
       "    .dataframe thead th {\n",
       "        text-align: right;\n",
       "    }\n",
       "</style>\n",
       "<table border=\"1\" class=\"dataframe\">\n",
       "  <thead>\n",
       "    <tr style=\"text-align: right;\">\n",
       "      <th></th>\n",
       "      <th>tweet_id</th>\n",
       "      <th>jpg_url</th>\n",
       "      <th>img_num</th>\n",
       "      <th>p1</th>\n",
       "      <th>p1_conf</th>\n",
       "      <th>p1_dog</th>\n",
       "      <th>p2</th>\n",
       "      <th>p2_conf</th>\n",
       "      <th>p2_dog</th>\n",
       "      <th>p3</th>\n",
       "      <th>p3_conf</th>\n",
       "      <th>p3_dog</th>\n",
       "    </tr>\n",
       "  </thead>\n",
       "  <tbody>\n",
       "    <tr>\n",
       "      <th>2070</th>\n",
       "      <td>891327558926688256</td>\n",
       "      <td>https://pbs.twimg.com/media/DF6hr6BUMAAzZgT.jpg</td>\n",
       "      <td>2</td>\n",
       "      <td>basset</td>\n",
       "      <td>0.555712</td>\n",
       "      <td>True</td>\n",
       "      <td>English_springer</td>\n",
       "      <td>0.225770</td>\n",
       "      <td>True</td>\n",
       "      <td>German_short-haired_pointer</td>\n",
       "      <td>0.175219</td>\n",
       "      <td>True</td>\n",
       "    </tr>\n",
       "    <tr>\n",
       "      <th>2071</th>\n",
       "      <td>891689557279858688</td>\n",
       "      <td>https://pbs.twimg.com/media/DF_q7IAWsAEuuN8.jpg</td>\n",
       "      <td>1</td>\n",
       "      <td>paper_towel</td>\n",
       "      <td>0.170278</td>\n",
       "      <td>False</td>\n",
       "      <td>Labrador_retriever</td>\n",
       "      <td>0.168086</td>\n",
       "      <td>True</td>\n",
       "      <td>spatula</td>\n",
       "      <td>0.040836</td>\n",
       "      <td>False</td>\n",
       "    </tr>\n",
       "    <tr>\n",
       "      <th>2072</th>\n",
       "      <td>891815181378084864</td>\n",
       "      <td>https://pbs.twimg.com/media/DGBdLU1WsAANxJ9.jpg</td>\n",
       "      <td>1</td>\n",
       "      <td>Chihuahua</td>\n",
       "      <td>0.716012</td>\n",
       "      <td>True</td>\n",
       "      <td>malamute</td>\n",
       "      <td>0.078253</td>\n",
       "      <td>True</td>\n",
       "      <td>kelpie</td>\n",
       "      <td>0.031379</td>\n",
       "      <td>True</td>\n",
       "    </tr>\n",
       "    <tr>\n",
       "      <th>2073</th>\n",
       "      <td>892177421306343426</td>\n",
       "      <td>https://pbs.twimg.com/media/DGGmoV4XsAAUL6n.jpg</td>\n",
       "      <td>1</td>\n",
       "      <td>Chihuahua</td>\n",
       "      <td>0.323581</td>\n",
       "      <td>True</td>\n",
       "      <td>Pekinese</td>\n",
       "      <td>0.090647</td>\n",
       "      <td>True</td>\n",
       "      <td>papillon</td>\n",
       "      <td>0.068957</td>\n",
       "      <td>True</td>\n",
       "    </tr>\n",
       "    <tr>\n",
       "      <th>2074</th>\n",
       "      <td>892420643555336193</td>\n",
       "      <td>https://pbs.twimg.com/media/DGKD1-bXoAAIAUK.jpg</td>\n",
       "      <td>1</td>\n",
       "      <td>orange</td>\n",
       "      <td>0.097049</td>\n",
       "      <td>False</td>\n",
       "      <td>bagel</td>\n",
       "      <td>0.085851</td>\n",
       "      <td>False</td>\n",
       "      <td>banana</td>\n",
       "      <td>0.076110</td>\n",
       "      <td>False</td>\n",
       "    </tr>\n",
       "  </tbody>\n",
       "</table>\n",
       "</div>"
      ],
      "text/plain": [
       "                tweet_id                                          jpg_url  \\\n",
       "2070  891327558926688256  https://pbs.twimg.com/media/DF6hr6BUMAAzZgT.jpg   \n",
       "2071  891689557279858688  https://pbs.twimg.com/media/DF_q7IAWsAEuuN8.jpg   \n",
       "2072  891815181378084864  https://pbs.twimg.com/media/DGBdLU1WsAANxJ9.jpg   \n",
       "2073  892177421306343426  https://pbs.twimg.com/media/DGGmoV4XsAAUL6n.jpg   \n",
       "2074  892420643555336193  https://pbs.twimg.com/media/DGKD1-bXoAAIAUK.jpg   \n",
       "\n",
       "      img_num           p1   p1_conf  p1_dog                  p2   p2_conf  \\\n",
       "2070        2       basset  0.555712    True    English_springer  0.225770   \n",
       "2071        1  paper_towel  0.170278   False  Labrador_retriever  0.168086   \n",
       "2072        1    Chihuahua  0.716012    True            malamute  0.078253   \n",
       "2073        1    Chihuahua  0.323581    True            Pekinese  0.090647   \n",
       "2074        1       orange  0.097049   False               bagel  0.085851   \n",
       "\n",
       "      p2_dog                           p3   p3_conf  p3_dog  \n",
       "2070    True  German_short-haired_pointer  0.175219    True  \n",
       "2071    True                      spatula  0.040836   False  \n",
       "2072    True                       kelpie  0.031379    True  \n",
       "2073    True                     papillon  0.068957    True  \n",
       "2074   False                       banana  0.076110   False  "
      ]
     },
     "execution_count": 33,
     "metadata": {},
     "output_type": "execute_result"
    }
   ],
   "source": [
    "image_pred_df.tail()"
   ]
  },
  {
   "cell_type": "code",
   "execution_count": 34,
   "id": "5b53b412",
   "metadata": {},
   "outputs": [
    {
     "data": {
      "text/html": [
       "<div>\n",
       "<style scoped>\n",
       "    .dataframe tbody tr th:only-of-type {\n",
       "        vertical-align: middle;\n",
       "    }\n",
       "\n",
       "    .dataframe tbody tr th {\n",
       "        vertical-align: top;\n",
       "    }\n",
       "\n",
       "    .dataframe thead th {\n",
       "        text-align: right;\n",
       "    }\n",
       "</style>\n",
       "<table border=\"1\" class=\"dataframe\">\n",
       "  <thead>\n",
       "    <tr style=\"text-align: right;\">\n",
       "      <th></th>\n",
       "      <th>tweet_id</th>\n",
       "      <th>jpg_url</th>\n",
       "      <th>img_num</th>\n",
       "      <th>p1</th>\n",
       "      <th>p1_conf</th>\n",
       "      <th>p1_dog</th>\n",
       "      <th>p2</th>\n",
       "      <th>p2_conf</th>\n",
       "      <th>p2_dog</th>\n",
       "      <th>p3</th>\n",
       "      <th>p3_conf</th>\n",
       "      <th>p3_dog</th>\n",
       "    </tr>\n",
       "  </thead>\n",
       "  <tbody>\n",
       "    <tr>\n",
       "      <th>182</th>\n",
       "      <td>669351434509529089</td>\n",
       "      <td>https://pbs.twimg.com/media/CUoDk8mWsAAMyBL.jpg</td>\n",
       "      <td>1</td>\n",
       "      <td>cuirass</td>\n",
       "      <td>0.756829</td>\n",
       "      <td>False</td>\n",
       "      <td>breastplate</td>\n",
       "      <td>0.233520</td>\n",
       "      <td>False</td>\n",
       "      <td>bulletproof_vest</td>\n",
       "      <td>0.003812</td>\n",
       "      <td>False</td>\n",
       "    </tr>\n",
       "    <tr>\n",
       "      <th>1472</th>\n",
       "      <td>779834332596887552</td>\n",
       "      <td>https://pbs.twimg.com/media/CtKHLuCWYAA2TTs.jpg</td>\n",
       "      <td>1</td>\n",
       "      <td>golden_retriever</td>\n",
       "      <td>0.993830</td>\n",
       "      <td>True</td>\n",
       "      <td>cocker_spaniel</td>\n",
       "      <td>0.003143</td>\n",
       "      <td>True</td>\n",
       "      <td>Great_Pyrenees</td>\n",
       "      <td>0.000917</td>\n",
       "      <td>True</td>\n",
       "    </tr>\n",
       "    <tr>\n",
       "      <th>1444</th>\n",
       "      <td>775733305207554048</td>\n",
       "      <td>https://pbs.twimg.com/media/CsP1UvaW8AExVSA.jpg</td>\n",
       "      <td>1</td>\n",
       "      <td>long-horned_beetle</td>\n",
       "      <td>0.613852</td>\n",
       "      <td>False</td>\n",
       "      <td>ox</td>\n",
       "      <td>0.029473</td>\n",
       "      <td>False</td>\n",
       "      <td>rhinoceros_beetle</td>\n",
       "      <td>0.027806</td>\n",
       "      <td>False</td>\n",
       "    </tr>\n",
       "    <tr>\n",
       "      <th>731</th>\n",
       "      <td>686683045143953408</td>\n",
       "      <td>https://pbs.twimg.com/media/CYeWlh0WAAADhsj.jpg</td>\n",
       "      <td>1</td>\n",
       "      <td>Norwich_terrier</td>\n",
       "      <td>0.100499</td>\n",
       "      <td>True</td>\n",
       "      <td>cocker_spaniel</td>\n",
       "      <td>0.080671</td>\n",
       "      <td>True</td>\n",
       "      <td>golden_retriever</td>\n",
       "      <td>0.079406</td>\n",
       "      <td>True</td>\n",
       "    </tr>\n",
       "    <tr>\n",
       "      <th>1413</th>\n",
       "      <td>771004394259247104</td>\n",
       "      <td>https://pbs.twimg.com/media/CrMmVqyWcAIDCHI.jpg</td>\n",
       "      <td>1</td>\n",
       "      <td>home_theater</td>\n",
       "      <td>0.414338</td>\n",
       "      <td>False</td>\n",
       "      <td>iPod</td>\n",
       "      <td>0.052741</td>\n",
       "      <td>False</td>\n",
       "      <td>pop_bottle</td>\n",
       "      <td>0.048821</td>\n",
       "      <td>False</td>\n",
       "    </tr>\n",
       "  </tbody>\n",
       "</table>\n",
       "</div>"
      ],
      "text/plain": [
       "                tweet_id                                          jpg_url  \\\n",
       "182   669351434509529089  https://pbs.twimg.com/media/CUoDk8mWsAAMyBL.jpg   \n",
       "1472  779834332596887552  https://pbs.twimg.com/media/CtKHLuCWYAA2TTs.jpg   \n",
       "1444  775733305207554048  https://pbs.twimg.com/media/CsP1UvaW8AExVSA.jpg   \n",
       "731   686683045143953408  https://pbs.twimg.com/media/CYeWlh0WAAADhsj.jpg   \n",
       "1413  771004394259247104  https://pbs.twimg.com/media/CrMmVqyWcAIDCHI.jpg   \n",
       "\n",
       "      img_num                  p1   p1_conf  p1_dog              p2   p2_conf  \\\n",
       "182         1             cuirass  0.756829   False     breastplate  0.233520   \n",
       "1472        1    golden_retriever  0.993830    True  cocker_spaniel  0.003143   \n",
       "1444        1  long-horned_beetle  0.613852   False              ox  0.029473   \n",
       "731         1     Norwich_terrier  0.100499    True  cocker_spaniel  0.080671   \n",
       "1413        1        home_theater  0.414338   False            iPod  0.052741   \n",
       "\n",
       "      p2_dog                 p3   p3_conf  p3_dog  \n",
       "182    False   bulletproof_vest  0.003812   False  \n",
       "1472    True     Great_Pyrenees  0.000917    True  \n",
       "1444   False  rhinoceros_beetle  0.027806   False  \n",
       "731     True   golden_retriever  0.079406    True  \n",
       "1413   False         pop_bottle  0.048821   False  "
      ]
     },
     "execution_count": 34,
     "metadata": {},
     "output_type": "execute_result"
    }
   ],
   "source": [
    "image_pred_df.sample(5)"
   ]
  },
  {
   "cell_type": "code",
   "execution_count": 35,
   "id": "b3bd8c91",
   "metadata": {},
   "outputs": [
    {
     "name": "stdout",
     "output_type": "stream",
     "text": [
      "<class 'pandas.core.frame.DataFrame'>\n",
      "RangeIndex: 2075 entries, 0 to 2074\n",
      "Data columns (total 12 columns):\n",
      " #   Column    Non-Null Count  Dtype  \n",
      "---  ------    --------------  -----  \n",
      " 0   tweet_id  2075 non-null   int64  \n",
      " 1   jpg_url   2075 non-null   object \n",
      " 2   img_num   2075 non-null   int64  \n",
      " 3   p1        2075 non-null   object \n",
      " 4   p1_conf   2075 non-null   float64\n",
      " 5   p1_dog    2075 non-null   bool   \n",
      " 6   p2        2075 non-null   object \n",
      " 7   p2_conf   2075 non-null   float64\n",
      " 8   p2_dog    2075 non-null   bool   \n",
      " 9   p3        2075 non-null   object \n",
      " 10  p3_conf   2075 non-null   float64\n",
      " 11  p3_dog    2075 non-null   bool   \n",
      "dtypes: bool(3), float64(3), int64(2), object(4)\n",
      "memory usage: 152.1+ KB\n"
     ]
    }
   ],
   "source": [
    "image_pred_df.info()"
   ]
  },
  {
   "cell_type": "code",
   "execution_count": 36,
   "id": "2cae0204",
   "metadata": {},
   "outputs": [
    {
     "data": {
      "text/html": [
       "<div>\n",
       "<style scoped>\n",
       "    .dataframe tbody tr th:only-of-type {\n",
       "        vertical-align: middle;\n",
       "    }\n",
       "\n",
       "    .dataframe tbody tr th {\n",
       "        vertical-align: top;\n",
       "    }\n",
       "\n",
       "    .dataframe thead th {\n",
       "        text-align: right;\n",
       "    }\n",
       "</style>\n",
       "<table border=\"1\" class=\"dataframe\">\n",
       "  <thead>\n",
       "    <tr style=\"text-align: right;\">\n",
       "      <th></th>\n",
       "      <th>tweet_id</th>\n",
       "      <th>img_num</th>\n",
       "      <th>p1_conf</th>\n",
       "      <th>p2_conf</th>\n",
       "      <th>p3_conf</th>\n",
       "    </tr>\n",
       "  </thead>\n",
       "  <tbody>\n",
       "    <tr>\n",
       "      <th>count</th>\n",
       "      <td>2.075000e+03</td>\n",
       "      <td>2075.000000</td>\n",
       "      <td>2075.000000</td>\n",
       "      <td>2.075000e+03</td>\n",
       "      <td>2.075000e+03</td>\n",
       "    </tr>\n",
       "    <tr>\n",
       "      <th>mean</th>\n",
       "      <td>7.384514e+17</td>\n",
       "      <td>1.203855</td>\n",
       "      <td>0.594548</td>\n",
       "      <td>1.345886e-01</td>\n",
       "      <td>6.032417e-02</td>\n",
       "    </tr>\n",
       "    <tr>\n",
       "      <th>std</th>\n",
       "      <td>6.785203e+16</td>\n",
       "      <td>0.561875</td>\n",
       "      <td>0.271174</td>\n",
       "      <td>1.006657e-01</td>\n",
       "      <td>5.090593e-02</td>\n",
       "    </tr>\n",
       "    <tr>\n",
       "      <th>min</th>\n",
       "      <td>6.660209e+17</td>\n",
       "      <td>1.000000</td>\n",
       "      <td>0.044333</td>\n",
       "      <td>1.011300e-08</td>\n",
       "      <td>1.740170e-10</td>\n",
       "    </tr>\n",
       "    <tr>\n",
       "      <th>25%</th>\n",
       "      <td>6.764835e+17</td>\n",
       "      <td>1.000000</td>\n",
       "      <td>0.364412</td>\n",
       "      <td>5.388625e-02</td>\n",
       "      <td>1.622240e-02</td>\n",
       "    </tr>\n",
       "    <tr>\n",
       "      <th>50%</th>\n",
       "      <td>7.119988e+17</td>\n",
       "      <td>1.000000</td>\n",
       "      <td>0.588230</td>\n",
       "      <td>1.181810e-01</td>\n",
       "      <td>4.944380e-02</td>\n",
       "    </tr>\n",
       "    <tr>\n",
       "      <th>75%</th>\n",
       "      <td>7.932034e+17</td>\n",
       "      <td>1.000000</td>\n",
       "      <td>0.843855</td>\n",
       "      <td>1.955655e-01</td>\n",
       "      <td>9.180755e-02</td>\n",
       "    </tr>\n",
       "    <tr>\n",
       "      <th>max</th>\n",
       "      <td>8.924206e+17</td>\n",
       "      <td>4.000000</td>\n",
       "      <td>1.000000</td>\n",
       "      <td>4.880140e-01</td>\n",
       "      <td>2.734190e-01</td>\n",
       "    </tr>\n",
       "  </tbody>\n",
       "</table>\n",
       "</div>"
      ],
      "text/plain": [
       "           tweet_id      img_num      p1_conf       p2_conf       p3_conf\n",
       "count  2.075000e+03  2075.000000  2075.000000  2.075000e+03  2.075000e+03\n",
       "mean   7.384514e+17     1.203855     0.594548  1.345886e-01  6.032417e-02\n",
       "std    6.785203e+16     0.561875     0.271174  1.006657e-01  5.090593e-02\n",
       "min    6.660209e+17     1.000000     0.044333  1.011300e-08  1.740170e-10\n",
       "25%    6.764835e+17     1.000000     0.364412  5.388625e-02  1.622240e-02\n",
       "50%    7.119988e+17     1.000000     0.588230  1.181810e-01  4.944380e-02\n",
       "75%    7.932034e+17     1.000000     0.843855  1.955655e-01  9.180755e-02\n",
       "max    8.924206e+17     4.000000     1.000000  4.880140e-01  2.734190e-01"
      ]
     },
     "execution_count": 36,
     "metadata": {},
     "output_type": "execute_result"
    }
   ],
   "source": [
    "image_pred_df.describe()"
   ]
  },
  {
   "cell_type": "code",
   "execution_count": 37,
   "id": "8b6eb826",
   "metadata": {},
   "outputs": [
    {
     "data": {
      "text/plain": [
       "array([1, 4, 2, 3], dtype=int64)"
      ]
     },
     "execution_count": 37,
     "metadata": {},
     "output_type": "execute_result"
    }
   ],
   "source": [
    "image_pred_df.img_num.unique()"
   ]
  },
  {
   "cell_type": "code",
   "execution_count": 38,
   "id": "d0fad8ee",
   "metadata": {},
   "outputs": [
    {
     "data": {
      "text/plain": [
       "array([ True, False])"
      ]
     },
     "execution_count": 38,
     "metadata": {},
     "output_type": "execute_result"
    }
   ],
   "source": [
    "image_pred_df.p1_dog.unique()"
   ]
  },
  {
   "cell_type": "code",
   "execution_count": 39,
   "id": "f36d4835",
   "metadata": {},
   "outputs": [
    {
     "data": {
      "text/plain": [
       "array([ True, False])"
      ]
     },
     "execution_count": 39,
     "metadata": {},
     "output_type": "execute_result"
    }
   ],
   "source": [
    "image_pred_df.p2_dog.unique()"
   ]
  },
  {
   "cell_type": "code",
   "execution_count": 40,
   "id": "c05daa4e",
   "metadata": {},
   "outputs": [
    {
     "data": {
      "text/plain": [
       "array([ True, False])"
      ]
     },
     "execution_count": 40,
     "metadata": {},
     "output_type": "execute_result"
    }
   ],
   "source": [
    "image_pred_df.p3_dog.unique()"
   ]
  },
  {
   "cell_type": "code",
   "execution_count": 41,
   "id": "596181e2",
   "metadata": {},
   "outputs": [
    {
     "data": {
      "text/plain": [
       "0"
      ]
     },
     "execution_count": 41,
     "metadata": {},
     "output_type": "execute_result"
    }
   ],
   "source": [
    "image_pred_df.duplicated().sum()"
   ]
  },
  {
   "cell_type": "code",
   "execution_count": 42,
   "id": "ca802e74",
   "metadata": {},
   "outputs": [
    {
     "data": {
      "text/plain": [
       "tweet_id    0\n",
       "jpg_url     0\n",
       "img_num     0\n",
       "p1          0\n",
       "p1_conf     0\n",
       "p1_dog      0\n",
       "p2          0\n",
       "p2_conf     0\n",
       "p2_dog      0\n",
       "p3          0\n",
       "p3_conf     0\n",
       "p3_dog      0\n",
       "dtype: int64"
      ]
     },
     "execution_count": 42,
     "metadata": {},
     "output_type": "execute_result"
    }
   ],
   "source": [
    "image_pred_df.isnull().sum()"
   ]
  },
  {
   "cell_type": "code",
   "execution_count": 43,
   "id": "b8a64b4d",
   "metadata": {},
   "outputs": [
    {
     "data": {
      "text/plain": [
       "0"
      ]
     },
     "execution_count": 43,
     "metadata": {},
     "output_type": "execute_result"
    }
   ],
   "source": [
    "image_pred_df.tweet_id.duplicated().sum()"
   ]
  },
  {
   "cell_type": "markdown",
   "id": "211355cb",
   "metadata": {},
   "source": [
    "### 3. Twitter JSON data"
   ]
  },
  {
   "cell_type": "code",
   "execution_count": 44,
   "id": "c5a6a3df",
   "metadata": {},
   "outputs": [
    {
     "data": {
      "text/html": [
       "<div>\n",
       "<style scoped>\n",
       "    .dataframe tbody tr th:only-of-type {\n",
       "        vertical-align: middle;\n",
       "    }\n",
       "\n",
       "    .dataframe tbody tr th {\n",
       "        vertical-align: top;\n",
       "    }\n",
       "\n",
       "    .dataframe thead th {\n",
       "        text-align: right;\n",
       "    }\n",
       "</style>\n",
       "<table border=\"1\" class=\"dataframe\">\n",
       "  <thead>\n",
       "    <tr style=\"text-align: right;\">\n",
       "      <th></th>\n",
       "      <th>id</th>\n",
       "      <th>retweet_count</th>\n",
       "      <th>favorite_count</th>\n",
       "    </tr>\n",
       "  </thead>\n",
       "  <tbody>\n",
       "    <tr>\n",
       "      <th>0</th>\n",
       "      <td>892420643555336193</td>\n",
       "      <td>8853</td>\n",
       "      <td>39467</td>\n",
       "    </tr>\n",
       "    <tr>\n",
       "      <th>1</th>\n",
       "      <td>892177421306343426</td>\n",
       "      <td>6514</td>\n",
       "      <td>33819</td>\n",
       "    </tr>\n",
       "    <tr>\n",
       "      <th>2</th>\n",
       "      <td>891815181378084864</td>\n",
       "      <td>4328</td>\n",
       "      <td>25461</td>\n",
       "    </tr>\n",
       "    <tr>\n",
       "      <th>3</th>\n",
       "      <td>891689557279858688</td>\n",
       "      <td>8964</td>\n",
       "      <td>42908</td>\n",
       "    </tr>\n",
       "    <tr>\n",
       "      <th>4</th>\n",
       "      <td>891327558926688256</td>\n",
       "      <td>9774</td>\n",
       "      <td>41048</td>\n",
       "    </tr>\n",
       "  </tbody>\n",
       "</table>\n",
       "</div>"
      ],
      "text/plain": [
       "                   id  retweet_count  favorite_count\n",
       "0  892420643555336193           8853           39467\n",
       "1  892177421306343426           6514           33819\n",
       "2  891815181378084864           4328           25461\n",
       "3  891689557279858688           8964           42908\n",
       "4  891327558926688256           9774           41048"
      ]
     },
     "execution_count": 44,
     "metadata": {},
     "output_type": "execute_result"
    }
   ],
   "source": [
    "tweet_json_df.head()"
   ]
  },
  {
   "cell_type": "code",
   "execution_count": 45,
   "id": "635dc116",
   "metadata": {},
   "outputs": [
    {
     "data": {
      "text/plain": [
       "id                0\n",
       "retweet_count     0\n",
       "favorite_count    0\n",
       "dtype: int64"
      ]
     },
     "execution_count": 45,
     "metadata": {},
     "output_type": "execute_result"
    }
   ],
   "source": [
    "tweet_json_df.isnull().sum()"
   ]
  },
  {
   "cell_type": "code",
   "execution_count": 46,
   "id": "09c51741",
   "metadata": {},
   "outputs": [
    {
     "name": "stdout",
     "output_type": "stream",
     "text": [
      "<class 'pandas.core.frame.DataFrame'>\n",
      "RangeIndex: 2354 entries, 0 to 2353\n",
      "Data columns (total 3 columns):\n",
      " #   Column          Non-Null Count  Dtype\n",
      "---  ------          --------------  -----\n",
      " 0   id              2354 non-null   int64\n",
      " 1   retweet_count   2354 non-null   int64\n",
      " 2   favorite_count  2354 non-null   int64\n",
      "dtypes: int64(3)\n",
      "memory usage: 55.3 KB\n"
     ]
    }
   ],
   "source": [
    "tweet_json_df.info()"
   ]
  },
  {
   "cell_type": "code",
   "execution_count": 47,
   "id": "3fc58ce9",
   "metadata": {
    "scrolled": true
   },
   "outputs": [
    {
     "data": {
      "text/html": [
       "<div>\n",
       "<style scoped>\n",
       "    .dataframe tbody tr th:only-of-type {\n",
       "        vertical-align: middle;\n",
       "    }\n",
       "\n",
       "    .dataframe tbody tr th {\n",
       "        vertical-align: top;\n",
       "    }\n",
       "\n",
       "    .dataframe thead th {\n",
       "        text-align: right;\n",
       "    }\n",
       "</style>\n",
       "<table border=\"1\" class=\"dataframe\">\n",
       "  <thead>\n",
       "    <tr style=\"text-align: right;\">\n",
       "      <th></th>\n",
       "      <th>id</th>\n",
       "      <th>retweet_count</th>\n",
       "      <th>favorite_count</th>\n",
       "    </tr>\n",
       "  </thead>\n",
       "  <tbody>\n",
       "    <tr>\n",
       "      <th>count</th>\n",
       "      <td>2.354000e+03</td>\n",
       "      <td>2354.000000</td>\n",
       "      <td>2354.000000</td>\n",
       "    </tr>\n",
       "    <tr>\n",
       "      <th>mean</th>\n",
       "      <td>7.426978e+17</td>\n",
       "      <td>3164.797366</td>\n",
       "      <td>8080.968564</td>\n",
       "    </tr>\n",
       "    <tr>\n",
       "      <th>std</th>\n",
       "      <td>6.852812e+16</td>\n",
       "      <td>5284.770364</td>\n",
       "      <td>11814.771334</td>\n",
       "    </tr>\n",
       "    <tr>\n",
       "      <th>min</th>\n",
       "      <td>6.660209e+17</td>\n",
       "      <td>0.000000</td>\n",
       "      <td>0.000000</td>\n",
       "    </tr>\n",
       "    <tr>\n",
       "      <th>25%</th>\n",
       "      <td>6.783975e+17</td>\n",
       "      <td>624.500000</td>\n",
       "      <td>1415.000000</td>\n",
       "    </tr>\n",
       "    <tr>\n",
       "      <th>50%</th>\n",
       "      <td>7.194596e+17</td>\n",
       "      <td>1473.500000</td>\n",
       "      <td>3603.500000</td>\n",
       "    </tr>\n",
       "    <tr>\n",
       "      <th>75%</th>\n",
       "      <td>7.993058e+17</td>\n",
       "      <td>3652.000000</td>\n",
       "      <td>10122.250000</td>\n",
       "    </tr>\n",
       "    <tr>\n",
       "      <th>max</th>\n",
       "      <td>8.924206e+17</td>\n",
       "      <td>79515.000000</td>\n",
       "      <td>132810.000000</td>\n",
       "    </tr>\n",
       "  </tbody>\n",
       "</table>\n",
       "</div>"
      ],
      "text/plain": [
       "                 id  retweet_count  favorite_count\n",
       "count  2.354000e+03    2354.000000     2354.000000\n",
       "mean   7.426978e+17    3164.797366     8080.968564\n",
       "std    6.852812e+16    5284.770364    11814.771334\n",
       "min    6.660209e+17       0.000000        0.000000\n",
       "25%    6.783975e+17     624.500000     1415.000000\n",
       "50%    7.194596e+17    1473.500000     3603.500000\n",
       "75%    7.993058e+17    3652.000000    10122.250000\n",
       "max    8.924206e+17   79515.000000   132810.000000"
      ]
     },
     "execution_count": 47,
     "metadata": {},
     "output_type": "execute_result"
    }
   ],
   "source": [
    "tweet_json_df.describe()"
   ]
  },
  {
   "cell_type": "code",
   "execution_count": 48,
   "id": "b846f21c",
   "metadata": {},
   "outputs": [
    {
     "data": {
      "text/plain": [
       "(2354, 3)"
      ]
     },
     "execution_count": 48,
     "metadata": {},
     "output_type": "execute_result"
    }
   ],
   "source": [
    "tweet_json_df.shape"
   ]
  },
  {
   "cell_type": "markdown",
   "id": "58539782",
   "metadata": {},
   "source": [
    "## Assessment Summary"
   ]
  },
  {
   "cell_type": "markdown",
   "id": "605c7519",
   "metadata": {},
   "source": [
    "### Quality"
   ]
  },
  {
   "cell_type": "markdown",
   "id": "64f4d70a",
   "metadata": {},
   "source": [
    "#### 1. Twitter archive data"
   ]
  },
  {
   "cell_type": "markdown",
   "id": "1a57c188",
   "metadata": {},
   "source": [
    "- removing all the retweets\n",
    "- erroneous data type for timestamp\n",
    "- some names are parsed erroneously and have either null record or is lowercase\n",
    "- some incorrect rating denominator values\n",
    "- rating should be standardized in a single column since is a single variable\n",
    "- drop the rating_numerator and rating_denominator column\n",
    "- There are 4 kinds of records in the source column which can be extracted by using the display string portion just before the final \"<\\a>\" and they are: Twitter for iPhone, Vine - Make a Scene, Twitter Web Client, TweetDeck.\n",
    "- Many unnecessary columns especially those with too many null values\n",
    "- Columns related to breed, dog prediction and confidence level should all be placed in 3 columns\n"
   ]
  },
  {
   "cell_type": "markdown",
   "id": "f548c5bc",
   "metadata": {},
   "source": [
    "#### 2. Image prediction data"
   ]
  },
  {
   "cell_type": "markdown",
   "id": "400d860d",
   "metadata": {},
   "source": [
    "- Drop jpg_url column\n",
    "- missing data (only has 2075 entries instead of 2356)  # can't clean\n",
    "- inconsistent text cases for the predictions"
   ]
  },
  {
   "cell_type": "markdown",
   "id": "a4c0fe74",
   "metadata": {},
   "source": [
    "#### 3, JSON  data"
   ]
  },
  {
   "cell_type": "markdown",
   "id": "8d26a3a5",
   "metadata": {},
   "source": [
    "- 'id' column present rather than 'tweet_id' to allow for merge\n",
    "- missing data (only has 2347 entries instead of 2356)   # can't clean"
   ]
  },
  {
   "cell_type": "markdown",
   "id": "723b01b4",
   "metadata": {},
   "source": [
    "### Tidiness"
   ]
  },
  {
   "cell_type": "markdown",
   "id": "da1d6e33",
   "metadata": {},
   "source": [
    "- timestamp column should be split into month, year and day\n",
    "- Columns floofer, doggo, pupper and puppo in the twiiter archive table should be in one column.\n",
    "- merge all the tables together"
   ]
  },
  {
   "cell_type": "markdown",
   "id": "719f0556",
   "metadata": {},
   "source": [
    "## Data Cleaning"
   ]
  },
  {
   "cell_type": "markdown",
   "id": "64cbaf9c",
   "metadata": {},
   "source": [
    "### Quality"
   ]
  },
  {
   "cell_type": "code",
   "execution_count": 49,
   "id": "8a4670b3",
   "metadata": {},
   "outputs": [],
   "source": [
    "archive_clean = twitter_archive_df.copy()\n",
    "prediction_clean = image_pred_df.copy()\n",
    "json_clean = tweet_json_df.copy()"
   ]
  },
  {
   "cell_type": "markdown",
   "id": "bef5f4ac",
   "metadata": {},
   "source": [
    "#### `Twitter archive`:  removing all the retweets"
   ]
  },
  {
   "cell_type": "markdown",
   "id": "2caa444d",
   "metadata": {},
   "source": [
    "##### Define\n",
    "\n",
    "remove all rows that have values (not blank or non-null) in retweeted_status_id, retweeted_status_user_id, and retweeted_status_timestamp columns"
   ]
  },
  {
   "cell_type": "markdown",
   "id": "359713bf",
   "metadata": {},
   "source": [
    "##### Code"
   ]
  },
  {
   "cell_type": "code",
   "execution_count": 50,
   "id": "7c601bc2",
   "metadata": {},
   "outputs": [],
   "source": [
    "# querying for only rows with null values in retweet related columns\n",
    "\n",
    "archive_clean = archive_clean[archive_clean.retweeted_status_id.isnull()]\n",
    "archive_clean = archive_clean[archive_clean.retweeted_status_user_id.isnull()]\n",
    "archive_clean = archive_clean[archive_clean.retweeted_status_timestamp.isnull()]"
   ]
  },
  {
   "cell_type": "markdown",
   "id": "ee3ac58a",
   "metadata": {},
   "source": [
    "##### Test"
   ]
  },
  {
   "cell_type": "code",
   "execution_count": 51,
   "id": "286d4be4",
   "metadata": {},
   "outputs": [
    {
     "name": "stdout",
     "output_type": "stream",
     "text": [
      "0\n",
      "0\n",
      "0\n"
     ]
    }
   ],
   "source": [
    "print(archive_clean.retweeted_status_id.notnull().sum())\n",
    "print(archive_clean.retweeted_status_user_id.notnull().sum())\n",
    "print(archive_clean.retweeted_status_timestamp.notnull().sum())"
   ]
  },
  {
   "cell_type": "markdown",
   "id": "5c272030",
   "metadata": {},
   "source": [
    "#### `Twitter archive`:  erroneous data type for timestamp, tweet id"
   ]
  },
  {
   "cell_type": "markdown",
   "id": "ed29ad2d",
   "metadata": {},
   "source": [
    "##### Define\n",
    "\n",
    "convert the timestamp column data type to datetime"
   ]
  },
  {
   "cell_type": "markdown",
   "id": "8c32c120",
   "metadata": {},
   "source": [
    "##### Code"
   ]
  },
  {
   "cell_type": "code",
   "execution_count": 52,
   "id": "8f9d2163",
   "metadata": {},
   "outputs": [],
   "source": [
    "archive_clean.timestamp = pd.to_datetime(archive_clean.timestamp)\n"
   ]
  },
  {
   "cell_type": "markdown",
   "id": "e4d23056",
   "metadata": {},
   "source": [
    "##### Test"
   ]
  },
  {
   "cell_type": "code",
   "execution_count": 53,
   "id": "4f58b4ca",
   "metadata": {},
   "outputs": [
    {
     "data": {
      "text/plain": [
       "timestamp    datetime64[ns, UTC]\n",
       "tweet_id                   int64\n",
       "dtype: object"
      ]
     },
     "execution_count": 53,
     "metadata": {},
     "output_type": "execute_result"
    }
   ],
   "source": [
    "archive_clean.dtypes[['timestamp','tweet_id']]"
   ]
  },
  {
   "cell_type": "markdown",
   "id": "87143fab",
   "metadata": {},
   "source": [
    "#### `Twitter archive`:  some names are parsed erroneously and have either null record or is lowercase"
   ]
  },
  {
   "cell_type": "markdown",
   "id": "a2814efa",
   "metadata": {},
   "source": [
    "##### Define\n",
    "\n",
    "    Find all the non-dog names contained in the data frame like ('a','actually','all','an','by','getting','infuriating','just','not','officially','old','one','quite','such','the','this','unacceptable','very'), then change their respective values to nan and change the lower case to its capitalized form."
   ]
  },
  {
   "cell_type": "markdown",
   "id": "d72631b8",
   "metadata": {},
   "source": [
    "##### Code"
   ]
  },
  {
   "cell_type": "code",
   "execution_count": 54,
   "id": "9f46ef12",
   "metadata": {},
   "outputs": [],
   "source": [
    "mask = archive_clean.name.str.islower() \n",
    "column_name = 'name' \n",
    "archive_clean.loc[mask, column_name] = np.nan"
   ]
  },
  {
   "cell_type": "code",
   "execution_count": 55,
   "id": "20805b8a",
   "metadata": {},
   "outputs": [],
   "source": [
    "archive_clean.name = archive_clean.name.str.title()"
   ]
  },
  {
   "cell_type": "markdown",
   "id": "e6d4d561",
   "metadata": {},
   "source": [
    "##### Test"
   ]
  },
  {
   "cell_type": "code",
   "execution_count": 56,
   "id": "55f58dde",
   "metadata": {},
   "outputs": [
    {
     "data": {
      "text/plain": [
       "None       680\n",
       "Lucy        11\n",
       "Charlie     11\n",
       "Cooper      10\n",
       "Oliver      10\n",
       "          ... \n",
       "Bell         1\n",
       "Moreton      1\n",
       "Bobby        1\n",
       "Izzy         1\n",
       "Samsom       1\n",
       "Name: name, Length: 931, dtype: int64"
      ]
     },
     "execution_count": 56,
     "metadata": {},
     "output_type": "execute_result"
    }
   ],
   "source": [
    "archive_clean['name'].value_counts()"
   ]
  },
  {
   "cell_type": "markdown",
   "id": "c0af7654",
   "metadata": {},
   "source": [
    "#### `Twitter archive`:  rating should be standardized in a single column since is a single variable"
   ]
  },
  {
   "cell_type": "markdown",
   "id": "98534160",
   "metadata": {},
   "source": [
    "##### Define\n",
    "\n",
    "- Create a column which would display the ratings in its standardized form (rating_numerator / rating_denominator)"
   ]
  },
  {
   "cell_type": "markdown",
   "id": "005692fb",
   "metadata": {},
   "source": [
    "##### Code"
   ]
  },
  {
   "cell_type": "code",
   "execution_count": 57,
   "id": "a751bf8d",
   "metadata": {},
   "outputs": [],
   "source": [
    "archive_clean['rating'] = round(archive_clean['rating_numerator'] / archive_clean['rating_denominator'],2)"
   ]
  },
  {
   "cell_type": "markdown",
   "id": "87be6589",
   "metadata": {},
   "source": [
    "##### Test"
   ]
  },
  {
   "cell_type": "code",
   "execution_count": 58,
   "id": "0ccbfeba",
   "metadata": {
    "scrolled": true
   },
   "outputs": [
    {
     "data": {
      "text/plain": [
       "1.20      504\n",
       "1.00      444\n",
       "1.10      431\n",
       "1.30      307\n",
       "0.90      156\n",
       "0.80       98\n",
       "0.70       53\n",
       "1.40       43\n",
       "0.50       37\n",
       "0.60       32\n",
       "0.30       19\n",
       "0.40       15\n",
       "0.20       11\n",
       "0.10        7\n",
       "42.00       2\n",
       "0.00        2\n",
       "0.82        1\n",
       "2.60        1\n",
       "3.43        1\n",
       "2.70        1\n",
       "18.20       1\n",
       "7.50        1\n",
       "0.64        1\n",
       "1.70        1\n",
       "177.60      1\n",
       "66.60       1\n",
       "0.73        1\n",
       "1.25        1\n",
       "1.50        1\n",
       "inf         1\n",
       "Name: rating, dtype: int64"
      ]
     },
     "execution_count": 58,
     "metadata": {},
     "output_type": "execute_result"
    }
   ],
   "source": [
    "archive_clean['rating'].value_counts()"
   ]
  },
  {
   "cell_type": "markdown",
   "id": "5b523716",
   "metadata": {},
   "source": [
    "- we can see a single error in the value counts showing inf. We then remove it by removing any record with denominator equal to zero."
   ]
  },
  {
   "cell_type": "markdown",
   "id": "4f63367d",
   "metadata": {},
   "source": [
    "#### `Twitter archive`:  incorrect denominator value"
   ]
  },
  {
   "cell_type": "markdown",
   "id": "aeecd582",
   "metadata": {},
   "source": [
    "##### Define\n",
    " \n",
    "- dropping records with denominators equal to zero as it will give an error when dividing\n",
    "- dropping the rating_numerator and rating_denominator column"
   ]
  },
  {
   "cell_type": "markdown",
   "id": "fd388782",
   "metadata": {},
   "source": [
    "##### Code"
   ]
  },
  {
   "cell_type": "code",
   "execution_count": 59,
   "id": "3579ecfe",
   "metadata": {},
   "outputs": [
    {
     "data": {
      "text/html": [
       "<div>\n",
       "<style scoped>\n",
       "    .dataframe tbody tr th:only-of-type {\n",
       "        vertical-align: middle;\n",
       "    }\n",
       "\n",
       "    .dataframe tbody tr th {\n",
       "        vertical-align: top;\n",
       "    }\n",
       "\n",
       "    .dataframe thead th {\n",
       "        text-align: right;\n",
       "    }\n",
       "</style>\n",
       "<table border=\"1\" class=\"dataframe\">\n",
       "  <thead>\n",
       "    <tr style=\"text-align: right;\">\n",
       "      <th></th>\n",
       "      <th>tweet_id</th>\n",
       "      <th>in_reply_to_status_id</th>\n",
       "      <th>in_reply_to_user_id</th>\n",
       "      <th>timestamp</th>\n",
       "      <th>source</th>\n",
       "      <th>text</th>\n",
       "      <th>retweeted_status_id</th>\n",
       "      <th>retweeted_status_user_id</th>\n",
       "      <th>retweeted_status_timestamp</th>\n",
       "      <th>expanded_urls</th>\n",
       "      <th>rating_numerator</th>\n",
       "      <th>rating_denominator</th>\n",
       "      <th>name</th>\n",
       "      <th>doggo</th>\n",
       "      <th>floofer</th>\n",
       "      <th>pupper</th>\n",
       "      <th>puppo</th>\n",
       "      <th>rating</th>\n",
       "    </tr>\n",
       "  </thead>\n",
       "  <tbody>\n",
       "    <tr>\n",
       "      <th>313</th>\n",
       "      <td>835246439529840640</td>\n",
       "      <td>8.352460e+17</td>\n",
       "      <td>26259576.0</td>\n",
       "      <td>2017-02-24 21:54:03+00:00</td>\n",
       "      <td>&lt;a href=\"http://twitter.com/download/iphone\" r...</td>\n",
       "      <td>@jonnysun @Lin_Manuel ok jomny I know you're e...</td>\n",
       "      <td>NaN</td>\n",
       "      <td>NaN</td>\n",
       "      <td>NaN</td>\n",
       "      <td>NaN</td>\n",
       "      <td>960</td>\n",
       "      <td>0</td>\n",
       "      <td>None</td>\n",
       "      <td>None</td>\n",
       "      <td>None</td>\n",
       "      <td>None</td>\n",
       "      <td>None</td>\n",
       "      <td>inf</td>\n",
       "    </tr>\n",
       "  </tbody>\n",
       "</table>\n",
       "</div>"
      ],
      "text/plain": [
       "               tweet_id  in_reply_to_status_id  in_reply_to_user_id  \\\n",
       "313  835246439529840640           8.352460e+17           26259576.0   \n",
       "\n",
       "                    timestamp  \\\n",
       "313 2017-02-24 21:54:03+00:00   \n",
       "\n",
       "                                                source  \\\n",
       "313  <a href=\"http://twitter.com/download/iphone\" r...   \n",
       "\n",
       "                                                  text  retweeted_status_id  \\\n",
       "313  @jonnysun @Lin_Manuel ok jomny I know you're e...                  NaN   \n",
       "\n",
       "     retweeted_status_user_id retweeted_status_timestamp expanded_urls  \\\n",
       "313                       NaN                        NaN           NaN   \n",
       "\n",
       "     rating_numerator  rating_denominator  name doggo floofer pupper puppo  \\\n",
       "313               960                   0  None  None    None   None  None   \n",
       "\n",
       "     rating  \n",
       "313     inf  "
      ]
     },
     "execution_count": 59,
     "metadata": {},
     "output_type": "execute_result"
    }
   ],
   "source": [
    "archive_clean[archive_clean['rating_denominator'] == 0]"
   ]
  },
  {
   "cell_type": "code",
   "execution_count": 60,
   "id": "65d8fea5",
   "metadata": {},
   "outputs": [],
   "source": [
    "archive_clean = archive_clean.drop(labels = 313, axis=0)"
   ]
  },
  {
   "cell_type": "code",
   "execution_count": 61,
   "id": "2d11ee05",
   "metadata": {},
   "outputs": [],
   "source": [
    "archive_clean = archive_clean.drop(['rating_numerator','rating_denominator'], axis=1)"
   ]
  },
  {
   "cell_type": "markdown",
   "id": "9eabe6a4",
   "metadata": {},
   "source": [
    "##### Test"
   ]
  },
  {
   "cell_type": "code",
   "execution_count": 62,
   "id": "57189899",
   "metadata": {},
   "outputs": [
    {
     "data": {
      "text/html": [
       "<div>\n",
       "<style scoped>\n",
       "    .dataframe tbody tr th:only-of-type {\n",
       "        vertical-align: middle;\n",
       "    }\n",
       "\n",
       "    .dataframe tbody tr th {\n",
       "        vertical-align: top;\n",
       "    }\n",
       "\n",
       "    .dataframe thead th {\n",
       "        text-align: right;\n",
       "    }\n",
       "</style>\n",
       "<table border=\"1\" class=\"dataframe\">\n",
       "  <thead>\n",
       "    <tr style=\"text-align: right;\">\n",
       "      <th></th>\n",
       "      <th>tweet_id</th>\n",
       "      <th>in_reply_to_status_id</th>\n",
       "      <th>in_reply_to_user_id</th>\n",
       "      <th>timestamp</th>\n",
       "      <th>source</th>\n",
       "      <th>text</th>\n",
       "      <th>retweeted_status_id</th>\n",
       "      <th>retweeted_status_user_id</th>\n",
       "      <th>retweeted_status_timestamp</th>\n",
       "      <th>expanded_urls</th>\n",
       "      <th>name</th>\n",
       "      <th>doggo</th>\n",
       "      <th>floofer</th>\n",
       "      <th>pupper</th>\n",
       "      <th>puppo</th>\n",
       "      <th>rating</th>\n",
       "    </tr>\n",
       "  </thead>\n",
       "  <tbody>\n",
       "  </tbody>\n",
       "</table>\n",
       "</div>"
      ],
      "text/plain": [
       "Empty DataFrame\n",
       "Columns: [tweet_id, in_reply_to_status_id, in_reply_to_user_id, timestamp, source, text, retweeted_status_id, retweeted_status_user_id, retweeted_status_timestamp, expanded_urls, name, doggo, floofer, pupper, puppo, rating]\n",
       "Index: []"
      ]
     },
     "execution_count": 62,
     "metadata": {},
     "output_type": "execute_result"
    }
   ],
   "source": [
    "# checking if record with index 313 still exists\n",
    "archive_clean[archive_clean.index == 313]"
   ]
  },
  {
   "cell_type": "code",
   "execution_count": 63,
   "id": "7b1e6842",
   "metadata": {},
   "outputs": [
    {
     "data": {
      "text/plain": [
       "Index(['tweet_id', 'in_reply_to_status_id', 'in_reply_to_user_id', 'timestamp',\n",
       "       'source', 'text', 'retweeted_status_id', 'retweeted_status_user_id',\n",
       "       'retweeted_status_timestamp', 'expanded_urls', 'name', 'doggo',\n",
       "       'floofer', 'pupper', 'puppo', 'rating'],\n",
       "      dtype='object')"
      ]
     },
     "execution_count": 63,
     "metadata": {},
     "output_type": "execute_result"
    }
   ],
   "source": [
    "# checking if the rating numerator and denominator column still exists\n",
    "archive_clean.columns"
   ]
  },
  {
   "cell_type": "code",
   "execution_count": 64,
   "id": "63e8292e",
   "metadata": {},
   "outputs": [
    {
     "data": {
      "text/plain": [
       "1.20      504\n",
       "1.00      444\n",
       "1.10      431\n",
       "1.30      307\n",
       "0.90      156\n",
       "0.80       98\n",
       "0.70       53\n",
       "1.40       43\n",
       "0.50       37\n",
       "0.60       32\n",
       "0.30       19\n",
       "0.40       15\n",
       "0.20       11\n",
       "0.10        7\n",
       "42.00       2\n",
       "0.00        2\n",
       "0.82        1\n",
       "2.60        1\n",
       "7.50        1\n",
       "2.70        1\n",
       "18.20       1\n",
       "1.70        1\n",
       "0.64        1\n",
       "177.60      1\n",
       "0.73        1\n",
       "66.60       1\n",
       "1.25        1\n",
       "1.50        1\n",
       "3.43        1\n",
       "Name: rating, dtype: int64"
      ]
     },
     "execution_count": 64,
     "metadata": {},
     "output_type": "execute_result"
    }
   ],
   "source": [
    "# checking if there are still errors in the ratings column\n",
    "archive_clean['rating'].value_counts()"
   ]
  },
  {
   "cell_type": "markdown",
   "id": "0bfc79c3",
   "metadata": {},
   "source": [
    "#### `Twitter archive`:  There are 4 kinds of records in the source column which can be extracted by using the display string portion just before the final \"<\\a>\" and they are: Twitter for iPhone, Vine - Make a Scene, Twitter Web Client, TweetDeck."
   ]
  },
  {
   "cell_type": "markdown",
   "id": "4bd0caad",
   "metadata": {},
   "source": [
    "##### Define\n",
    "\n",
    "- Replace the `source` column with the display portion of itself that is by extracting the string between `<a href=\"\">` and `</a>`."
   ]
  },
  {
   "cell_type": "markdown",
   "id": "d0e6ecb1",
   "metadata": {},
   "source": [
    "##### Code"
   ]
  },
  {
   "cell_type": "code",
   "execution_count": 65,
   "id": "360504e7",
   "metadata": {
    "scrolled": true
   },
   "outputs": [
    {
     "data": {
      "text/plain": [
       "array(['<a href=\"http://twitter.com/download/iphone\" rel=\"nofollow\">Twitter for iPhone</a>',\n",
       "       '<a href=\"http://twitter.com\" rel=\"nofollow\">Twitter Web Client</a>',\n",
       "       '<a href=\"http://vine.co\" rel=\"nofollow\">Vine - Make a Scene</a>',\n",
       "       '<a href=\"https://about.twitter.com/products/tweetdeck\" rel=\"nofollow\">TweetDeck</a>'],\n",
       "      dtype=object)"
      ]
     },
     "execution_count": 65,
     "metadata": {},
     "output_type": "execute_result"
    }
   ],
   "source": [
    "archive_clean.source.unique()"
   ]
  },
  {
   "cell_type": "code",
   "execution_count": 66,
   "id": "f5827b43",
   "metadata": {},
   "outputs": [],
   "source": [
    "archive_clean['source'] = archive_clean['source'].str.extract('^<a.+>(.+)</a>$')"
   ]
  },
  {
   "cell_type": "markdown",
   "id": "f66082cf",
   "metadata": {},
   "source": [
    "##### Test"
   ]
  },
  {
   "cell_type": "code",
   "execution_count": 67,
   "id": "f442d884",
   "metadata": {},
   "outputs": [
    {
     "data": {
      "text/plain": [
       "array(['Twitter for iPhone', 'Twitter Web Client', 'Vine - Make a Scene',\n",
       "       'TweetDeck'], dtype=object)"
      ]
     },
     "execution_count": 67,
     "metadata": {},
     "output_type": "execute_result"
    }
   ],
   "source": [
    "archive_clean['source'].unique()"
   ]
  },
  {
   "cell_type": "markdown",
   "id": "08dd6a69",
   "metadata": {},
   "source": [
    "#### `Twitter archive`:  drop unneccessary columns especially those with many null values"
   ]
  },
  {
   "cell_type": "markdown",
   "id": "a0bcee9b",
   "metadata": {},
   "source": [
    "##### Define\n",
    "\n",
    "- dropping all the column with too many null values and those that wouldn't help with the analysis to be performed"
   ]
  },
  {
   "cell_type": "markdown",
   "id": "cac0be69",
   "metadata": {},
   "source": [
    "##### Code"
   ]
  },
  {
   "cell_type": "code",
   "execution_count": 68,
   "id": "afeeafdb",
   "metadata": {},
   "outputs": [],
   "source": [
    "#dropping unneccessary data columns for archive_clean\n",
    "archive_clean = archive_clean.drop(columns=['retweeted_status_user_id', 'retweeted_status_id',\n",
    "                            'retweeted_status_timestamp', 'in_reply_to_status_id', \n",
    "                            'in_reply_to_user_id','expanded_urls'])"
   ]
  },
  {
   "cell_type": "markdown",
   "id": "dfd8eade",
   "metadata": {},
   "source": [
    "##### Test"
   ]
  },
  {
   "cell_type": "code",
   "execution_count": 69,
   "id": "58bb5d61",
   "metadata": {},
   "outputs": [
    {
     "data": {
      "text/plain": [
       "Index(['tweet_id', 'timestamp', 'source', 'text', 'name', 'doggo', 'floofer',\n",
       "       'pupper', 'puppo', 'rating'],\n",
       "      dtype='object')"
      ]
     },
     "execution_count": 69,
     "metadata": {},
     "output_type": "execute_result"
    }
   ],
   "source": [
    "archive_clean.columns"
   ]
  },
  {
   "cell_type": "markdown",
   "id": "516509d6",
   "metadata": {},
   "source": [
    "#### `Image prediction`:  Drop jpg_url column"
   ]
  },
  {
   "cell_type": "markdown",
   "id": "755f43a7",
   "metadata": {},
   "source": [
    "##### Define\n",
    "\n",
    "- dropping the jpg_url as it will in no way help my analysis"
   ]
  },
  {
   "cell_type": "markdown",
   "id": "df1e85a2",
   "metadata": {},
   "source": [
    "##### Code"
   ]
  },
  {
   "cell_type": "code",
   "execution_count": 70,
   "id": "46bc8cff",
   "metadata": {},
   "outputs": [],
   "source": [
    "prediction_clean = prediction_clean.drop('jpg_url', axis=1)"
   ]
  },
  {
   "cell_type": "markdown",
   "id": "bbe38164",
   "metadata": {},
   "source": [
    "##### Test"
   ]
  },
  {
   "cell_type": "code",
   "execution_count": 71,
   "id": "e1fce973",
   "metadata": {},
   "outputs": [
    {
     "data": {
      "text/plain": [
       "Index(['tweet_id', 'img_num', 'p1', 'p1_conf', 'p1_dog', 'p2', 'p2_conf',\n",
       "       'p2_dog', 'p3', 'p3_conf', 'p3_dog'],\n",
       "      dtype='object')"
      ]
     },
     "execution_count": 71,
     "metadata": {},
     "output_type": "execute_result"
    }
   ],
   "source": [
    "prediction_clean.columns"
   ]
  },
  {
   "cell_type": "markdown",
   "id": "ed00323e",
   "metadata": {},
   "source": [
    "#### `Image prediction`:  - inconsistent text cases for the predictions"
   ]
  },
  {
   "cell_type": "markdown",
   "id": "51c9b7cd",
   "metadata": {},
   "source": [
    "##### Define\n",
    "\n",
    "- Change text case for the predictions i.e p1, p2, p3 to lower case"
   ]
  },
  {
   "cell_type": "markdown",
   "id": "df9e6d83",
   "metadata": {},
   "source": [
    "##### Code"
   ]
  },
  {
   "cell_type": "code",
   "execution_count": 72,
   "id": "fb62577b",
   "metadata": {},
   "outputs": [],
   "source": [
    "# creating a fuction that takes a singular input and converts it to lower case\n",
    "def to_lower(data):\n",
    "    return data.str.lower()\n",
    "\n",
    "prediction_clean.p1 = to_lower(prediction_clean.p1)\n",
    "prediction_clean.p2 = to_lower(prediction_clean.p2)\n",
    "prediction_clean.p3 = to_lower(prediction_clean.p3)"
   ]
  },
  {
   "cell_type": "markdown",
   "id": "1a95f7df",
   "metadata": {},
   "source": [
    "##### Test"
   ]
  },
  {
   "cell_type": "code",
   "execution_count": 73,
   "id": "05dc1b9e",
   "metadata": {
    "scrolled": true
   },
   "outputs": [
    {
     "data": {
      "text/html": [
       "<div>\n",
       "<style scoped>\n",
       "    .dataframe tbody tr th:only-of-type {\n",
       "        vertical-align: middle;\n",
       "    }\n",
       "\n",
       "    .dataframe tbody tr th {\n",
       "        vertical-align: top;\n",
       "    }\n",
       "\n",
       "    .dataframe thead th {\n",
       "        text-align: right;\n",
       "    }\n",
       "</style>\n",
       "<table border=\"1\" class=\"dataframe\">\n",
       "  <thead>\n",
       "    <tr style=\"text-align: right;\">\n",
       "      <th></th>\n",
       "      <th>p1</th>\n",
       "      <th>p2</th>\n",
       "      <th>p3</th>\n",
       "    </tr>\n",
       "  </thead>\n",
       "  <tbody>\n",
       "    <tr>\n",
       "      <th>0</th>\n",
       "      <td>welsh_springer_spaniel</td>\n",
       "      <td>collie</td>\n",
       "      <td>shetland_sheepdog</td>\n",
       "    </tr>\n",
       "    <tr>\n",
       "      <th>1</th>\n",
       "      <td>redbone</td>\n",
       "      <td>miniature_pinscher</td>\n",
       "      <td>rhodesian_ridgeback</td>\n",
       "    </tr>\n",
       "    <tr>\n",
       "      <th>2</th>\n",
       "      <td>german_shepherd</td>\n",
       "      <td>malinois</td>\n",
       "      <td>bloodhound</td>\n",
       "    </tr>\n",
       "    <tr>\n",
       "      <th>3</th>\n",
       "      <td>rhodesian_ridgeback</td>\n",
       "      <td>redbone</td>\n",
       "      <td>miniature_pinscher</td>\n",
       "    </tr>\n",
       "    <tr>\n",
       "      <th>4</th>\n",
       "      <td>miniature_pinscher</td>\n",
       "      <td>rottweiler</td>\n",
       "      <td>doberman</td>\n",
       "    </tr>\n",
       "  </tbody>\n",
       "</table>\n",
       "</div>"
      ],
      "text/plain": [
       "                       p1                  p2                   p3\n",
       "0  welsh_springer_spaniel              collie    shetland_sheepdog\n",
       "1                 redbone  miniature_pinscher  rhodesian_ridgeback\n",
       "2         german_shepherd            malinois           bloodhound\n",
       "3     rhodesian_ridgeback             redbone   miniature_pinscher\n",
       "4      miniature_pinscher          rottweiler             doberman"
      ]
     },
     "execution_count": 73,
     "metadata": {},
     "output_type": "execute_result"
    }
   ],
   "source": [
    "prediction_clean[['p1','p2','p3']].head()"
   ]
  },
  {
   "cell_type": "markdown",
   "id": "84033e6c",
   "metadata": {},
   "source": [
    "#### `Image prediction`:  Columns related to breed(i.e dog prediction) and confidence level should all be placed in 2 columns"
   ]
  },
  {
   "cell_type": "code",
   "execution_count": null,
   "id": "a91e0c83",
   "metadata": {},
   "outputs": [],
   "source": []
  },
  {
   "cell_type": "markdown",
   "id": "9cb964b7",
   "metadata": {},
   "source": [
    "##### Define\n",
    "\n",
    "- Create 2 columns to show breed and confidence_level from the columns 'p1', 'p1_conf', 'p1_dog', 'p2', 'p2_conf', 'p2_dog', 'p3', 'p3_conf', 'p3_dog'."
   ]
  },
  {
   "cell_type": "code",
   "execution_count": 74,
   "id": "20f69f59",
   "metadata": {},
   "outputs": [],
   "source": [
    "# setting the conditions for selection\n",
    "conditions = [(prediction_clean['p1_dog'] == True),\n",
    "              (prediction_clean['p2_dog'] == True),\n",
    "              (prediction_clean['p3_dog'] == True)]\n",
    "\n",
    "# setting the choice based on the selection conditions for predicted breed\n",
    "breed = [prediction_clean['p1'], \n",
    "         prediction_clean['p2'],\n",
    "         prediction_clean['p3']]\n",
    "\n",
    "# setting the choice for confidence level based on the selection conditions\n",
    "confidence_level =   [prediction_clean['p1_conf'], \n",
    "                      prediction_clean['p2_conf'], \n",
    "                      prediction_clean['p3_conf']]\n",
    "\n",
    "# selecting the predicted breed based on the first successful condition(i.e p1_dog == True)\n",
    "prediction_clean['breed'] = np.select(conditions, breed, default=None)\n",
    "\n",
    "#selecting the predicted confidence level based on the first successful condition\n",
    "prediction_clean['confidence_level'] = np.select(conditions, confidence_level,default=0)"
   ]
  },
  {
   "cell_type": "code",
   "execution_count": 75,
   "id": "1141857c",
   "metadata": {},
   "outputs": [],
   "source": [
    "# Dropping the unrequired column\n",
    "prediction_clean.drop([ 'p1', 'p1_conf', 'p1_dog', 'p2', 'p2_conf', 'p2_dog', 'p3', 'p3_conf', 'p3_dog'], \n",
    "                      axis = 1, \n",
    "                      inplace=True)"
   ]
  },
  {
   "cell_type": "code",
   "execution_count": 76,
   "id": "4f8c72b5",
   "metadata": {},
   "outputs": [],
   "source": [
    "# converting the confidence level column to percentage\n",
    "prediction_clean.confidence_level = round(prediction_clean['confidence_level'] * 100, 2)"
   ]
  },
  {
   "cell_type": "markdown",
   "id": "396e44fb",
   "metadata": {},
   "source": [
    "##### Test"
   ]
  },
  {
   "cell_type": "code",
   "execution_count": 77,
   "id": "132da84c",
   "metadata": {},
   "outputs": [
    {
     "data": {
      "text/html": [
       "<div>\n",
       "<style scoped>\n",
       "    .dataframe tbody tr th:only-of-type {\n",
       "        vertical-align: middle;\n",
       "    }\n",
       "\n",
       "    .dataframe tbody tr th {\n",
       "        vertical-align: top;\n",
       "    }\n",
       "\n",
       "    .dataframe thead th {\n",
       "        text-align: right;\n",
       "    }\n",
       "</style>\n",
       "<table border=\"1\" class=\"dataframe\">\n",
       "  <thead>\n",
       "    <tr style=\"text-align: right;\">\n",
       "      <th></th>\n",
       "      <th>tweet_id</th>\n",
       "      <th>img_num</th>\n",
       "      <th>breed</th>\n",
       "      <th>confidence_level</th>\n",
       "    </tr>\n",
       "  </thead>\n",
       "  <tbody>\n",
       "    <tr>\n",
       "      <th>0</th>\n",
       "      <td>666020888022790149</td>\n",
       "      <td>1</td>\n",
       "      <td>welsh_springer_spaniel</td>\n",
       "      <td>46.51</td>\n",
       "    </tr>\n",
       "    <tr>\n",
       "      <th>1</th>\n",
       "      <td>666029285002620928</td>\n",
       "      <td>1</td>\n",
       "      <td>redbone</td>\n",
       "      <td>50.68</td>\n",
       "    </tr>\n",
       "    <tr>\n",
       "      <th>2</th>\n",
       "      <td>666033412701032449</td>\n",
       "      <td>1</td>\n",
       "      <td>german_shepherd</td>\n",
       "      <td>59.65</td>\n",
       "    </tr>\n",
       "    <tr>\n",
       "      <th>3</th>\n",
       "      <td>666044226329800704</td>\n",
       "      <td>1</td>\n",
       "      <td>rhodesian_ridgeback</td>\n",
       "      <td>40.81</td>\n",
       "    </tr>\n",
       "    <tr>\n",
       "      <th>4</th>\n",
       "      <td>666049248165822465</td>\n",
       "      <td>1</td>\n",
       "      <td>miniature_pinscher</td>\n",
       "      <td>56.03</td>\n",
       "    </tr>\n",
       "  </tbody>\n",
       "</table>\n",
       "</div>"
      ],
      "text/plain": [
       "             tweet_id  img_num                   breed  confidence_level\n",
       "0  666020888022790149        1  welsh_springer_spaniel             46.51\n",
       "1  666029285002620928        1                 redbone             50.68\n",
       "2  666033412701032449        1         german_shepherd             59.65\n",
       "3  666044226329800704        1     rhodesian_ridgeback             40.81\n",
       "4  666049248165822465        1      miniature_pinscher             56.03"
      ]
     },
     "execution_count": 77,
     "metadata": {},
     "output_type": "execute_result"
    }
   ],
   "source": [
    "prediction_clean.head()"
   ]
  },
  {
   "cell_type": "markdown",
   "id": "e83bd7fa",
   "metadata": {},
   "source": [
    "#### `Tweet json`:  - 'id' column present rather than 'tweet_id' to allow for merge"
   ]
  },
  {
   "cell_type": "markdown",
   "id": "83cf0c02",
   "metadata": {},
   "source": [
    "##### Define\n",
    "\n",
    "- Rename column from `id` to `tweet_id` to allow for merge"
   ]
  },
  {
   "cell_type": "markdown",
   "id": "30293d1c",
   "metadata": {},
   "source": [
    "##### Code"
   ]
  },
  {
   "cell_type": "code",
   "execution_count": 78,
   "id": "0ba3de2f",
   "metadata": {},
   "outputs": [],
   "source": [
    "json_clean.rename(columns = {'id':'tweet_id'}, inplace=True)"
   ]
  },
  {
   "cell_type": "markdown",
   "id": "ecb23ba2",
   "metadata": {},
   "source": [
    "##### Test"
   ]
  },
  {
   "cell_type": "code",
   "execution_count": 79,
   "id": "8554045e",
   "metadata": {},
   "outputs": [
    {
     "data": {
      "text/html": [
       "<div>\n",
       "<style scoped>\n",
       "    .dataframe tbody tr th:only-of-type {\n",
       "        vertical-align: middle;\n",
       "    }\n",
       "\n",
       "    .dataframe tbody tr th {\n",
       "        vertical-align: top;\n",
       "    }\n",
       "\n",
       "    .dataframe thead th {\n",
       "        text-align: right;\n",
       "    }\n",
       "</style>\n",
       "<table border=\"1\" class=\"dataframe\">\n",
       "  <thead>\n",
       "    <tr style=\"text-align: right;\">\n",
       "      <th></th>\n",
       "      <th>tweet_id</th>\n",
       "      <th>retweet_count</th>\n",
       "      <th>favorite_count</th>\n",
       "    </tr>\n",
       "  </thead>\n",
       "  <tbody>\n",
       "    <tr>\n",
       "      <th>0</th>\n",
       "      <td>892420643555336193</td>\n",
       "      <td>8853</td>\n",
       "      <td>39467</td>\n",
       "    </tr>\n",
       "    <tr>\n",
       "      <th>1</th>\n",
       "      <td>892177421306343426</td>\n",
       "      <td>6514</td>\n",
       "      <td>33819</td>\n",
       "    </tr>\n",
       "    <tr>\n",
       "      <th>2</th>\n",
       "      <td>891815181378084864</td>\n",
       "      <td>4328</td>\n",
       "      <td>25461</td>\n",
       "    </tr>\n",
       "    <tr>\n",
       "      <th>3</th>\n",
       "      <td>891689557279858688</td>\n",
       "      <td>8964</td>\n",
       "      <td>42908</td>\n",
       "    </tr>\n",
       "    <tr>\n",
       "      <th>4</th>\n",
       "      <td>891327558926688256</td>\n",
       "      <td>9774</td>\n",
       "      <td>41048</td>\n",
       "    </tr>\n",
       "  </tbody>\n",
       "</table>\n",
       "</div>"
      ],
      "text/plain": [
       "             tweet_id  retweet_count  favorite_count\n",
       "0  892420643555336193           8853           39467\n",
       "1  892177421306343426           6514           33819\n",
       "2  891815181378084864           4328           25461\n",
       "3  891689557279858688           8964           42908\n",
       "4  891327558926688256           9774           41048"
      ]
     },
     "execution_count": 79,
     "metadata": {},
     "output_type": "execute_result"
    }
   ],
   "source": [
    "json_clean.head()"
   ]
  },
  {
   "cell_type": "markdown",
   "id": "ccce349d",
   "metadata": {},
   "source": [
    "### Tidiness"
   ]
  },
  {
   "cell_type": "markdown",
   "id": "c60a0477",
   "metadata": {},
   "source": [
    "#### `Twitter archive`:  timestamp column should be split into month, year and day"
   ]
  },
  {
   "cell_type": "markdown",
   "id": "59cbb8b4",
   "metadata": {},
   "source": [
    "##### Define\n",
    "\n",
    "- split the `timestamp` column into `year`, `month` and `day`\n",
    "- drop the `timestamp` column"
   ]
  },
  {
   "cell_type": "markdown",
   "id": "9914be38",
   "metadata": {},
   "source": [
    "##### Code"
   ]
  },
  {
   "cell_type": "code",
   "execution_count": 80,
   "id": "842eaf88",
   "metadata": {},
   "outputs": [],
   "source": [
    "archive_clean['year'] = archive_clean['timestamp'].dt.year\n",
    "archive_clean['month'] = archive_clean['timestamp'].dt.month\n",
    "archive_clean['day'] = archive_clean['timestamp'].dt.day\n",
    "archive_clean = archive_clean.drop('timestamp', axis = 1)"
   ]
  },
  {
   "cell_type": "markdown",
   "id": "ef655e0a",
   "metadata": {},
   "source": [
    "##### Test"
   ]
  },
  {
   "cell_type": "code",
   "execution_count": 81,
   "id": "dc2f608e",
   "metadata": {},
   "outputs": [
    {
     "data": {
      "text/plain": [
       "Index(['tweet_id', 'source', 'text', 'name', 'doggo', 'floofer', 'pupper',\n",
       "       'puppo', 'rating', 'year', 'month', 'day'],\n",
       "      dtype='object')"
      ]
     },
     "execution_count": 81,
     "metadata": {},
     "output_type": "execute_result"
    }
   ],
   "source": [
    "# checking to see if the year amd month column are now present\n",
    "archive_clean.columns"
   ]
  },
  {
   "cell_type": "code",
   "execution_count": 82,
   "id": "f4e2418b",
   "metadata": {},
   "outputs": [
    {
     "data": {
      "text/html": [
       "<div>\n",
       "<style scoped>\n",
       "    .dataframe tbody tr th:only-of-type {\n",
       "        vertical-align: middle;\n",
       "    }\n",
       "\n",
       "    .dataframe tbody tr th {\n",
       "        vertical-align: top;\n",
       "    }\n",
       "\n",
       "    .dataframe thead th {\n",
       "        text-align: right;\n",
       "    }\n",
       "</style>\n",
       "<table border=\"1\" class=\"dataframe\">\n",
       "  <thead>\n",
       "    <tr style=\"text-align: right;\">\n",
       "      <th></th>\n",
       "      <th>tweet_id</th>\n",
       "      <th>source</th>\n",
       "      <th>text</th>\n",
       "      <th>name</th>\n",
       "      <th>doggo</th>\n",
       "      <th>floofer</th>\n",
       "      <th>pupper</th>\n",
       "      <th>puppo</th>\n",
       "      <th>rating</th>\n",
       "      <th>year</th>\n",
       "      <th>month</th>\n",
       "      <th>day</th>\n",
       "    </tr>\n",
       "  </thead>\n",
       "  <tbody>\n",
       "    <tr>\n",
       "      <th>0</th>\n",
       "      <td>892420643555336193</td>\n",
       "      <td>Twitter for iPhone</td>\n",
       "      <td>This is Phineas. He's a mystical boy. Only eve...</td>\n",
       "      <td>Phineas</td>\n",
       "      <td>None</td>\n",
       "      <td>None</td>\n",
       "      <td>None</td>\n",
       "      <td>None</td>\n",
       "      <td>1.3</td>\n",
       "      <td>2017</td>\n",
       "      <td>8</td>\n",
       "      <td>1</td>\n",
       "    </tr>\n",
       "    <tr>\n",
       "      <th>1</th>\n",
       "      <td>892177421306343426</td>\n",
       "      <td>Twitter for iPhone</td>\n",
       "      <td>This is Tilly. She's just checking pup on you....</td>\n",
       "      <td>Tilly</td>\n",
       "      <td>None</td>\n",
       "      <td>None</td>\n",
       "      <td>None</td>\n",
       "      <td>None</td>\n",
       "      <td>1.3</td>\n",
       "      <td>2017</td>\n",
       "      <td>8</td>\n",
       "      <td>1</td>\n",
       "    </tr>\n",
       "    <tr>\n",
       "      <th>2</th>\n",
       "      <td>891815181378084864</td>\n",
       "      <td>Twitter for iPhone</td>\n",
       "      <td>This is Archie. He is a rare Norwegian Pouncin...</td>\n",
       "      <td>Archie</td>\n",
       "      <td>None</td>\n",
       "      <td>None</td>\n",
       "      <td>None</td>\n",
       "      <td>None</td>\n",
       "      <td>1.2</td>\n",
       "      <td>2017</td>\n",
       "      <td>7</td>\n",
       "      <td>31</td>\n",
       "    </tr>\n",
       "    <tr>\n",
       "      <th>3</th>\n",
       "      <td>891689557279858688</td>\n",
       "      <td>Twitter for iPhone</td>\n",
       "      <td>This is Darla. She commenced a snooze mid meal...</td>\n",
       "      <td>Darla</td>\n",
       "      <td>None</td>\n",
       "      <td>None</td>\n",
       "      <td>None</td>\n",
       "      <td>None</td>\n",
       "      <td>1.3</td>\n",
       "      <td>2017</td>\n",
       "      <td>7</td>\n",
       "      <td>30</td>\n",
       "    </tr>\n",
       "    <tr>\n",
       "      <th>4</th>\n",
       "      <td>891327558926688256</td>\n",
       "      <td>Twitter for iPhone</td>\n",
       "      <td>This is Franklin. He would like you to stop ca...</td>\n",
       "      <td>Franklin</td>\n",
       "      <td>None</td>\n",
       "      <td>None</td>\n",
       "      <td>None</td>\n",
       "      <td>None</td>\n",
       "      <td>1.2</td>\n",
       "      <td>2017</td>\n",
       "      <td>7</td>\n",
       "      <td>29</td>\n",
       "    </tr>\n",
       "  </tbody>\n",
       "</table>\n",
       "</div>"
      ],
      "text/plain": [
       "             tweet_id              source  \\\n",
       "0  892420643555336193  Twitter for iPhone   \n",
       "1  892177421306343426  Twitter for iPhone   \n",
       "2  891815181378084864  Twitter for iPhone   \n",
       "3  891689557279858688  Twitter for iPhone   \n",
       "4  891327558926688256  Twitter for iPhone   \n",
       "\n",
       "                                                text      name doggo floofer  \\\n",
       "0  This is Phineas. He's a mystical boy. Only eve...   Phineas  None    None   \n",
       "1  This is Tilly. She's just checking pup on you....     Tilly  None    None   \n",
       "2  This is Archie. He is a rare Norwegian Pouncin...    Archie  None    None   \n",
       "3  This is Darla. She commenced a snooze mid meal...     Darla  None    None   \n",
       "4  This is Franklin. He would like you to stop ca...  Franklin  None    None   \n",
       "\n",
       "  pupper puppo  rating  year  month  day  \n",
       "0   None  None     1.3  2017      8    1  \n",
       "1   None  None     1.3  2017      8    1  \n",
       "2   None  None     1.2  2017      7   31  \n",
       "3   None  None     1.3  2017      7   30  \n",
       "4   None  None     1.2  2017      7   29  "
      ]
     },
     "execution_count": 82,
     "metadata": {},
     "output_type": "execute_result"
    }
   ],
   "source": [
    "archive_clean.head()"
   ]
  },
  {
   "cell_type": "markdown",
   "id": "bf4042e5",
   "metadata": {},
   "source": [
    "#### `Twitter archive`:  Columns floofer, doggo, pupper and puppo in the twiiter archive table should be in one column."
   ]
  },
  {
   "cell_type": "markdown",
   "id": "25bf94b2",
   "metadata": {},
   "source": [
    "##### Define\n",
    "\n",
    "- melt the floofer, doggo, pupper and puppo column"
   ]
  },
  {
   "cell_type": "markdown",
   "id": "2dfe426b",
   "metadata": {},
   "source": [
    "##### Code"
   ]
  },
  {
   "cell_type": "code",
   "execution_count": 83,
   "id": "039f22e6",
   "metadata": {},
   "outputs": [
    {
     "data": {
      "text/plain": [
       "array(['NoneNoneNoneNone', 'doggoNoneNoneNone', 'NoneNoneNonepuppo',\n",
       "       'NoneNonepupperNone', 'NoneflooferNoneNone', 'doggoNoneNonepuppo',\n",
       "       'doggoflooferNoneNone', 'doggoNonepupperNone'], dtype=object)"
      ]
     },
     "execution_count": 83,
     "metadata": {},
     "output_type": "execute_result"
    }
   ],
   "source": [
    "# concatenating all the columns\n",
    "archive_clean['stage'] = archive_clean.doggo + archive_clean.floofer + archive_clean.pupper + archive_clean.puppo\n",
    "archive_clean.stage.unique()"
   ]
  },
  {
   "cell_type": "code",
   "execution_count": 84,
   "id": "7531c6c9",
   "metadata": {},
   "outputs": [],
   "source": [
    "# assigning each concatenated record a value\n",
    "archive_clean.loc[archive_clean.stage == 'NoneNoneNoneNone', 'stage'] = np.nan\n",
    "archive_clean.loc[archive_clean.stage == 'doggoNoneNoneNone', 'stage'] = 'doggo'\n",
    "archive_clean.loc[archive_clean.stage == 'NoneNoneNonepuppo', 'stage'] = 'puppo'\n",
    "archive_clean.loc[archive_clean.stage == 'NoneNonepupperNone', 'stage'] = 'pupper'\n",
    "archive_clean.loc[archive_clean.stage == 'NoneflooferNoneNone', 'stage'] = 'floofer'\n",
    "archive_clean.loc[archive_clean.stage == 'doggoNoneNonepuppo', 'stage'] = 'doggopuppo'\n",
    "archive_clean.loc[archive_clean.stage == 'doggoNonepupperNone', 'stage'] = 'doggopupper'\n",
    "archive_clean.loc[archive_clean.stage == 'doggoflooferNoneNone', 'stage'] = 'doggofloofer'"
   ]
  },
  {
   "cell_type": "code",
   "execution_count": 85,
   "id": "8f1c56b6",
   "metadata": {},
   "outputs": [],
   "source": [
    "# since there are records with more than one stagem let's rename all of them to numerous\n",
    "dirty = ['doggopupper', 'doggopuppo', 'doggofloofer']\n",
    "\n",
    "# using loops to replace the multiple records to numerous\n",
    "for stage in archive_clean.stage:\n",
    "    if stage in dirty:\n",
    "        archive_clean['stage'] = archive_clean['stage'].replace(dirty,'numerous')"
   ]
  },
  {
   "cell_type": "code",
   "execution_count": 86,
   "id": "687431ec",
   "metadata": {},
   "outputs": [],
   "source": [
    "# Dropping the stages columns\n",
    "archive_clean.drop(columns=['doggo', 'floofer', 'pupper', 'puppo'], inplace=True)"
   ]
  },
  {
   "cell_type": "markdown",
   "id": "a41edc7e",
   "metadata": {},
   "source": [
    "##### Test"
   ]
  },
  {
   "cell_type": "code",
   "execution_count": 87,
   "id": "3e657217",
   "metadata": {},
   "outputs": [
    {
     "data": {
      "text/plain": [
       "pupper      224\n",
       "doggo        75\n",
       "puppo        24\n",
       "numerous     12\n",
       "floofer       9\n",
       "Name: stage, dtype: int64"
      ]
     },
     "execution_count": 87,
     "metadata": {},
     "output_type": "execute_result"
    }
   ],
   "source": [
    "# to check if we actually have those new values in the stages columns\n",
    "archive_clean.stage.value_counts()"
   ]
  },
  {
   "cell_type": "code",
   "execution_count": 88,
   "id": "7ccf9a64",
   "metadata": {},
   "outputs": [
    {
     "data": {
      "text/html": [
       "<div>\n",
       "<style scoped>\n",
       "    .dataframe tbody tr th:only-of-type {\n",
       "        vertical-align: middle;\n",
       "    }\n",
       "\n",
       "    .dataframe tbody tr th {\n",
       "        vertical-align: top;\n",
       "    }\n",
       "\n",
       "    .dataframe thead th {\n",
       "        text-align: right;\n",
       "    }\n",
       "</style>\n",
       "<table border=\"1\" class=\"dataframe\">\n",
       "  <thead>\n",
       "    <tr style=\"text-align: right;\">\n",
       "      <th></th>\n",
       "      <th>tweet_id</th>\n",
       "      <th>source</th>\n",
       "      <th>text</th>\n",
       "      <th>name</th>\n",
       "      <th>rating</th>\n",
       "      <th>year</th>\n",
       "      <th>month</th>\n",
       "      <th>day</th>\n",
       "      <th>stage</th>\n",
       "    </tr>\n",
       "  </thead>\n",
       "  <tbody>\n",
       "    <tr>\n",
       "      <th>0</th>\n",
       "      <td>892420643555336193</td>\n",
       "      <td>Twitter for iPhone</td>\n",
       "      <td>This is Phineas. He's a mystical boy. Only eve...</td>\n",
       "      <td>Phineas</td>\n",
       "      <td>1.3</td>\n",
       "      <td>2017</td>\n",
       "      <td>8</td>\n",
       "      <td>1</td>\n",
       "      <td>NaN</td>\n",
       "    </tr>\n",
       "    <tr>\n",
       "      <th>1</th>\n",
       "      <td>892177421306343426</td>\n",
       "      <td>Twitter for iPhone</td>\n",
       "      <td>This is Tilly. She's just checking pup on you....</td>\n",
       "      <td>Tilly</td>\n",
       "      <td>1.3</td>\n",
       "      <td>2017</td>\n",
       "      <td>8</td>\n",
       "      <td>1</td>\n",
       "      <td>NaN</td>\n",
       "    </tr>\n",
       "    <tr>\n",
       "      <th>2</th>\n",
       "      <td>891815181378084864</td>\n",
       "      <td>Twitter for iPhone</td>\n",
       "      <td>This is Archie. He is a rare Norwegian Pouncin...</td>\n",
       "      <td>Archie</td>\n",
       "      <td>1.2</td>\n",
       "      <td>2017</td>\n",
       "      <td>7</td>\n",
       "      <td>31</td>\n",
       "      <td>NaN</td>\n",
       "    </tr>\n",
       "    <tr>\n",
       "      <th>3</th>\n",
       "      <td>891689557279858688</td>\n",
       "      <td>Twitter for iPhone</td>\n",
       "      <td>This is Darla. She commenced a snooze mid meal...</td>\n",
       "      <td>Darla</td>\n",
       "      <td>1.3</td>\n",
       "      <td>2017</td>\n",
       "      <td>7</td>\n",
       "      <td>30</td>\n",
       "      <td>NaN</td>\n",
       "    </tr>\n",
       "    <tr>\n",
       "      <th>4</th>\n",
       "      <td>891327558926688256</td>\n",
       "      <td>Twitter for iPhone</td>\n",
       "      <td>This is Franklin. He would like you to stop ca...</td>\n",
       "      <td>Franklin</td>\n",
       "      <td>1.2</td>\n",
       "      <td>2017</td>\n",
       "      <td>7</td>\n",
       "      <td>29</td>\n",
       "      <td>NaN</td>\n",
       "    </tr>\n",
       "    <tr>\n",
       "      <th>5</th>\n",
       "      <td>891087950875897856</td>\n",
       "      <td>Twitter for iPhone</td>\n",
       "      <td>Here we have a majestic great white breaching ...</td>\n",
       "      <td>None</td>\n",
       "      <td>1.3</td>\n",
       "      <td>2017</td>\n",
       "      <td>7</td>\n",
       "      <td>29</td>\n",
       "      <td>NaN</td>\n",
       "    </tr>\n",
       "    <tr>\n",
       "      <th>6</th>\n",
       "      <td>890971913173991426</td>\n",
       "      <td>Twitter for iPhone</td>\n",
       "      <td>Meet Jax. He enjoys ice cream so much he gets ...</td>\n",
       "      <td>Jax</td>\n",
       "      <td>1.3</td>\n",
       "      <td>2017</td>\n",
       "      <td>7</td>\n",
       "      <td>28</td>\n",
       "      <td>NaN</td>\n",
       "    </tr>\n",
       "    <tr>\n",
       "      <th>7</th>\n",
       "      <td>890729181411237888</td>\n",
       "      <td>Twitter for iPhone</td>\n",
       "      <td>When you watch your owner call another dog a g...</td>\n",
       "      <td>None</td>\n",
       "      <td>1.3</td>\n",
       "      <td>2017</td>\n",
       "      <td>7</td>\n",
       "      <td>28</td>\n",
       "      <td>NaN</td>\n",
       "    </tr>\n",
       "    <tr>\n",
       "      <th>8</th>\n",
       "      <td>890609185150312448</td>\n",
       "      <td>Twitter for iPhone</td>\n",
       "      <td>This is Zoey. She doesn't want to be one of th...</td>\n",
       "      <td>Zoey</td>\n",
       "      <td>1.3</td>\n",
       "      <td>2017</td>\n",
       "      <td>7</td>\n",
       "      <td>27</td>\n",
       "      <td>NaN</td>\n",
       "    </tr>\n",
       "    <tr>\n",
       "      <th>9</th>\n",
       "      <td>890240255349198849</td>\n",
       "      <td>Twitter for iPhone</td>\n",
       "      <td>This is Cassie. She is a college pup. Studying...</td>\n",
       "      <td>Cassie</td>\n",
       "      <td>1.4</td>\n",
       "      <td>2017</td>\n",
       "      <td>7</td>\n",
       "      <td>26</td>\n",
       "      <td>doggo</td>\n",
       "    </tr>\n",
       "  </tbody>\n",
       "</table>\n",
       "</div>"
      ],
      "text/plain": [
       "             tweet_id              source  \\\n",
       "0  892420643555336193  Twitter for iPhone   \n",
       "1  892177421306343426  Twitter for iPhone   \n",
       "2  891815181378084864  Twitter for iPhone   \n",
       "3  891689557279858688  Twitter for iPhone   \n",
       "4  891327558926688256  Twitter for iPhone   \n",
       "5  891087950875897856  Twitter for iPhone   \n",
       "6  890971913173991426  Twitter for iPhone   \n",
       "7  890729181411237888  Twitter for iPhone   \n",
       "8  890609185150312448  Twitter for iPhone   \n",
       "9  890240255349198849  Twitter for iPhone   \n",
       "\n",
       "                                                text      name  rating  year  \\\n",
       "0  This is Phineas. He's a mystical boy. Only eve...   Phineas     1.3  2017   \n",
       "1  This is Tilly. She's just checking pup on you....     Tilly     1.3  2017   \n",
       "2  This is Archie. He is a rare Norwegian Pouncin...    Archie     1.2  2017   \n",
       "3  This is Darla. She commenced a snooze mid meal...     Darla     1.3  2017   \n",
       "4  This is Franklin. He would like you to stop ca...  Franklin     1.2  2017   \n",
       "5  Here we have a majestic great white breaching ...      None     1.3  2017   \n",
       "6  Meet Jax. He enjoys ice cream so much he gets ...       Jax     1.3  2017   \n",
       "7  When you watch your owner call another dog a g...      None     1.3  2017   \n",
       "8  This is Zoey. She doesn't want to be one of th...      Zoey     1.3  2017   \n",
       "9  This is Cassie. She is a college pup. Studying...    Cassie     1.4  2017   \n",
       "\n",
       "   month  day  stage  \n",
       "0      8    1    NaN  \n",
       "1      8    1    NaN  \n",
       "2      7   31    NaN  \n",
       "3      7   30    NaN  \n",
       "4      7   29    NaN  \n",
       "5      7   29    NaN  \n",
       "6      7   28    NaN  \n",
       "7      7   28    NaN  \n",
       "8      7   27    NaN  \n",
       "9      7   26  doggo  "
      ]
     },
     "execution_count": 88,
     "metadata": {},
     "output_type": "execute_result"
    }
   ],
   "source": [
    "archive_clean.head(10)"
   ]
  },
  {
   "cell_type": "markdown",
   "id": "1e4b54a8",
   "metadata": {},
   "source": [
    "##### Define\n",
    "\n",
    "- merge all the tables together"
   ]
  },
  {
   "cell_type": "markdown",
   "id": "81389be9",
   "metadata": {},
   "source": [
    "##### Code"
   ]
  },
  {
   "cell_type": "code",
   "execution_count": 89,
   "id": "a931a1f8",
   "metadata": {},
   "outputs": [
    {
     "name": "stdout",
     "output_type": "stream",
     "text": [
      "(2174, 9)\n",
      "(2075, 4)\n",
      "(2354, 3)\n"
     ]
    }
   ],
   "source": [
    "print(archive_clean.shape)\n",
    "print(prediction_clean.shape)\n",
    "print(json_clean.shape)"
   ]
  },
  {
   "cell_type": "code",
   "execution_count": 90,
   "id": "1e6179e2",
   "metadata": {},
   "outputs": [],
   "source": [
    "master_df = pd.merge(archive_clean, json_clean, on='tweet_id')\n",
    "master_df = pd.merge(master_df, prediction_clean, on = 'tweet_id')"
   ]
  },
  {
   "cell_type": "markdown",
   "id": "017a4473",
   "metadata": {},
   "source": [
    "##### Test"
   ]
  },
  {
   "cell_type": "code",
   "execution_count": 91,
   "id": "2dcb2760",
   "metadata": {},
   "outputs": [
    {
     "data": {
      "text/html": [
       "<div>\n",
       "<style scoped>\n",
       "    .dataframe tbody tr th:only-of-type {\n",
       "        vertical-align: middle;\n",
       "    }\n",
       "\n",
       "    .dataframe tbody tr th {\n",
       "        vertical-align: top;\n",
       "    }\n",
       "\n",
       "    .dataframe thead th {\n",
       "        text-align: right;\n",
       "    }\n",
       "</style>\n",
       "<table border=\"1\" class=\"dataframe\">\n",
       "  <thead>\n",
       "    <tr style=\"text-align: right;\">\n",
       "      <th></th>\n",
       "      <th>tweet_id</th>\n",
       "      <th>source</th>\n",
       "      <th>text</th>\n",
       "      <th>name</th>\n",
       "      <th>rating</th>\n",
       "      <th>year</th>\n",
       "      <th>month</th>\n",
       "      <th>day</th>\n",
       "      <th>stage</th>\n",
       "      <th>retweet_count</th>\n",
       "      <th>favorite_count</th>\n",
       "      <th>img_num</th>\n",
       "      <th>breed</th>\n",
       "      <th>confidence_level</th>\n",
       "    </tr>\n",
       "  </thead>\n",
       "  <tbody>\n",
       "    <tr>\n",
       "      <th>0</th>\n",
       "      <td>892420643555336193</td>\n",
       "      <td>Twitter for iPhone</td>\n",
       "      <td>This is Phineas. He's a mystical boy. Only eve...</td>\n",
       "      <td>Phineas</td>\n",
       "      <td>1.3</td>\n",
       "      <td>2017</td>\n",
       "      <td>8</td>\n",
       "      <td>1</td>\n",
       "      <td>NaN</td>\n",
       "      <td>8853</td>\n",
       "      <td>39467</td>\n",
       "      <td>1</td>\n",
       "      <td>None</td>\n",
       "      <td>0.00</td>\n",
       "    </tr>\n",
       "    <tr>\n",
       "      <th>1</th>\n",
       "      <td>892177421306343426</td>\n",
       "      <td>Twitter for iPhone</td>\n",
       "      <td>This is Tilly. She's just checking pup on you....</td>\n",
       "      <td>Tilly</td>\n",
       "      <td>1.3</td>\n",
       "      <td>2017</td>\n",
       "      <td>8</td>\n",
       "      <td>1</td>\n",
       "      <td>NaN</td>\n",
       "      <td>6514</td>\n",
       "      <td>33819</td>\n",
       "      <td>1</td>\n",
       "      <td>chihuahua</td>\n",
       "      <td>32.36</td>\n",
       "    </tr>\n",
       "    <tr>\n",
       "      <th>2</th>\n",
       "      <td>891815181378084864</td>\n",
       "      <td>Twitter for iPhone</td>\n",
       "      <td>This is Archie. He is a rare Norwegian Pouncin...</td>\n",
       "      <td>Archie</td>\n",
       "      <td>1.2</td>\n",
       "      <td>2017</td>\n",
       "      <td>7</td>\n",
       "      <td>31</td>\n",
       "      <td>NaN</td>\n",
       "      <td>4328</td>\n",
       "      <td>25461</td>\n",
       "      <td>1</td>\n",
       "      <td>chihuahua</td>\n",
       "      <td>71.60</td>\n",
       "    </tr>\n",
       "    <tr>\n",
       "      <th>3</th>\n",
       "      <td>891689557279858688</td>\n",
       "      <td>Twitter for iPhone</td>\n",
       "      <td>This is Darla. She commenced a snooze mid meal...</td>\n",
       "      <td>Darla</td>\n",
       "      <td>1.3</td>\n",
       "      <td>2017</td>\n",
       "      <td>7</td>\n",
       "      <td>30</td>\n",
       "      <td>NaN</td>\n",
       "      <td>8964</td>\n",
       "      <td>42908</td>\n",
       "      <td>1</td>\n",
       "      <td>labrador_retriever</td>\n",
       "      <td>16.81</td>\n",
       "    </tr>\n",
       "    <tr>\n",
       "      <th>4</th>\n",
       "      <td>891327558926688256</td>\n",
       "      <td>Twitter for iPhone</td>\n",
       "      <td>This is Franklin. He would like you to stop ca...</td>\n",
       "      <td>Franklin</td>\n",
       "      <td>1.2</td>\n",
       "      <td>2017</td>\n",
       "      <td>7</td>\n",
       "      <td>29</td>\n",
       "      <td>NaN</td>\n",
       "      <td>9774</td>\n",
       "      <td>41048</td>\n",
       "      <td>2</td>\n",
       "      <td>basset</td>\n",
       "      <td>55.57</td>\n",
       "    </tr>\n",
       "  </tbody>\n",
       "</table>\n",
       "</div>"
      ],
      "text/plain": [
       "             tweet_id              source  \\\n",
       "0  892420643555336193  Twitter for iPhone   \n",
       "1  892177421306343426  Twitter for iPhone   \n",
       "2  891815181378084864  Twitter for iPhone   \n",
       "3  891689557279858688  Twitter for iPhone   \n",
       "4  891327558926688256  Twitter for iPhone   \n",
       "\n",
       "                                                text      name  rating  year  \\\n",
       "0  This is Phineas. He's a mystical boy. Only eve...   Phineas     1.3  2017   \n",
       "1  This is Tilly. She's just checking pup on you....     Tilly     1.3  2017   \n",
       "2  This is Archie. He is a rare Norwegian Pouncin...    Archie     1.2  2017   \n",
       "3  This is Darla. She commenced a snooze mid meal...     Darla     1.3  2017   \n",
       "4  This is Franklin. He would like you to stop ca...  Franklin     1.2  2017   \n",
       "\n",
       "   month  day stage  retweet_count  favorite_count  img_num  \\\n",
       "0      8    1   NaN           8853           39467        1   \n",
       "1      8    1   NaN           6514           33819        1   \n",
       "2      7   31   NaN           4328           25461        1   \n",
       "3      7   30   NaN           8964           42908        1   \n",
       "4      7   29   NaN           9774           41048        2   \n",
       "\n",
       "                breed  confidence_level  \n",
       "0                None              0.00  \n",
       "1           chihuahua             32.36  \n",
       "2           chihuahua             71.60  \n",
       "3  labrador_retriever             16.81  \n",
       "4              basset             55.57  "
      ]
     },
     "execution_count": 91,
     "metadata": {},
     "output_type": "execute_result"
    }
   ],
   "source": [
    "master_df.head()"
   ]
  },
  {
   "cell_type": "code",
   "execution_count": 92,
   "id": "8dbcafe5",
   "metadata": {},
   "outputs": [
    {
     "data": {
      "text/plain": [
       "(1994, 14)"
      ]
     },
     "execution_count": 92,
     "metadata": {},
     "output_type": "execute_result"
    }
   ],
   "source": [
    "master_df.shape"
   ]
  },
  {
   "cell_type": "markdown",
   "id": "2c70c90d",
   "metadata": {},
   "source": [
    "## Data Storing"
   ]
  },
  {
   "cell_type": "code",
   "execution_count": 93,
   "id": "d5328a99",
   "metadata": {},
   "outputs": [],
   "source": [
    "# Saving the cleaned dataframe to a .csv file\n",
    "master_df.to_csv('twitter_archive_master.csv', index=False)"
   ]
  },
  {
   "cell_type": "markdown",
   "id": "5d13f8f5",
   "metadata": {},
   "source": [
    "## Data Analysis and Visualization"
   ]
  },
  {
   "cell_type": "code",
   "execution_count": 94,
   "id": "d701a59d",
   "metadata": {},
   "outputs": [
    {
     "data": {
      "text/plain": [
       "array([[<AxesSubplot:title={'center':'tweet_id'}>,\n",
       "        <AxesSubplot:title={'center':'rating'}>,\n",
       "        <AxesSubplot:title={'center':'year'}>],\n",
       "       [<AxesSubplot:title={'center':'month'}>,\n",
       "        <AxesSubplot:title={'center':'day'}>,\n",
       "        <AxesSubplot:title={'center':'retweet_count'}>],\n",
       "       [<AxesSubplot:title={'center':'favorite_count'}>,\n",
       "        <AxesSubplot:title={'center':'img_num'}>,\n",
       "        <AxesSubplot:title={'center':'confidence_level'}>]], dtype=object)"
      ]
     },
     "execution_count": 94,
     "metadata": {},
     "output_type": "execute_result"
    },
    {
     "data": {
      "image/png": "[encoded data removed]",
      "text/plain": [
       "<Figure size 432x288 with 9 Axes>"
      ]
     },
     "metadata": {},
     "output_type": "display_data"
    }
   ],
   "source": [
    "# let's begin with lookin at the distribution of the data\n",
    "master_df.hist()"
   ]
  },
  {
   "cell_type": "markdown",
   "id": "524c3bbd",
   "metadata": {},
   "source": [
    "### 1. What is the most retweeted tweet"
   ]
  },
  {
   "cell_type": "code",
   "execution_count": 95,
   "id": "9291c9bd",
   "metadata": {},
   "outputs": [
    {
     "data": {
      "text/plain": [
       "775    79515\n",
       "400    56625\n",
       "810    52360\n",
       "309    48265\n",
       "58     45849\n",
       "Name: retweet_count, dtype: int64"
      ]
     },
     "execution_count": 95,
     "metadata": {},
     "output_type": "execute_result"
    }
   ],
   "source": [
    "# getting the indexes of the most retweeted tweet\n",
    "master_df['retweet_count'].nlargest()"
   ]
  },
  {
   "cell_type": "code",
   "execution_count": 96,
   "id": "f263af22",
   "metadata": {
    "scrolled": true
   },
   "outputs": [
    {
     "data": {
      "text/plain": [
       "tweet_id                                           744234799360020481\n",
       "source                                             Twitter for iPhone\n",
       "text                Here's a doggo realizing you can stand in a po...\n",
       "name                                                             None\n",
       "rating                                                            1.3\n",
       "year                                                             2016\n",
       "month                                                               6\n",
       "day                                                                18\n",
       "stage                                                           doggo\n",
       "retweet_count                                                   79515\n",
       "favorite_count                                                 131075\n",
       "img_num                                                             1\n",
       "breed                                              labrador_retriever\n",
       "confidence_level                                                82.53\n",
       "Name: 775, dtype: object"
      ]
     },
     "execution_count": 96,
     "metadata": {},
     "output_type": "execute_result"
    }
   ],
   "source": [
    "# querying for further information for the record with highest number of retweets\n",
    "master_df.iloc[775]"
   ]
  },
  {
   "cell_type": "markdown",
   "id": "cc4b19c0",
   "metadata": {},
   "source": [
    "- The most retweeted tweet on We Rate Dog is the tweet with an id number of `744234799360020481` which source was from `Twitter for iPhone`. This tweet was made on `18 June 2016` and it was favourited `131075` times and retweeted `79515` times. Based on predictions, it is assummed to be of a `labrador_retriever` breed having a confidence level of `82.53%`. It has a rating of `1.3`."
   ]
  },
  {
   "cell_type": "markdown",
   "id": "e4a17964",
   "metadata": {},
   "source": [
    "### 2. What is the most favourited tweet"
   ]
  },
  {
   "cell_type": "code",
   "execution_count": 97,
   "id": "cde205e3",
   "metadata": {
    "scrolled": true
   },
   "outputs": [
    {
     "data": {
      "text/plain": [
       "309    132810\n",
       "775    131075\n",
       "58     107956\n",
       "400    107015\n",
       "108    106827\n",
       "Name: favorite_count, dtype: int64"
      ]
     },
     "execution_count": 97,
     "metadata": {},
     "output_type": "execute_result"
    }
   ],
   "source": [
    "# getting the index with the most favourited tweet\n",
    "master_df['favorite_count'].nlargest()"
   ]
  },
  {
   "cell_type": "code",
   "execution_count": 98,
   "id": "1b1477c6",
   "metadata": {},
   "outputs": [
    {
     "data": {
      "text/plain": [
       "tweet_id                                           822872901745569793\n",
       "source                                             Twitter for iPhone\n",
       "text                Here's a super supportive puppo participating ...\n",
       "name                                                             None\n",
       "rating                                                            1.3\n",
       "year                                                             2017\n",
       "month                                                               1\n",
       "day                                                                21\n",
       "stage                                                           puppo\n",
       "retweet_count                                                   48265\n",
       "favorite_count                                                 132810\n",
       "img_num                                                             1\n",
       "breed                                                lakeland_terrier\n",
       "confidence_level                                                 19.6\n",
       "Name: 309, dtype: object"
      ]
     },
     "execution_count": 98,
     "metadata": {},
     "output_type": "execute_result"
    }
   ],
   "source": [
    "master_df.iloc[309]"
   ]
  },
  {
   "cell_type": "markdown",
   "id": "0d8d101a",
   "metadata": {},
   "source": [
    "- The most retweeted tweet on We Rate Dog is the tweet with an id number of `822872901745569793` which source was from `Twitter for iPhone`. This tweet was made on `21 January 2017` and it was favourited `132810` times and retweeted `48265` times. Based on predictions, it is assummed to be of a `lakeland_terrier` breed having a confidence level of `19.60%`. It has a rating of `1.3`."
   ]
  },
  {
   "cell_type": "markdown",
   "id": "49b1acdc",
   "metadata": {},
   "source": [
    "### 3. Is there a relationship between retweets and favourites"
   ]
  },
  {
   "cell_type": "code",
   "execution_count": 99,
   "id": "d9359c89",
   "metadata": {
    "scrolled": true
   },
   "outputs": [
    {
     "data": {
      "image/png": "[encoded data removed]",
      "text/plain": [
       "<Figure size 720x360 with 1 Axes>"
      ]
     },
     "metadata": {},
     "output_type": "display_data"
    }
   ],
   "source": [
    "# creating a scatter plot to show correlation\n",
    "fig = plt.figure(figsize=(10,5))\n",
    "plt.scatter(master_df['favorite_count'], master_df['retweet_count'])\n",
    "plt.title('Correlation of Retweets and Favourites', fontsize=15)\n",
    "plt.xlabel('Number of Favourites', fontsize=12)\n",
    "plt.ylabel('Number of Retweets', fontsize=12)\n",
    "\n",
    "plt.savefig('corr_ret.png')\n",
    "plt.show()"
   ]
  },
  {
   "cell_type": "markdown",
   "id": "6c3fc5dd",
   "metadata": {},
   "source": [
    "- According to the scatter plot above, it shows that there is a positive correlation between Retweets and Favourites but since there was no statistical operation performed here we can't be certain."
   ]
  },
  {
   "cell_type": "markdown",
   "id": "b24b4555",
   "metadata": {},
   "source": [
    "### 4. What year was the highest number of tweet created"
   ]
  },
  {
   "cell_type": "code",
   "execution_count": 100,
   "id": "91db9927",
   "metadata": {},
   "outputs": [],
   "source": [
    "high_tweet = master_df.groupby(['year','month'])['tweet_id'].count()"
   ]
  },
  {
   "cell_type": "code",
   "execution_count": 101,
   "id": "24fd7f60",
   "metadata": {},
   "outputs": [
    {
     "data": {
      "text/plain": [
       "year  month\n",
       "2015  11       296\n",
       "      12       367\n",
       "2016  1        169\n",
       "      2        111\n",
       "      3        120\n",
       "      4         54\n",
       "      5         57\n",
       "      6         81\n",
       "      7         88\n",
       "      8         59\n",
       "      9         63\n",
       "      10        65\n",
       "      11        53\n",
       "      12        54\n",
       "2017  1         66\n",
       "      2         64\n",
       "      3         48\n",
       "      4         41\n",
       "      5         43\n",
       "      6         44\n",
       "      7         49\n",
       "      8          2\n",
       "Name: tweet_id, dtype: int64"
      ]
     },
     "execution_count": 101,
     "metadata": {},
     "output_type": "execute_result"
    }
   ],
   "source": [
    "high_tweet"
   ]
  },
  {
   "cell_type": "code",
   "execution_count": 102,
   "id": "71fb9373",
   "metadata": {
    "scrolled": true
   },
   "outputs": [
    {
     "data": {
      "image/png": "[encoded data removed]",
      "text/plain": [
       "<Figure size 720x360 with 1 Axes>"
      ]
     },
     "metadata": {},
     "output_type": "display_data"
    }
   ],
   "source": [
    "# visualizing the data above on a bar chart\n",
    "fig = plt.figure(figsize = (10,5))\n",
    "high_tweet.plot(kind='bar')\n",
    "plt.title('Month and Year with the highest number of tweets', fontsize=15)\n",
    "plt.xlabel('Year and Month', fontsize =12)\n",
    "plt.ylabel('Number of tweets', fontsize =12)\n",
    "\n",
    "\n",
    "plt.savefig('bar_tweet.png')\n",
    "plt.show()"
   ]
  },
  {
   "cell_type": "markdown",
   "id": "b131f7ce",
   "metadata": {},
   "source": [
    "- It can clearly be seen from the plot above that the highest number of tweets which is `367` was made in the month of December and in the year 2015. The number of tweets being created has been depreciating over the years."
   ]
  },
  {
   "cell_type": "markdown",
   "id": "ef93e9e6",
   "metadata": {},
   "source": [
    "### 5. What dog breed has the highest favourited tweet and retweeted tweet"
   ]
  },
  {
   "cell_type": "code",
   "execution_count": 103,
   "id": "54a7cffb",
   "metadata": {},
   "outputs": [
    {
     "data": {
      "text/plain": [
       "breed\n",
       "golden_retriever      1946934\n",
       "labrador_retriever    1274526\n",
       "pembroke              1039484\n",
       "chihuahua              746604\n",
       "samoyed                583906\n",
       "french_bulldog         570921\n",
       "chow                   446933\n",
       "cocker_spaniel         407412\n",
       "pug                    383817\n",
       "toy_poodle             339068\n",
       "Name: favorite_count, dtype: int64"
      ]
     },
     "execution_count": 103,
     "metadata": {},
     "output_type": "execute_result"
    }
   ],
   "source": [
    "# querying for only breeds with a name other than None\n",
    "breed_count = master_df[master_df.breed != 'None']\n",
    "# grouping by breed while summing the favourite_count\n",
    "breed_count = breed_count.groupby('breed')['favorite_count'].sum()\n",
    "# sorting the values in descending order\n",
    "breed_count = breed_count.sort_values(ascending=False)\n",
    "# querying for the top 10 highest favourited tweets\n",
    "breed_count_10 = breed_count.head(10)\n",
    "breed_count_10"
   ]
  },
  {
   "cell_type": "code",
   "execution_count": 104,
   "id": "4ef8eb63",
   "metadata": {
    "scrolled": true
   },
   "outputs": [
    {
     "data": {
      "image/png": "[encoded data removed]",
      "text/plain": [
       "<Figure size 720x360 with 1 Axes>"
      ]
     },
     "metadata": {},
     "output_type": "display_data"
    }
   ],
   "source": [
    "def plot(data,title,xlabel):\n",
    "    data.plot(kind='barh', figsize=(10,5))\n",
    "    plt.title(title, fontsize=15)\n",
    "    plt.ylabel('Breed of Dog', fontsize=12)\n",
    "    plt.xlabel(xlabel, fontsize=12)\n",
    "    \n",
    "    \n",
    "    \n",
    "plot(breed_count_10,'Dog breed with the highest favourited tweet','Number of favourited tweet')\n",
    "plt.savefig('bar_fav.png')\n",
    "plt.show()"
   ]
  },
  {
   "cell_type": "markdown",
   "id": "b81cc463",
   "metadata": {},
   "source": [
    "- From the plot above it is clear that the breed of dog with the highest number of favourited tweet  is the `Golden Retriever` which favourited for a total `1946934` times. The second being `Labrador Retriever` which was favourited for a total of `1274526` times."
   ]
  },
  {
   "cell_type": "code",
   "execution_count": 105,
   "id": "a55afeba",
   "metadata": {
    "scrolled": false
   },
   "outputs": [
    {
     "data": {
      "text/plain": [
       "breed\n",
       "golden_retriever      587528\n",
       "labrador_retriever    407573\n",
       "pembroke              292052\n",
       "chihuahua             251807\n",
       "samoyed               203446\n",
       "french_bulldog        156230\n",
       "cocker_spaniel        145743\n",
       "chow                  131025\n",
       "pug                   118682\n",
       "toy_poodle            115768\n",
       "Name: retweet_count, dtype: int64"
      ]
     },
     "execution_count": 105,
     "metadata": {},
     "output_type": "execute_result"
    }
   ],
   "source": [
    "# querying for only breeds with a name other than None\n",
    "breed_count2 = master_df[master_df.breed != 'None']\n",
    "# grouping by breed while summing the favourite_count\n",
    "breed_count2 = breed_count2.groupby('breed')['retweet_count'].sum()\n",
    "# sorting the values in descending order\n",
    "breed_count2 = breed_count2.sort_values(ascending=False)\n",
    "# querying for the top 10 highest retweeted tweets\n",
    "breed_count_10_2 = breed_count2.head(10)\n",
    "breed_count_10_2"
   ]
  },
  {
   "cell_type": "code",
   "execution_count": 106,
   "id": "289c87c8",
   "metadata": {
    "scrolled": true
   },
   "outputs": [
    {
     "data": {
      "image/png": "[encoded data removed]",
      "text/plain": [
       "<Figure size 720x360 with 1 Axes>"
      ]
     },
     "metadata": {},
     "output_type": "display_data"
    }
   ],
   "source": [
    "plot(breed_count_10_2,'Dog breed with the highest retweeted tweet','Number of retweeted tweet')\n",
    "plt.savefig('bar_retw.png')\n",
    "plt.show()"
   ]
  },
  {
   "cell_type": "markdown",
   "id": "d066672d",
   "metadata": {},
   "source": [
    "- From the plot above it is clear that the breed of dog with the highest number of retweeted tweet  is the `Golden Retriever` which retweeted for a total `587528` times. The second being `Labrador Retriever` which was retweeted for a total of `407573` times."
   ]
  },
  {
   "cell_type": "markdown",
   "id": "4bce24df",
   "metadata": {},
   "source": [
    "### 6. What is the relationship between the ratings and the number of retweets"
   ]
  },
  {
   "cell_type": "code",
   "execution_count": 107,
   "id": "3a3c8e01",
   "metadata": {},
   "outputs": [
    {
     "data": {
      "image/png": "[encoded data removed]",
      "text/plain": [
       "<Figure size 720x360 with 1 Axes>"
      ]
     },
     "metadata": {},
     "output_type": "display_data"
    }
   ],
   "source": [
    "master_df.plot(x='retweet_count', y='rating', kind='scatter',color='blue', figsize=(10,5))\n",
    "plt.title('Correlation between rating and number of retweets', fontsize=15)\n",
    "plt.xlabel('Number of retweets', fontsize=12)\n",
    "plt.ylabel('Ratings', fontsize=12)\n",
    "\n",
    "\n",
    "plt.savefig('corr_rate.png')\n",
    "plt.show()"
   ]
  },
  {
   "cell_type": "markdown",
   "id": "c11ec337",
   "metadata": {},
   "source": [
    "- It is clear from the graph above that there is no correlation between the ratings and the number of retweets. That is, the tweets with the highest ratings do not necessarily receive more retweets."
   ]
  },
  {
   "cell_type": "markdown",
   "id": "ccefb300",
   "metadata": {},
   "source": [
    "### 7. What is the most common dog breed to be tweeted about"
   ]
  },
  {
   "cell_type": "code",
   "execution_count": 108,
   "id": "ec03a0fb",
   "metadata": {},
   "outputs": [],
   "source": [
    "common_dog_breed = master_df.groupby('breed')['tweet_id'].count()\n",
    "common_dog_breed = common_dog_breed.sort_values(ascending=False)\n",
    "# getting the top 5 most common breed to be tweeted about\n",
    "common_dog_breed = common_dog_breed.head(5)"
   ]
  },
  {
   "cell_type": "code",
   "execution_count": 109,
   "id": "e12bfc1d",
   "metadata": {
    "scrolled": true
   },
   "outputs": [
    {
     "data": {
      "text/plain": [
       "breed\n",
       "golden_retriever      158\n",
       "labrador_retriever    108\n",
       "pembroke               95\n",
       "chihuahua              91\n",
       "pug                    62\n",
       "Name: tweet_id, dtype: int64"
      ]
     },
     "execution_count": 109,
     "metadata": {},
     "output_type": "execute_result"
    }
   ],
   "source": [
    "common_dog_breed"
   ]
  },
  {
   "cell_type": "code",
   "execution_count": 110,
   "id": "e46565ef",
   "metadata": {},
   "outputs": [
    {
     "data": {
      "image/png": "[encoded data removed]",
      "text/plain": [
       "<Figure size 1080x720 with 1 Axes>"
      ]
     },
     "metadata": {},
     "output_type": "display_data"
    }
   ],
   "source": [
    "# plotting the data\n",
    "my_labels = ['golden_retriever','labrador_retriever','pembroke','chihuahua','pug']\n",
    "my_explode = [0.2,0,0,0,0]\n",
    "\n",
    "fig = plt.figure(figsize=(15,10))\n",
    "plt.pie(common_dog_breed, labels=my_labels, startangle=90, explode=my_explode, autopct='%.0f%%')\n",
    "plt.title('Most common dog breed', fontsize = 15)\n",
    "plt.legend(title='Top 5 common dogs:', loc=1)\n",
    "\n",
    "plt.savefig('pie_breed.png')"
   ]
  },
  {
   "cell_type": "markdown",
   "id": "5c96a24a",
   "metadata": {},
   "source": [
    "- From the visualiation above, it can be deduced that the most common breed of dog to be tweeted about is `golden retriever`  which commands 31% of the popularity amongst the top 5 and a total number of `158` tweets to be created about the breed.  It has about 50 tweets more than the next most popular breed which is `labrador_retriever` having a total number of `108` tweets."
   ]
  }
 ],
 "metadata": {
  "kernelspec": {
   "display_name": "Python 3 (ipykernel)",
   "language": "python",
   "name": "python3"
  },
  "language_info": {
   "codemirror_mode": {
    "name": "ipython",
    "version": 3
   },
   "file_extension": ".py",
   "mimetype": "text/x-python",
   "name": "python",
   "nbconvert_exporter": "python",
   "pygments_lexer": "ipython3",
   "version": "3.8.8"
  }
 },
 "nbformat": 4,
 "nbformat_minor": 5
}
